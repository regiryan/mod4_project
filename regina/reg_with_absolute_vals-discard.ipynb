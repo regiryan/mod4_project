{
 "cells": [
  {
   "cell_type": "code",
   "execution_count": 1,
   "metadata": {},
   "outputs": [],
   "source": [
    "import pandas as pd\n",
    "import numpy as np\n",
    "import matplotlib.pyplot as plt\n",
    "%matplotlib inline\n",
    "import statsmodels.api as sm\n",
    "from statsmodels.formula.api import ols\n",
    "import seaborn as sns\n",
    "import scipy.stats as stats\n",
    "\n",
    "pd.set_option('display.max_columns', 500)\n"
   ]
  },
  {
   "cell_type": "code",
   "execution_count": 2,
   "metadata": {},
   "outputs": [],
   "source": [
    "df = pd.read_csv('/Users/regi/Flatiron/mod4_project/cleaned_data/final_df.csv')"
   ]
  },
  {
   "cell_type": "code",
   "execution_count": 3,
   "metadata": {},
   "outputs": [],
   "source": [
    "df['County_index'] = df['CHSI_County_Name'] + ', ' + df['CHSI_State_Abbr']"
   ]
  },
  {
   "cell_type": "code",
   "execution_count": 4,
   "metadata": {},
   "outputs": [
    {
     "data": {
      "text/html": [
       "<div>\n",
       "<style scoped>\n",
       "    .dataframe tbody tr th:only-of-type {\n",
       "        vertical-align: middle;\n",
       "    }\n",
       "\n",
       "    .dataframe tbody tr th {\n",
       "        vertical-align: top;\n",
       "    }\n",
       "\n",
       "    .dataframe thead th {\n",
       "        text-align: right;\n",
       "    }\n",
       "</style>\n",
       "<table border=\"1\" class=\"dataframe\">\n",
       "  <thead>\n",
       "    <tr style=\"text-align: right;\">\n",
       "      <th></th>\n",
       "      <th>State_FIPS_Code</th>\n",
       "      <th>County_FIPS_Code</th>\n",
       "      <th>CHSI_County_Name</th>\n",
       "      <th>CHSI_State_Name</th>\n",
       "      <th>CHSI_State_Abbr</th>\n",
       "      <th>Population_Size</th>\n",
       "      <th>Poverty</th>\n",
       "      <th>Age_19_Under</th>\n",
       "      <th>Age_19_64</th>\n",
       "      <th>Age_65_84</th>\n",
       "      <th>Age_85_and_Over</th>\n",
       "      <th>White</th>\n",
       "      <th>Black</th>\n",
       "      <th>Native_American</th>\n",
       "      <th>Asian</th>\n",
       "      <th>Hispanic</th>\n",
       "      <th>Pop_proportion</th>\n",
       "      <th>No_Exercise</th>\n",
       "      <th>Few_Fruit_Veg</th>\n",
       "      <th>Obesity</th>\n",
       "      <th>High_Blood_Pres</th>\n",
       "      <th>Smoker</th>\n",
       "      <th>Diabetes</th>\n",
       "      <th>Uninsured</th>\n",
       "      <th>County_index</th>\n",
       "    </tr>\n",
       "  </thead>\n",
       "  <tbody>\n",
       "    <tr>\n",
       "      <th>0</th>\n",
       "      <td>1</td>\n",
       "      <td>1</td>\n",
       "      <td>Autauga</td>\n",
       "      <td>Alabama</td>\n",
       "      <td>AL</td>\n",
       "      <td>48612</td>\n",
       "      <td>10.4</td>\n",
       "      <td>26.9</td>\n",
       "      <td>62.3</td>\n",
       "      <td>9.8</td>\n",
       "      <td>0.9</td>\n",
       "      <td>80.7</td>\n",
       "      <td>17.3</td>\n",
       "      <td>0.5</td>\n",
       "      <td>0.6</td>\n",
       "      <td>1.7</td>\n",
       "      <td>0.016400</td>\n",
       "      <td>27.800</td>\n",
       "      <td>78.60</td>\n",
       "      <td>24.500000</td>\n",
       "      <td>29.1</td>\n",
       "      <td>26.600000</td>\n",
       "      <td>14.2</td>\n",
       "      <td>11.70</td>\n",
       "      <td>Autauga, AL</td>\n",
       "    </tr>\n",
       "    <tr>\n",
       "      <th>1</th>\n",
       "      <td>1</td>\n",
       "      <td>3</td>\n",
       "      <td>Baldwin</td>\n",
       "      <td>Alabama</td>\n",
       "      <td>AL</td>\n",
       "      <td>162586</td>\n",
       "      <td>10.2</td>\n",
       "      <td>23.5</td>\n",
       "      <td>60.3</td>\n",
       "      <td>14.5</td>\n",
       "      <td>1.8</td>\n",
       "      <td>88.4</td>\n",
       "      <td>9.9</td>\n",
       "      <td>0.5</td>\n",
       "      <td>0.4</td>\n",
       "      <td>2.3</td>\n",
       "      <td>0.054852</td>\n",
       "      <td>27.200</td>\n",
       "      <td>76.20</td>\n",
       "      <td>23.600000</td>\n",
       "      <td>30.5</td>\n",
       "      <td>24.600000</td>\n",
       "      <td>7.2</td>\n",
       "      <td>12.18</td>\n",
       "      <td>Baldwin, AL</td>\n",
       "    </tr>\n",
       "    <tr>\n",
       "      <th>2</th>\n",
       "      <td>1</td>\n",
       "      <td>5</td>\n",
       "      <td>Barbour</td>\n",
       "      <td>Alabama</td>\n",
       "      <td>AL</td>\n",
       "      <td>28414</td>\n",
       "      <td>22.1</td>\n",
       "      <td>24.3</td>\n",
       "      <td>62.5</td>\n",
       "      <td>11.6</td>\n",
       "      <td>1.6</td>\n",
       "      <td>52.2</td>\n",
       "      <td>46.8</td>\n",
       "      <td>0.4</td>\n",
       "      <td>0.3</td>\n",
       "      <td>3.1</td>\n",
       "      <td>0.009586</td>\n",
       "      <td>29.795</td>\n",
       "      <td>80.08</td>\n",
       "      <td>25.600000</td>\n",
       "      <td>31.6</td>\n",
       "      <td>17.700000</td>\n",
       "      <td>6.6</td>\n",
       "      <td>18.04</td>\n",
       "      <td>Barbour, AL</td>\n",
       "    </tr>\n",
       "    <tr>\n",
       "      <th>3</th>\n",
       "      <td>1</td>\n",
       "      <td>7</td>\n",
       "      <td>Bibb</td>\n",
       "      <td>Alabama</td>\n",
       "      <td>AL</td>\n",
       "      <td>21516</td>\n",
       "      <td>16.8</td>\n",
       "      <td>24.6</td>\n",
       "      <td>63.3</td>\n",
       "      <td>10.9</td>\n",
       "      <td>1.2</td>\n",
       "      <td>76.8</td>\n",
       "      <td>22.5</td>\n",
       "      <td>0.3</td>\n",
       "      <td>0.1</td>\n",
       "      <td>1.4</td>\n",
       "      <td>0.007259</td>\n",
       "      <td>29.795</td>\n",
       "      <td>86.60</td>\n",
       "      <td>26.897561</td>\n",
       "      <td>31.6</td>\n",
       "      <td>23.822917</td>\n",
       "      <td>13.1</td>\n",
       "      <td>15.41</td>\n",
       "      <td>Bibb, AL</td>\n",
       "    </tr>\n",
       "    <tr>\n",
       "      <th>4</th>\n",
       "      <td>1</td>\n",
       "      <td>9</td>\n",
       "      <td>Blount</td>\n",
       "      <td>Alabama</td>\n",
       "      <td>AL</td>\n",
       "      <td>55725</td>\n",
       "      <td>11.9</td>\n",
       "      <td>24.5</td>\n",
       "      <td>62.1</td>\n",
       "      <td>12.1</td>\n",
       "      <td>1.3</td>\n",
       "      <td>97.1</td>\n",
       "      <td>1.5</td>\n",
       "      <td>0.5</td>\n",
       "      <td>0.2</td>\n",
       "      <td>6.3</td>\n",
       "      <td>0.018800</td>\n",
       "      <td>33.500</td>\n",
       "      <td>74.60</td>\n",
       "      <td>24.200000</td>\n",
       "      <td>31.6</td>\n",
       "      <td>23.600000</td>\n",
       "      <td>8.4</td>\n",
       "      <td>14.59</td>\n",
       "      <td>Blount, AL</td>\n",
       "    </tr>\n",
       "  </tbody>\n",
       "</table>\n",
       "</div>"
      ],
      "text/plain": [
       "   State_FIPS_Code  County_FIPS_Code CHSI_County_Name CHSI_State_Name  \\\n",
       "0                1                 1          Autauga         Alabama   \n",
       "1                1                 3          Baldwin         Alabama   \n",
       "2                1                 5          Barbour         Alabama   \n",
       "3                1                 7             Bibb         Alabama   \n",
       "4                1                 9           Blount         Alabama   \n",
       "\n",
       "  CHSI_State_Abbr  Population_Size  Poverty  Age_19_Under  Age_19_64  \\\n",
       "0              AL            48612     10.4          26.9       62.3   \n",
       "1              AL           162586     10.2          23.5       60.3   \n",
       "2              AL            28414     22.1          24.3       62.5   \n",
       "3              AL            21516     16.8          24.6       63.3   \n",
       "4              AL            55725     11.9          24.5       62.1   \n",
       "\n",
       "   Age_65_84  Age_85_and_Over  White  Black  Native_American  Asian  Hispanic  \\\n",
       "0        9.8              0.9   80.7   17.3              0.5    0.6       1.7   \n",
       "1       14.5              1.8   88.4    9.9              0.5    0.4       2.3   \n",
       "2       11.6              1.6   52.2   46.8              0.4    0.3       3.1   \n",
       "3       10.9              1.2   76.8   22.5              0.3    0.1       1.4   \n",
       "4       12.1              1.3   97.1    1.5              0.5    0.2       6.3   \n",
       "\n",
       "   Pop_proportion  No_Exercise  Few_Fruit_Veg    Obesity  High_Blood_Pres  \\\n",
       "0        0.016400       27.800          78.60  24.500000             29.1   \n",
       "1        0.054852       27.200          76.20  23.600000             30.5   \n",
       "2        0.009586       29.795          80.08  25.600000             31.6   \n",
       "3        0.007259       29.795          86.60  26.897561             31.6   \n",
       "4        0.018800       33.500          74.60  24.200000             31.6   \n",
       "\n",
       "      Smoker  Diabetes  Uninsured County_index  \n",
       "0  26.600000      14.2      11.70  Autauga, AL  \n",
       "1  24.600000       7.2      12.18  Baldwin, AL  \n",
       "2  17.700000       6.6      18.04  Barbour, AL  \n",
       "3  23.822917      13.1      15.41     Bibb, AL  \n",
       "4  23.600000       8.4      14.59   Blount, AL  "
      ]
     },
     "execution_count": 4,
     "metadata": {},
     "output_type": "execute_result"
    }
   ],
   "source": [
    "df.head()"
   ]
  },
  {
   "cell_type": "code",
   "execution_count": 5,
   "metadata": {},
   "outputs": [],
   "source": [
    "num_cols = ['Poverty', 'Age_19_Under', 'Age_19_64', 'Age_65_84', 'Age_85_and_Over', 'White',\n",
    "       'Black', 'Native_American', 'Asian', 'Hispanic',\n",
    "       'No_Exercise', 'Few_Fruit_Veg', 'Obesity', 'High_Blood_Pres', 'Smoker',\n",
    "       'Diabetes', 'Uninsured' ]"
   ]
  },
  {
   "cell_type": "code",
   "execution_count": 6,
   "metadata": {},
   "outputs": [],
   "source": [
    "# for col in num_cols:\n",
    "#     df[col] = df[col] / 100"
   ]
  },
  {
   "cell_type": "code",
   "execution_count": 7,
   "metadata": {},
   "outputs": [],
   "source": [
    "# all of the following have 6 predictor parameters: (excluding uninsured for now due to colinearity with Poverty)\n",
    "# [Poverty, No_Exercise, Few_Fruit_Veg, Obesity, High_Blood_Pres, Smoker]\n",
    "# dfp - dataset in unweighted proportions/percentages - format 1 = 1%\n",
    "# dfpercent - dataset in unweighted proportions/percentages - format 0.01 = 1%\n",
    "# dfpcat - dataset in unweighted proportions/percentages - format 1 = 1% with categorical region data\n",
    "# dfpw - dataset in weighted proportions/percentages\n",
    "# dfabs - dataset in unweighted absolute values \n",
    "# dfabsw - dataset in weighted absolute values "
   ]
  },
  {
   "cell_type": "code",
   "execution_count": 6,
   "metadata": {},
   "outputs": [],
   "source": [
    "# make dfp\n",
    "dfp_all = df.copy(deep=True)\n",
    "dfp = dfp_all[['County_index', 'Poverty', 'No_Exercise', 'Few_Fruit_Veg', 'Obesity', \n",
    "               'High_Blood_Pres', 'Smoker', 'Diabetes']]"
   ]
  },
  {
   "cell_type": "code",
   "execution_count": 9,
   "metadata": {},
   "outputs": [],
   "source": [
    "# # make dfpercent\n",
    "# dfpercent_all = df.copy(deep=True)\n",
    "# for col in num_cols:\n",
    "#     dfpercent_all[col] = dfpercent_all[col] / 100\n",
    "# dfpercent = dfpercent_all[['County_index', 'Poverty', 'No_Exercise', 'Few_Fruit_Veg', 'Obesity', \n",
    "#                'High_Blood_Pres', 'Smoker', 'Diabetes']]"
   ]
  },
  {
   "cell_type": "code",
   "execution_count": 7,
   "metadata": {},
   "outputs": [],
   "source": [
    "# make dfpcat \n",
    "dfpcat_all = df.copy(deep=True)\n",
    "regions = pd.read_csv('https://raw.githubusercontent.com/cphalpert/census-regions/master/us%20census%20bureau%20regions%20and%20divisions.csv')\n",
    "dummy = pd.get_dummies(regions['Region'])\n",
    "dummy = dummy.iloc[:,1:]\n",
    "region = regions.merge(dummy, left_index=True, right_index=True)\n",
    "dfpcat_all = dfpcat_all.merge(region, left_on='CHSI_State_Name', right_on='State')\n",
    "\n",
    "dfpcat = dfpcat_all[['County_index', 'Poverty', 'No_Exercise', 'Few_Fruit_Veg', 'Obesity', \n",
    "               'High_Blood_Pres', 'Smoker', 'Diabetes', 'Northeast', 'South', 'West']]\n"
   ]
  },
  {
   "cell_type": "code",
   "execution_count": 8,
   "metadata": {},
   "outputs": [
    {
     "data": {
      "text/plain": [
       "<matplotlib.axes._subplots.AxesSubplot at 0x1c1cb1aef0>"
      ]
     },
     "execution_count": 8,
     "metadata": {},
     "output_type": "execute_result"
    },
    {
     "data": {
      "image/png": "[encoded data removed]",
      "text/plain": [
       "<Figure size 504x504 with 1 Axes>"
      ]
     },
     "metadata": {
      "needs_background": "light"
     },
     "output_type": "display_data"
    }
   ],
   "source": [
    "dfpcat_all.boxplot('Diabetes',by = 'Region',figsize = (7,7))"
   ]
  },
  {
   "cell_type": "code",
   "execution_count": 9,
   "metadata": {},
   "outputs": [],
   "source": [
    "# # make dfpercentcat \n",
    "# dfpercentcat_all = dfpcat_all.copy(deep=True)\n",
    "# for col in num_cols:\n",
    "#     dfpercentcat_all[col] = dfpercentcat_all[col] / 100\n",
    "# dfpercentcat = dfpcat_all[['County_index', 'Poverty', 'No_Exercise', 'Few_Fruit_Veg', 'Obesity', \n",
    "#                'High_Blood_Pres', 'Smoker', 'Diabetes', 'Northeast', 'South', 'West']]"
   ]
  },
  {
   "cell_type": "code",
   "execution_count": 10,
   "metadata": {},
   "outputs": [],
   "source": [
    "# make dfpw\n",
    "dfpw_all = df.copy(deep=True)\n",
    "for col in num_cols:\n",
    "    dfpw_all[col] = dfpw_all[col] * dfpw_all['Pop_proportion']\n",
    "dfpw = dfpw_all[['County_index', 'Poverty', 'No_Exercise', 'Few_Fruit_Veg', 'Obesity', \n",
    "               'High_Blood_Pres', 'Smoker', 'Diabetes']]"
   ]
  },
  {
   "cell_type": "code",
   "execution_count": 12,
   "metadata": {},
   "outputs": [],
   "source": [
    "# make dfabs\n",
    "dfabs_all = df.copy(deep=True)\n",
    "# convert to absolute values\n",
    "for col in num_cols:\n",
    "    dfabs_all[col] = (dfabs_all[col] * dfabs_all['Population_Size'])\n",
    "dfabs = dfabs_all[['County_index', 'Poverty', 'No_Exercise', 'Few_Fruit_Veg', 'Obesity', \n",
    "               'High_Blood_Pres', 'Smoker', 'Diabetes']]"
   ]
  },
  {
   "cell_type": "code",
   "execution_count": 13,
   "metadata": {},
   "outputs": [],
   "source": [
    "# make dfabsw\n",
    "dfabsw_all = df.copy(deep=True)\n",
    "# convert to absolute values\n",
    "for col in num_cols:\n",
    "    dfabsw_all[col] = (dfabsw_all[col] * dfabsw_all['Population_Size'])\n",
    "# Weigh dfw num columns by population proportion\n",
    "for col in num_cols:\n",
    "    dfabsw_all[col] = dfabsw_all[col] * dfabsw_all['Pop_proportion']\n",
    "dfabsw = dfabsw_all[['County_index', 'Poverty', 'No_Exercise', 'Few_Fruit_Veg', 'Obesity', \n",
    "               'High_Blood_Pres', 'Smoker', 'Diabetes']]"
   ]
  },
  {
   "cell_type": "code",
   "execution_count": 14,
   "metadata": {},
   "outputs": [
    {
     "data": {
      "text/html": [
       "<div>\n",
       "<style scoped>\n",
       "    .dataframe tbody tr th:only-of-type {\n",
       "        vertical-align: middle;\n",
       "    }\n",
       "\n",
       "    .dataframe tbody tr th {\n",
       "        vertical-align: top;\n",
       "    }\n",
       "\n",
       "    .dataframe thead th {\n",
       "        text-align: right;\n",
       "    }\n",
       "</style>\n",
       "<table border=\"1\" class=\"dataframe\">\n",
       "  <thead>\n",
       "    <tr style=\"text-align: right;\">\n",
       "      <th></th>\n",
       "      <th>County_index</th>\n",
       "      <th>Poverty</th>\n",
       "      <th>No_Exercise</th>\n",
       "      <th>Few_Fruit_Veg</th>\n",
       "      <th>Obesity</th>\n",
       "      <th>High_Blood_Pres</th>\n",
       "      <th>Smoker</th>\n",
       "      <th>Diabetes</th>\n",
       "    </tr>\n",
       "  </thead>\n",
       "  <tbody>\n",
       "    <tr>\n",
       "      <th>0</th>\n",
       "      <td>Autauga, AL</td>\n",
       "      <td>10.4</td>\n",
       "      <td>27.8</td>\n",
       "      <td>78.6</td>\n",
       "      <td>24.5</td>\n",
       "      <td>29.1</td>\n",
       "      <td>26.6</td>\n",
       "      <td>14.2</td>\n",
       "    </tr>\n",
       "    <tr>\n",
       "      <th>1</th>\n",
       "      <td>Baldwin, AL</td>\n",
       "      <td>10.2</td>\n",
       "      <td>27.2</td>\n",
       "      <td>76.2</td>\n",
       "      <td>23.6</td>\n",
       "      <td>30.5</td>\n",
       "      <td>24.6</td>\n",
       "      <td>7.2</td>\n",
       "    </tr>\n",
       "  </tbody>\n",
       "</table>\n",
       "</div>"
      ],
      "text/plain": [
       "  County_index  Poverty  No_Exercise  Few_Fruit_Veg  Obesity  High_Blood_Pres  \\\n",
       "0  Autauga, AL     10.4         27.8           78.6     24.5             29.1   \n",
       "1  Baldwin, AL     10.2         27.2           76.2     23.6             30.5   \n",
       "\n",
       "   Smoker  Diabetes  \n",
       "0    26.6      14.2  \n",
       "1    24.6       7.2  "
      ]
     },
     "execution_count": 14,
     "metadata": {},
     "output_type": "execute_result"
    }
   ],
   "source": [
    "dfp.head(2)"
   ]
  },
  {
   "cell_type": "code",
   "execution_count": 15,
   "metadata": {},
   "outputs": [
    {
     "data": {
      "text/html": [
       "<div>\n",
       "<style scoped>\n",
       "    .dataframe tbody tr th:only-of-type {\n",
       "        vertical-align: middle;\n",
       "    }\n",
       "\n",
       "    .dataframe tbody tr th {\n",
       "        vertical-align: top;\n",
       "    }\n",
       "\n",
       "    .dataframe thead th {\n",
       "        text-align: right;\n",
       "    }\n",
       "</style>\n",
       "<table border=\"1\" class=\"dataframe\">\n",
       "  <thead>\n",
       "    <tr style=\"text-align: right;\">\n",
       "      <th></th>\n",
       "      <th>County_index</th>\n",
       "      <th>Poverty</th>\n",
       "      <th>No_Exercise</th>\n",
       "      <th>Few_Fruit_Veg</th>\n",
       "      <th>Obesity</th>\n",
       "      <th>High_Blood_Pres</th>\n",
       "      <th>Smoker</th>\n",
       "      <th>Diabetes</th>\n",
       "      <th>Northeast</th>\n",
       "      <th>South</th>\n",
       "      <th>West</th>\n",
       "    </tr>\n",
       "  </thead>\n",
       "  <tbody>\n",
       "    <tr>\n",
       "      <th>0</th>\n",
       "      <td>Autauga, AL</td>\n",
       "      <td>10.4</td>\n",
       "      <td>27.800</td>\n",
       "      <td>78.60</td>\n",
       "      <td>24.500000</td>\n",
       "      <td>29.1</td>\n",
       "      <td>26.600000</td>\n",
       "      <td>14.2</td>\n",
       "      <td>0</td>\n",
       "      <td>1</td>\n",
       "      <td>0</td>\n",
       "    </tr>\n",
       "    <tr>\n",
       "      <th>1</th>\n",
       "      <td>Baldwin, AL</td>\n",
       "      <td>10.2</td>\n",
       "      <td>27.200</td>\n",
       "      <td>76.20</td>\n",
       "      <td>23.600000</td>\n",
       "      <td>30.5</td>\n",
       "      <td>24.600000</td>\n",
       "      <td>7.2</td>\n",
       "      <td>0</td>\n",
       "      <td>1</td>\n",
       "      <td>0</td>\n",
       "    </tr>\n",
       "    <tr>\n",
       "      <th>2</th>\n",
       "      <td>Barbour, AL</td>\n",
       "      <td>22.1</td>\n",
       "      <td>29.795</td>\n",
       "      <td>80.08</td>\n",
       "      <td>25.600000</td>\n",
       "      <td>31.6</td>\n",
       "      <td>17.700000</td>\n",
       "      <td>6.6</td>\n",
       "      <td>0</td>\n",
       "      <td>1</td>\n",
       "      <td>0</td>\n",
       "    </tr>\n",
       "    <tr>\n",
       "      <th>3</th>\n",
       "      <td>Bibb, AL</td>\n",
       "      <td>16.8</td>\n",
       "      <td>29.795</td>\n",
       "      <td>86.60</td>\n",
       "      <td>26.897561</td>\n",
       "      <td>31.6</td>\n",
       "      <td>23.822917</td>\n",
       "      <td>13.1</td>\n",
       "      <td>0</td>\n",
       "      <td>1</td>\n",
       "      <td>0</td>\n",
       "    </tr>\n",
       "    <tr>\n",
       "      <th>4</th>\n",
       "      <td>Blount, AL</td>\n",
       "      <td>11.9</td>\n",
       "      <td>33.500</td>\n",
       "      <td>74.60</td>\n",
       "      <td>24.200000</td>\n",
       "      <td>31.6</td>\n",
       "      <td>23.600000</td>\n",
       "      <td>8.4</td>\n",
       "      <td>0</td>\n",
       "      <td>1</td>\n",
       "      <td>0</td>\n",
       "    </tr>\n",
       "  </tbody>\n",
       "</table>\n",
       "</div>"
      ],
      "text/plain": [
       "  County_index  Poverty  No_Exercise  Few_Fruit_Veg    Obesity  \\\n",
       "0  Autauga, AL     10.4       27.800          78.60  24.500000   \n",
       "1  Baldwin, AL     10.2       27.200          76.20  23.600000   \n",
       "2  Barbour, AL     22.1       29.795          80.08  25.600000   \n",
       "3     Bibb, AL     16.8       29.795          86.60  26.897561   \n",
       "4   Blount, AL     11.9       33.500          74.60  24.200000   \n",
       "\n",
       "   High_Blood_Pres     Smoker  Diabetes  Northeast  South  West  \n",
       "0             29.1  26.600000      14.2          0      1     0  \n",
       "1             30.5  24.600000       7.2          0      1     0  \n",
       "2             31.6  17.700000       6.6          0      1     0  \n",
       "3             31.6  23.822917      13.1          0      1     0  \n",
       "4             31.6  23.600000       8.4          0      1     0  "
      ]
     },
     "execution_count": 15,
     "metadata": {},
     "output_type": "execute_result"
    }
   ],
   "source": [
    "dfpcat.head()"
   ]
  },
  {
   "cell_type": "code",
   "execution_count": 16,
   "metadata": {},
   "outputs": [
    {
     "data": {
      "text/html": [
       "<div>\n",
       "<style scoped>\n",
       "    .dataframe tbody tr th:only-of-type {\n",
       "        vertical-align: middle;\n",
       "    }\n",
       "\n",
       "    .dataframe tbody tr th {\n",
       "        vertical-align: top;\n",
       "    }\n",
       "\n",
       "    .dataframe thead th {\n",
       "        text-align: right;\n",
       "    }\n",
       "</style>\n",
       "<table border=\"1\" class=\"dataframe\">\n",
       "  <thead>\n",
       "    <tr style=\"text-align: right;\">\n",
       "      <th></th>\n",
       "      <th>County_index</th>\n",
       "      <th>Poverty</th>\n",
       "      <th>No_Exercise</th>\n",
       "      <th>Few_Fruit_Veg</th>\n",
       "      <th>Obesity</th>\n",
       "      <th>High_Blood_Pres</th>\n",
       "      <th>Smoker</th>\n",
       "      <th>Diabetes</th>\n",
       "    </tr>\n",
       "  </thead>\n",
       "  <tbody>\n",
       "    <tr>\n",
       "      <th>0</th>\n",
       "      <td>Autauga, AL</td>\n",
       "      <td>0.170562</td>\n",
       "      <td>0.455927</td>\n",
       "      <td>1.289058</td>\n",
       "      <td>0.401806</td>\n",
       "      <td>0.477247</td>\n",
       "      <td>0.436246</td>\n",
       "      <td>0.232883</td>\n",
       "    </tr>\n",
       "    <tr>\n",
       "      <th>1</th>\n",
       "      <td>Baldwin, AL</td>\n",
       "      <td>0.559487</td>\n",
       "      <td>1.491965</td>\n",
       "      <td>4.179696</td>\n",
       "      <td>1.294499</td>\n",
       "      <td>1.672975</td>\n",
       "      <td>1.349351</td>\n",
       "      <td>0.394932</td>\n",
       "    </tr>\n",
       "  </tbody>\n",
       "</table>\n",
       "</div>"
      ],
      "text/plain": [
       "  County_index   Poverty  No_Exercise  Few_Fruit_Veg   Obesity  \\\n",
       "0  Autauga, AL  0.170562     0.455927       1.289058  0.401806   \n",
       "1  Baldwin, AL  0.559487     1.491965       4.179696  1.294499   \n",
       "\n",
       "   High_Blood_Pres    Smoker  Diabetes  \n",
       "0         0.477247  0.436246  0.232883  \n",
       "1         1.672975  1.349351  0.394932  "
      ]
     },
     "execution_count": 16,
     "metadata": {},
     "output_type": "execute_result"
    }
   ],
   "source": [
    "dfpw.head(2)"
   ]
  },
  {
   "cell_type": "code",
   "execution_count": 17,
   "metadata": {},
   "outputs": [
    {
     "data": {
      "text/html": [
       "<div>\n",
       "<style scoped>\n",
       "    .dataframe tbody tr th:only-of-type {\n",
       "        vertical-align: middle;\n",
       "    }\n",
       "\n",
       "    .dataframe tbody tr th {\n",
       "        vertical-align: top;\n",
       "    }\n",
       "\n",
       "    .dataframe thead th {\n",
       "        text-align: right;\n",
       "    }\n",
       "</style>\n",
       "<table border=\"1\" class=\"dataframe\">\n",
       "  <thead>\n",
       "    <tr style=\"text-align: right;\">\n",
       "      <th></th>\n",
       "      <th>County_index</th>\n",
       "      <th>Poverty</th>\n",
       "      <th>No_Exercise</th>\n",
       "      <th>Few_Fruit_Veg</th>\n",
       "      <th>Obesity</th>\n",
       "      <th>High_Blood_Pres</th>\n",
       "      <th>Smoker</th>\n",
       "      <th>Diabetes</th>\n",
       "    </tr>\n",
       "  </thead>\n",
       "  <tbody>\n",
       "    <tr>\n",
       "      <th>0</th>\n",
       "      <td>Autauga, AL</td>\n",
       "      <td>505564.8</td>\n",
       "      <td>1351413.6</td>\n",
       "      <td>3820903.2</td>\n",
       "      <td>1190994.0</td>\n",
       "      <td>1414609.2</td>\n",
       "      <td>1293079.2</td>\n",
       "      <td>690290.4</td>\n",
       "    </tr>\n",
       "    <tr>\n",
       "      <th>1</th>\n",
       "      <td>Baldwin, AL</td>\n",
       "      <td>1658377.2</td>\n",
       "      <td>4422339.2</td>\n",
       "      <td>12389053.2</td>\n",
       "      <td>3837029.6</td>\n",
       "      <td>4958873.0</td>\n",
       "      <td>3999615.6</td>\n",
       "      <td>1170619.2</td>\n",
       "    </tr>\n",
       "  </tbody>\n",
       "</table>\n",
       "</div>"
      ],
      "text/plain": [
       "  County_index    Poverty  No_Exercise  Few_Fruit_Veg    Obesity  \\\n",
       "0  Autauga, AL   505564.8    1351413.6      3820903.2  1190994.0   \n",
       "1  Baldwin, AL  1658377.2    4422339.2     12389053.2  3837029.6   \n",
       "\n",
       "   High_Blood_Pres     Smoker   Diabetes  \n",
       "0        1414609.2  1293079.2   690290.4  \n",
       "1        4958873.0  3999615.6  1170619.2  "
      ]
     },
     "execution_count": 17,
     "metadata": {},
     "output_type": "execute_result"
    }
   ],
   "source": [
    "dfabs.head(2)"
   ]
  },
  {
   "cell_type": "code",
   "execution_count": 18,
   "metadata": {},
   "outputs": [
    {
     "data": {
      "text/html": [
       "<div>\n",
       "<style scoped>\n",
       "    .dataframe tbody tr th:only-of-type {\n",
       "        vertical-align: middle;\n",
       "    }\n",
       "\n",
       "    .dataframe tbody tr th {\n",
       "        vertical-align: top;\n",
       "    }\n",
       "\n",
       "    .dataframe thead th {\n",
       "        text-align: right;\n",
       "    }\n",
       "</style>\n",
       "<table border=\"1\" class=\"dataframe\">\n",
       "  <thead>\n",
       "    <tr style=\"text-align: right;\">\n",
       "      <th></th>\n",
       "      <th>County_index</th>\n",
       "      <th>Poverty</th>\n",
       "      <th>No_Exercise</th>\n",
       "      <th>Few_Fruit_Veg</th>\n",
       "      <th>Obesity</th>\n",
       "      <th>High_Blood_Pres</th>\n",
       "      <th>Smoker</th>\n",
       "      <th>Diabetes</th>\n",
       "    </tr>\n",
       "  </thead>\n",
       "  <tbody>\n",
       "    <tr>\n",
       "      <th>0</th>\n",
       "      <td>Autauga, AL</td>\n",
       "      <td>8291.381047</td>\n",
       "      <td>22163.499336</td>\n",
       "      <td>62663.706757</td>\n",
       "      <td>19532.580350</td>\n",
       "      <td>23199.921967</td>\n",
       "      <td>21206.801523</td>\n",
       "      <td>11320.924121</td>\n",
       "    </tr>\n",
       "    <tr>\n",
       "      <th>1</th>\n",
       "      <td>Baldwin, AL</td>\n",
       "      <td>90964.727216</td>\n",
       "      <td>242572.605910</td>\n",
       "      <td>679560.020968</td>\n",
       "      <td>210467.408069</td>\n",
       "      <td>272002.370598</td>\n",
       "      <td>219385.518580</td>\n",
       "      <td>64210.395682</td>\n",
       "    </tr>\n",
       "  </tbody>\n",
       "</table>\n",
       "</div>"
      ],
      "text/plain": [
       "  County_index       Poverty    No_Exercise  Few_Fruit_Veg        Obesity  \\\n",
       "0  Autauga, AL   8291.381047   22163.499336   62663.706757   19532.580350   \n",
       "1  Baldwin, AL  90964.727216  242572.605910  679560.020968  210467.408069   \n",
       "\n",
       "   High_Blood_Pres         Smoker      Diabetes  \n",
       "0     23199.921967   21206.801523  11320.924121  \n",
       "1    272002.370598  219385.518580  64210.395682  "
      ]
     },
     "execution_count": 18,
     "metadata": {},
     "output_type": "execute_result"
    }
   ],
   "source": [
    "dfabsw.head(2)"
   ]
  },
  {
   "cell_type": "markdown",
   "metadata": {},
   "source": [
    "## Base models"
   ]
  },
  {
   "cell_type": "markdown",
   "metadata": {},
   "source": [
    "#### dfp - unweighted, Percentages as 10%"
   ]
  },
  {
   "cell_type": "code",
   "execution_count": 19,
   "metadata": {},
   "outputs": [
    {
     "data": {
      "text/html": [
       "<table class=\"simpletable\">\n",
       "<caption>OLS Regression Results</caption>\n",
       "<tr>\n",
       "  <th>Dep. Variable:</th>        <td>Diabetes</td>     <th>  R-squared:         </th> <td>   0.300</td> \n",
       "</tr>\n",
       "<tr>\n",
       "  <th>Model:</th>                   <td>OLS</td>       <th>  Adj. R-squared:    </th> <td>   0.299</td> \n",
       "</tr>\n",
       "<tr>\n",
       "  <th>Method:</th>             <td>Least Squares</td>  <th>  F-statistic:       </th> <td>   221.7</td> \n",
       "</tr>\n",
       "<tr>\n",
       "  <th>Date:</th>             <td>Mon, 02 Dec 2019</td> <th>  Prob (F-statistic):</th> <td>3.80e-236</td>\n",
       "</tr>\n",
       "<tr>\n",
       "  <th>Time:</th>                 <td>02:13:05</td>     <th>  Log-Likelihood:    </th> <td> -6853.1</td> \n",
       "</tr>\n",
       "<tr>\n",
       "  <th>No. Observations:</th>      <td>  3113</td>      <th>  AIC:               </th> <td>1.372e+04</td>\n",
       "</tr>\n",
       "<tr>\n",
       "  <th>Df Residuals:</th>          <td>  3106</td>      <th>  BIC:               </th> <td>1.376e+04</td>\n",
       "</tr>\n",
       "<tr>\n",
       "  <th>Df Model:</th>              <td>     6</td>      <th>                     </th>     <td> </td>    \n",
       "</tr>\n",
       "<tr>\n",
       "  <th>Covariance Type:</th>      <td>nonrobust</td>    <th>                     </th>     <td> </td>    \n",
       "</tr>\n",
       "</table>\n",
       "<table class=\"simpletable\">\n",
       "<tr>\n",
       "         <td></td>            <th>coef</th>     <th>std err</th>      <th>t</th>      <th>P>|t|</th>  <th>[0.025</th>    <th>0.975]</th>  \n",
       "</tr>\n",
       "<tr>\n",
       "  <th>Intercept</th>       <td>    0.1026</td> <td>    0.745</td> <td>    0.138</td> <td> 0.890</td> <td>   -1.357</td> <td>    1.563</td>\n",
       "</tr>\n",
       "<tr>\n",
       "  <th>Poverty</th>         <td>    0.0962</td> <td>    0.009</td> <td>   10.136</td> <td> 0.000</td> <td>    0.078</td> <td>    0.115</td>\n",
       "</tr>\n",
       "<tr>\n",
       "  <th>No_Exercise</th>     <td>    0.0485</td> <td>    0.010</td> <td>    4.991</td> <td> 0.000</td> <td>    0.029</td> <td>    0.068</td>\n",
       "</tr>\n",
       "<tr>\n",
       "  <th>Few_Fruit_Veg</th>   <td>   -0.0161</td> <td>    0.010</td> <td>   -1.649</td> <td> 0.099</td> <td>   -0.035</td> <td>    0.003</td>\n",
       "</tr>\n",
       "<tr>\n",
       "  <th>Obesity</th>         <td>    0.1565</td> <td>    0.012</td> <td>   13.448</td> <td> 0.000</td> <td>    0.134</td> <td>    0.179</td>\n",
       "</tr>\n",
       "<tr>\n",
       "  <th>High_Blood_Pres</th> <td>    0.1088</td> <td>    0.011</td> <td>    9.638</td> <td> 0.000</td> <td>    0.087</td> <td>    0.131</td>\n",
       "</tr>\n",
       "<tr>\n",
       "  <th>Smoker</th>          <td>   -0.0102</td> <td>    0.009</td> <td>   -1.128</td> <td> 0.259</td> <td>   -0.028</td> <td>    0.008</td>\n",
       "</tr>\n",
       "</table>\n",
       "<table class=\"simpletable\">\n",
       "<tr>\n",
       "  <th>Omnibus:</th>       <td>389.683</td> <th>  Durbin-Watson:     </th> <td>   1.967</td> \n",
       "</tr>\n",
       "<tr>\n",
       "  <th>Prob(Omnibus):</th> <td> 0.000</td>  <th>  Jarque-Bera (JB):  </th> <td> 954.004</td> \n",
       "</tr>\n",
       "<tr>\n",
       "  <th>Skew:</th>          <td> 0.716</td>  <th>  Prob(JB):          </th> <td>6.93e-208</td>\n",
       "</tr>\n",
       "<tr>\n",
       "  <th>Kurtosis:</th>      <td> 5.304</td>  <th>  Cond. No.          </th> <td>1.79e+03</td> \n",
       "</tr>\n",
       "</table><br/><br/>Warnings:<br/>[1] Standard Errors assume that the covariance matrix of the errors is correctly specified.<br/>[2] The condition number is large, 1.79e+03. This might indicate that there are<br/>strong multicollinearity or other numerical problems."
      ],
      "text/plain": [
       "<class 'statsmodels.iolib.summary.Summary'>\n",
       "\"\"\"\n",
       "                            OLS Regression Results                            \n",
       "==============================================================================\n",
       "Dep. Variable:               Diabetes   R-squared:                       0.300\n",
       "Model:                            OLS   Adj. R-squared:                  0.299\n",
       "Method:                 Least Squares   F-statistic:                     221.7\n",
       "Date:                Mon, 02 Dec 2019   Prob (F-statistic):          3.80e-236\n",
       "Time:                        02:13:05   Log-Likelihood:                -6853.1\n",
       "No. Observations:                3113   AIC:                         1.372e+04\n",
       "Df Residuals:                    3106   BIC:                         1.376e+04\n",
       "Df Model:                           6                                         \n",
       "Covariance Type:            nonrobust                                         \n",
       "===================================================================================\n",
       "                      coef    std err          t      P>|t|      [0.025      0.975]\n",
       "-----------------------------------------------------------------------------------\n",
       "Intercept           0.1026      0.745      0.138      0.890      -1.357       1.563\n",
       "Poverty             0.0962      0.009     10.136      0.000       0.078       0.115\n",
       "No_Exercise         0.0485      0.010      4.991      0.000       0.029       0.068\n",
       "Few_Fruit_Veg      -0.0161      0.010     -1.649      0.099      -0.035       0.003\n",
       "Obesity             0.1565      0.012     13.448      0.000       0.134       0.179\n",
       "High_Blood_Pres     0.1088      0.011      9.638      0.000       0.087       0.131\n",
       "Smoker             -0.0102      0.009     -1.128      0.259      -0.028       0.008\n",
       "==============================================================================\n",
       "Omnibus:                      389.683   Durbin-Watson:                   1.967\n",
       "Prob(Omnibus):                  0.000   Jarque-Bera (JB):              954.004\n",
       "Skew:                           0.716   Prob(JB):                    6.93e-208\n",
       "Kurtosis:                       5.304   Cond. No.                     1.79e+03\n",
       "==============================================================================\n",
       "\n",
       "Warnings:\n",
       "[1] Standard Errors assume that the covariance matrix of the errors is correctly specified.\n",
       "[2] The condition number is large, 1.79e+03. This might indicate that there are\n",
       "strong multicollinearity or other numerical problems.\n",
       "\"\"\""
      ]
     },
     "execution_count": 19,
     "metadata": {},
     "output_type": "execute_result"
    }
   ],
   "source": [
    "formula = \"Diabetes ~ Poverty+No_Exercise+Few_Fruit_Veg+Obesity+High_Blood_Pres+Smoker\"\n",
    "model = ols(formula= formula, data=dfp).fit()\n",
    "model.summary()"
   ]
  },
  {
   "cell_type": "markdown",
   "metadata": {},
   "source": [
    "#### dfpcat - unweighted percentages with categorical variables"
   ]
  },
  {
   "cell_type": "code",
   "execution_count": 20,
   "metadata": {},
   "outputs": [
    {
     "data": {
      "text/html": [
       "<table class=\"simpletable\">\n",
       "<caption>OLS Regression Results</caption>\n",
       "<tr>\n",
       "  <th>Dep. Variable:</th>        <td>Diabetes</td>     <th>  R-squared:         </th> <td>   0.308</td> \n",
       "</tr>\n",
       "<tr>\n",
       "  <th>Model:</th>                   <td>OLS</td>       <th>  Adj. R-squared:    </th> <td>   0.306</td> \n",
       "</tr>\n",
       "<tr>\n",
       "  <th>Method:</th>             <td>Least Squares</td>  <th>  F-statistic:       </th> <td>   153.2</td> \n",
       "</tr>\n",
       "<tr>\n",
       "  <th>Date:</th>             <td>Mon, 02 Dec 2019</td> <th>  Prob (F-statistic):</th> <td>4.33e-240</td>\n",
       "</tr>\n",
       "<tr>\n",
       "  <th>Time:</th>                 <td>02:14:05</td>     <th>  Log-Likelihood:    </th> <td> -6835.8</td> \n",
       "</tr>\n",
       "<tr>\n",
       "  <th>No. Observations:</th>      <td>  3113</td>      <th>  AIC:               </th> <td>1.369e+04</td>\n",
       "</tr>\n",
       "<tr>\n",
       "  <th>Df Residuals:</th>          <td>  3103</td>      <th>  BIC:               </th> <td>1.375e+04</td>\n",
       "</tr>\n",
       "<tr>\n",
       "  <th>Df Model:</th>              <td>     9</td>      <th>                     </th>     <td> </td>    \n",
       "</tr>\n",
       "<tr>\n",
       "  <th>Covariance Type:</th>      <td>nonrobust</td>    <th>                     </th>     <td> </td>    \n",
       "</tr>\n",
       "</table>\n",
       "<table class=\"simpletable\">\n",
       "<tr>\n",
       "         <td></td>            <th>coef</th>     <th>std err</th>      <th>t</th>      <th>P>|t|</th>  <th>[0.025</th>    <th>0.975]</th>  \n",
       "</tr>\n",
       "<tr>\n",
       "  <th>Intercept</th>       <td>    0.9987</td> <td>    0.797</td> <td>    1.253</td> <td> 0.210</td> <td>   -0.564</td> <td>    2.561</td>\n",
       "</tr>\n",
       "<tr>\n",
       "  <th>Poverty</th>         <td>    0.1039</td> <td>    0.011</td> <td>    9.864</td> <td> 0.000</td> <td>    0.083</td> <td>    0.125</td>\n",
       "</tr>\n",
       "<tr>\n",
       "  <th>No_Exercise</th>     <td>    0.0373</td> <td>    0.010</td> <td>    3.778</td> <td> 0.000</td> <td>    0.018</td> <td>    0.057</td>\n",
       "</tr>\n",
       "<tr>\n",
       "  <th>Few_Fruit_Veg</th>   <td>   -0.0183</td> <td>    0.010</td> <td>   -1.781</td> <td> 0.075</td> <td>   -0.038</td> <td>    0.002</td>\n",
       "</tr>\n",
       "<tr>\n",
       "  <th>Obesity</th>         <td>    0.1464</td> <td>    0.012</td> <td>   12.388</td> <td> 0.000</td> <td>    0.123</td> <td>    0.170</td>\n",
       "</tr>\n",
       "<tr>\n",
       "  <th>High_Blood_Pres</th> <td>    0.1049</td> <td>    0.011</td> <td>    9.129</td> <td> 0.000</td> <td>    0.082</td> <td>    0.127</td>\n",
       "</tr>\n",
       "<tr>\n",
       "  <th>Smoker</th>          <td>   -0.0163</td> <td>    0.009</td> <td>   -1.791</td> <td> 0.073</td> <td>   -0.034</td> <td>    0.002</td>\n",
       "</tr>\n",
       "<tr>\n",
       "  <th>Northeast</th>       <td>   -0.0239</td> <td>    0.173</td> <td>   -0.139</td> <td> 0.890</td> <td>   -0.363</td> <td>    0.315</td>\n",
       "</tr>\n",
       "<tr>\n",
       "  <th>South</th>           <td>    0.0993</td> <td>    0.107</td> <td>    0.924</td> <td> 0.355</td> <td>   -0.111</td> <td>    0.310</td>\n",
       "</tr>\n",
       "<tr>\n",
       "  <th>West</th>            <td>   -0.6902</td> <td>    0.140</td> <td>   -4.928</td> <td> 0.000</td> <td>   -0.965</td> <td>   -0.416</td>\n",
       "</tr>\n",
       "</table>\n",
       "<table class=\"simpletable\">\n",
       "<tr>\n",
       "  <th>Omnibus:</th>       <td>374.185</td> <th>  Durbin-Watson:     </th> <td>   1.992</td> \n",
       "</tr>\n",
       "<tr>\n",
       "  <th>Prob(Omnibus):</th> <td> 0.000</td>  <th>  Jarque-Bera (JB):  </th> <td> 920.992</td> \n",
       "</tr>\n",
       "<tr>\n",
       "  <th>Skew:</th>          <td> 0.688</td>  <th>  Prob(JB):          </th> <td>1.02e-200</td>\n",
       "</tr>\n",
       "<tr>\n",
       "  <th>Kurtosis:</th>      <td> 5.282</td>  <th>  Cond. No.          </th> <td>1.94e+03</td> \n",
       "</tr>\n",
       "</table><br/><br/>Warnings:<br/>[1] Standard Errors assume that the covariance matrix of the errors is correctly specified.<br/>[2] The condition number is large, 1.94e+03. This might indicate that there are<br/>strong multicollinearity or other numerical problems."
      ],
      "text/plain": [
       "<class 'statsmodels.iolib.summary.Summary'>\n",
       "\"\"\"\n",
       "                            OLS Regression Results                            \n",
       "==============================================================================\n",
       "Dep. Variable:               Diabetes   R-squared:                       0.308\n",
       "Model:                            OLS   Adj. R-squared:                  0.306\n",
       "Method:                 Least Squares   F-statistic:                     153.2\n",
       "Date:                Mon, 02 Dec 2019   Prob (F-statistic):          4.33e-240\n",
       "Time:                        02:14:05   Log-Likelihood:                -6835.8\n",
       "No. Observations:                3113   AIC:                         1.369e+04\n",
       "Df Residuals:                    3103   BIC:                         1.375e+04\n",
       "Df Model:                           9                                         \n",
       "Covariance Type:            nonrobust                                         \n",
       "===================================================================================\n",
       "                      coef    std err          t      P>|t|      [0.025      0.975]\n",
       "-----------------------------------------------------------------------------------\n",
       "Intercept           0.9987      0.797      1.253      0.210      -0.564       2.561\n",
       "Poverty             0.1039      0.011      9.864      0.000       0.083       0.125\n",
       "No_Exercise         0.0373      0.010      3.778      0.000       0.018       0.057\n",
       "Few_Fruit_Veg      -0.0183      0.010     -1.781      0.075      -0.038       0.002\n",
       "Obesity             0.1464      0.012     12.388      0.000       0.123       0.170\n",
       "High_Blood_Pres     0.1049      0.011      9.129      0.000       0.082       0.127\n",
       "Smoker             -0.0163      0.009     -1.791      0.073      -0.034       0.002\n",
       "Northeast          -0.0239      0.173     -0.139      0.890      -0.363       0.315\n",
       "South               0.0993      0.107      0.924      0.355      -0.111       0.310\n",
       "West               -0.6902      0.140     -4.928      0.000      -0.965      -0.416\n",
       "==============================================================================\n",
       "Omnibus:                      374.185   Durbin-Watson:                   1.992\n",
       "Prob(Omnibus):                  0.000   Jarque-Bera (JB):              920.992\n",
       "Skew:                           0.688   Prob(JB):                    1.02e-200\n",
       "Kurtosis:                       5.282   Cond. No.                     1.94e+03\n",
       "==============================================================================\n",
       "\n",
       "Warnings:\n",
       "[1] Standard Errors assume that the covariance matrix of the errors is correctly specified.\n",
       "[2] The condition number is large, 1.94e+03. This might indicate that there are\n",
       "strong multicollinearity or other numerical problems.\n",
       "\"\"\""
      ]
     },
     "execution_count": 20,
     "metadata": {},
     "output_type": "execute_result"
    }
   ],
   "source": [
    "formula = \"Diabetes ~ Poverty+No_Exercise+Few_Fruit_Veg+Obesity+High_Blood_Pres+Smoker+Northeast+South+West\"\n",
    "model = ols(formula= formula, data=dfpcat).fit()\n",
    "model.summary()"
   ]
  },
  {
   "cell_type": "markdown",
   "metadata": {},
   "source": [
    "####  dfpw - weighted percentages"
   ]
  },
  {
   "cell_type": "code",
   "execution_count": 21,
   "metadata": {},
   "outputs": [
    {
     "data": {
      "text/html": [
       "<table class=\"simpletable\">\n",
       "<caption>OLS Regression Results</caption>\n",
       "<tr>\n",
       "  <th>Dep. Variable:</th>        <td>Diabetes</td>     <th>  R-squared:         </th> <td>   0.991</td> \n",
       "</tr>\n",
       "<tr>\n",
       "  <th>Model:</th>                   <td>OLS</td>       <th>  Adj. R-squared:    </th> <td>   0.991</td> \n",
       "</tr>\n",
       "<tr>\n",
       "  <th>Method:</th>             <td>Least Squares</td>  <th>  F-statistic:       </th> <td>5.663e+04</td>\n",
       "</tr>\n",
       "<tr>\n",
       "  <th>Date:</th>             <td>Mon, 02 Dec 2019</td> <th>  Prob (F-statistic):</th>  <td>  0.00</td>  \n",
       "</tr>\n",
       "<tr>\n",
       "  <th>Time:</th>                 <td>02:14:21</td>     <th>  Log-Likelihood:    </th> <td>  4004.3</td> \n",
       "</tr>\n",
       "<tr>\n",
       "  <th>No. Observations:</th>      <td>  3113</td>      <th>  AIC:               </th> <td>  -7995.</td> \n",
       "</tr>\n",
       "<tr>\n",
       "  <th>Df Residuals:</th>          <td>  3106</td>      <th>  BIC:               </th> <td>  -7952.</td> \n",
       "</tr>\n",
       "<tr>\n",
       "  <th>Df Model:</th>              <td>     6</td>      <th>                     </th>     <td> </td>    \n",
       "</tr>\n",
       "<tr>\n",
       "  <th>Covariance Type:</th>      <td>nonrobust</td>    <th>                     </th>     <td> </td>    \n",
       "</tr>\n",
       "</table>\n",
       "<table class=\"simpletable\">\n",
       "<tr>\n",
       "         <td></td>            <th>coef</th>     <th>std err</th>      <th>t</th>      <th>P>|t|</th>  <th>[0.025</th>    <th>0.975]</th>  \n",
       "</tr>\n",
       "<tr>\n",
       "  <th>Intercept</th>       <td>    0.0038</td> <td>    0.001</td> <td>    2.887</td> <td> 0.004</td> <td>    0.001</td> <td>    0.006</td>\n",
       "</tr>\n",
       "<tr>\n",
       "  <th>Poverty</th>         <td>    0.0356</td> <td>    0.005</td> <td>    7.862</td> <td> 0.000</td> <td>    0.027</td> <td>    0.044</td>\n",
       "</tr>\n",
       "<tr>\n",
       "  <th>No_Exercise</th>     <td>    0.0815</td> <td>    0.004</td> <td>   19.184</td> <td> 0.000</td> <td>    0.073</td> <td>    0.090</td>\n",
       "</tr>\n",
       "<tr>\n",
       "  <th>Few_Fruit_Veg</th>   <td>   -0.0399</td> <td>    0.002</td> <td>  -23.612</td> <td> 0.000</td> <td>   -0.043</td> <td>   -0.037</td>\n",
       "</tr>\n",
       "<tr>\n",
       "  <th>Obesity</th>         <td>    0.0780</td> <td>    0.006</td> <td>   13.299</td> <td> 0.000</td> <td>    0.066</td> <td>    0.089</td>\n",
       "</tr>\n",
       "<tr>\n",
       "  <th>High_Blood_Pres</th> <td>    0.1471</td> <td>    0.005</td> <td>   27.350</td> <td> 0.000</td> <td>    0.137</td> <td>    0.158</td>\n",
       "</tr>\n",
       "<tr>\n",
       "  <th>Smoker</th>          <td>    0.0986</td> <td>    0.004</td> <td>   22.311</td> <td> 0.000</td> <td>    0.090</td> <td>    0.107</td>\n",
       "</tr>\n",
       "</table>\n",
       "<table class=\"simpletable\">\n",
       "<tr>\n",
       "  <th>Omnibus:</th>       <td>1554.684</td> <th>  Durbin-Watson:     </th>  <td>   1.919</td> \n",
       "</tr>\n",
       "<tr>\n",
       "  <th>Prob(Omnibus):</th>  <td> 0.000</td>  <th>  Jarque-Bera (JB):  </th> <td>260642.809</td>\n",
       "</tr>\n",
       "<tr>\n",
       "  <th>Skew:</th>           <td> 1.289</td>  <th>  Prob(JB):          </th>  <td>    0.00</td> \n",
       "</tr>\n",
       "<tr>\n",
       "  <th>Kurtosis:</th>       <td>47.753</td>  <th>  Cond. No.          </th>  <td>    57.6</td> \n",
       "</tr>\n",
       "</table><br/><br/>Warnings:<br/>[1] Standard Errors assume that the covariance matrix of the errors is correctly specified."
      ],
      "text/plain": [
       "<class 'statsmodels.iolib.summary.Summary'>\n",
       "\"\"\"\n",
       "                            OLS Regression Results                            \n",
       "==============================================================================\n",
       "Dep. Variable:               Diabetes   R-squared:                       0.991\n",
       "Model:                            OLS   Adj. R-squared:                  0.991\n",
       "Method:                 Least Squares   F-statistic:                 5.663e+04\n",
       "Date:                Mon, 02 Dec 2019   Prob (F-statistic):               0.00\n",
       "Time:                        02:14:21   Log-Likelihood:                 4004.3\n",
       "No. Observations:                3113   AIC:                            -7995.\n",
       "Df Residuals:                    3106   BIC:                            -7952.\n",
       "Df Model:                           6                                         \n",
       "Covariance Type:            nonrobust                                         \n",
       "===================================================================================\n",
       "                      coef    std err          t      P>|t|      [0.025      0.975]\n",
       "-----------------------------------------------------------------------------------\n",
       "Intercept           0.0038      0.001      2.887      0.004       0.001       0.006\n",
       "Poverty             0.0356      0.005      7.862      0.000       0.027       0.044\n",
       "No_Exercise         0.0815      0.004     19.184      0.000       0.073       0.090\n",
       "Few_Fruit_Veg      -0.0399      0.002    -23.612      0.000      -0.043      -0.037\n",
       "Obesity             0.0780      0.006     13.299      0.000       0.066       0.089\n",
       "High_Blood_Pres     0.1471      0.005     27.350      0.000       0.137       0.158\n",
       "Smoker              0.0986      0.004     22.311      0.000       0.090       0.107\n",
       "==============================================================================\n",
       "Omnibus:                     1554.684   Durbin-Watson:                   1.919\n",
       "Prob(Omnibus):                  0.000   Jarque-Bera (JB):           260642.809\n",
       "Skew:                           1.289   Prob(JB):                         0.00\n",
       "Kurtosis:                      47.753   Cond. No.                         57.6\n",
       "==============================================================================\n",
       "\n",
       "Warnings:\n",
       "[1] Standard Errors assume that the covariance matrix of the errors is correctly specified.\n",
       "\"\"\""
      ]
     },
     "execution_count": 21,
     "metadata": {},
     "output_type": "execute_result"
    }
   ],
   "source": [
    "formula = \"Diabetes ~ Poverty+No_Exercise+Few_Fruit_Veg+Obesity+High_Blood_Pres+Smoker\"\n",
    "model = ols(formula= formula, data=dfpw).fit()\n",
    "model.summary()"
   ]
  },
  {
   "cell_type": "markdown",
   "metadata": {},
   "source": [
    "#### dfabs - unweighted absolute values "
   ]
  },
  {
   "cell_type": "code",
   "execution_count": 22,
   "metadata": {},
   "outputs": [
    {
     "data": {
      "text/html": [
       "<table class=\"simpletable\">\n",
       "<caption>OLS Regression Results</caption>\n",
       "<tr>\n",
       "  <th>Dep. Variable:</th>        <td>Diabetes</td>     <th>  R-squared:         </th> <td>   0.991</td> \n",
       "</tr>\n",
       "<tr>\n",
       "  <th>Model:</th>                   <td>OLS</td>       <th>  Adj. R-squared:    </th> <td>   0.991</td> \n",
       "</tr>\n",
       "<tr>\n",
       "  <th>Method:</th>             <td>Least Squares</td>  <th>  F-statistic:       </th> <td>5.663e+04</td>\n",
       "</tr>\n",
       "<tr>\n",
       "  <th>Date:</th>             <td>Mon, 02 Dec 2019</td> <th>  Prob (F-statistic):</th>  <td>  0.00</td>  \n",
       "</tr>\n",
       "<tr>\n",
       "  <th>Time:</th>                 <td>02:14:31</td>     <th>  Log-Likelihood:    </th> <td> -42386.</td> \n",
       "</tr>\n",
       "<tr>\n",
       "  <th>No. Observations:</th>      <td>  3113</td>      <th>  AIC:               </th> <td>8.479e+04</td>\n",
       "</tr>\n",
       "<tr>\n",
       "  <th>Df Residuals:</th>          <td>  3106</td>      <th>  BIC:               </th> <td>8.483e+04</td>\n",
       "</tr>\n",
       "<tr>\n",
       "  <th>Df Model:</th>              <td>     6</td>      <th>                     </th>     <td> </td>    \n",
       "</tr>\n",
       "<tr>\n",
       "  <th>Covariance Type:</th>      <td>nonrobust</td>    <th>                     </th>     <td> </td>    \n",
       "</tr>\n",
       "</table>\n",
       "<table class=\"simpletable\">\n",
       "<tr>\n",
       "         <td></td>            <th>coef</th>     <th>std err</th>      <th>t</th>      <th>P>|t|</th>  <th>[0.025</th>    <th>0.975]</th>  \n",
       "</tr>\n",
       "<tr>\n",
       "  <th>Intercept</th>       <td> 1.122e+04</td> <td> 3887.661</td> <td>    2.887</td> <td> 0.004</td> <td> 3601.198</td> <td> 1.88e+04</td>\n",
       "</tr>\n",
       "<tr>\n",
       "  <th>Poverty</th>         <td>    0.0356</td> <td>    0.005</td> <td>    7.862</td> <td> 0.000</td> <td>    0.027</td> <td>    0.044</td>\n",
       "</tr>\n",
       "<tr>\n",
       "  <th>No_Exercise</th>     <td>    0.0815</td> <td>    0.004</td> <td>   19.184</td> <td> 0.000</td> <td>    0.073</td> <td>    0.090</td>\n",
       "</tr>\n",
       "<tr>\n",
       "  <th>Few_Fruit_Veg</th>   <td>   -0.0399</td> <td>    0.002</td> <td>  -23.612</td> <td> 0.000</td> <td>   -0.043</td> <td>   -0.037</td>\n",
       "</tr>\n",
       "<tr>\n",
       "  <th>Obesity</th>         <td>    0.0780</td> <td>    0.006</td> <td>   13.299</td> <td> 0.000</td> <td>    0.066</td> <td>    0.089</td>\n",
       "</tr>\n",
       "<tr>\n",
       "  <th>High_Blood_Pres</th> <td>    0.1471</td> <td>    0.005</td> <td>   27.350</td> <td> 0.000</td> <td>    0.137</td> <td>    0.158</td>\n",
       "</tr>\n",
       "<tr>\n",
       "  <th>Smoker</th>          <td>    0.0986</td> <td>    0.004</td> <td>   22.311</td> <td> 0.000</td> <td>    0.090</td> <td>    0.107</td>\n",
       "</tr>\n",
       "</table>\n",
       "<table class=\"simpletable\">\n",
       "<tr>\n",
       "  <th>Omnibus:</th>       <td>1554.684</td> <th>  Durbin-Watson:     </th>  <td>   1.919</td> \n",
       "</tr>\n",
       "<tr>\n",
       "  <th>Prob(Omnibus):</th>  <td> 0.000</td>  <th>  Jarque-Bera (JB):  </th> <td>260642.809</td>\n",
       "</tr>\n",
       "<tr>\n",
       "  <th>Skew:</th>           <td> 1.289</td>  <th>  Prob(JB):          </th>  <td>    0.00</td> \n",
       "</tr>\n",
       "<tr>\n",
       "  <th>Kurtosis:</th>       <td>47.753</td>  <th>  Cond. No.          </th>  <td>3.09e+07</td> \n",
       "</tr>\n",
       "</table><br/><br/>Warnings:<br/>[1] Standard Errors assume that the covariance matrix of the errors is correctly specified.<br/>[2] The condition number is large, 3.09e+07. This might indicate that there are<br/>strong multicollinearity or other numerical problems."
      ],
      "text/plain": [
       "<class 'statsmodels.iolib.summary.Summary'>\n",
       "\"\"\"\n",
       "                            OLS Regression Results                            \n",
       "==============================================================================\n",
       "Dep. Variable:               Diabetes   R-squared:                       0.991\n",
       "Model:                            OLS   Adj. R-squared:                  0.991\n",
       "Method:                 Least Squares   F-statistic:                 5.663e+04\n",
       "Date:                Mon, 02 Dec 2019   Prob (F-statistic):               0.00\n",
       "Time:                        02:14:31   Log-Likelihood:                -42386.\n",
       "No. Observations:                3113   AIC:                         8.479e+04\n",
       "Df Residuals:                    3106   BIC:                         8.483e+04\n",
       "Df Model:                           6                                         \n",
       "Covariance Type:            nonrobust                                         \n",
       "===================================================================================\n",
       "                      coef    std err          t      P>|t|      [0.025      0.975]\n",
       "-----------------------------------------------------------------------------------\n",
       "Intercept        1.122e+04   3887.661      2.887      0.004    3601.198    1.88e+04\n",
       "Poverty             0.0356      0.005      7.862      0.000       0.027       0.044\n",
       "No_Exercise         0.0815      0.004     19.184      0.000       0.073       0.090\n",
       "Few_Fruit_Veg      -0.0399      0.002    -23.612      0.000      -0.043      -0.037\n",
       "Obesity             0.0780      0.006     13.299      0.000       0.066       0.089\n",
       "High_Blood_Pres     0.1471      0.005     27.350      0.000       0.137       0.158\n",
       "Smoker              0.0986      0.004     22.311      0.000       0.090       0.107\n",
       "==============================================================================\n",
       "Omnibus:                     1554.684   Durbin-Watson:                   1.919\n",
       "Prob(Omnibus):                  0.000   Jarque-Bera (JB):           260642.809\n",
       "Skew:                           1.289   Prob(JB):                         0.00\n",
       "Kurtosis:                      47.753   Cond. No.                     3.09e+07\n",
       "==============================================================================\n",
       "\n",
       "Warnings:\n",
       "[1] Standard Errors assume that the covariance matrix of the errors is correctly specified.\n",
       "[2] The condition number is large, 3.09e+07. This might indicate that there are\n",
       "strong multicollinearity or other numerical problems.\n",
       "\"\"\""
      ]
     },
     "execution_count": 22,
     "metadata": {},
     "output_type": "execute_result"
    }
   ],
   "source": [
    "formula = \"Diabetes ~ Poverty+No_Exercise+Few_Fruit_Veg+Obesity+High_Blood_Pres+Smoker\"\n",
    "model = ols(formula= formula, data=dfabs).fit()\n",
    "model.summary()"
   ]
  },
  {
   "cell_type": "markdown",
   "metadata": {},
   "source": [
    "#### dfabsw - weighted absolute values "
   ]
  },
  {
   "cell_type": "code",
   "execution_count": 23,
   "metadata": {},
   "outputs": [
    {
     "data": {
      "text/html": [
       "<table class=\"simpletable\">\n",
       "<caption>OLS Regression Results</caption>\n",
       "<tr>\n",
       "  <th>Dep. Variable:</th>        <td>Diabetes</td>     <th>  R-squared:         </th> <td>   0.999</td> \n",
       "</tr>\n",
       "<tr>\n",
       "  <th>Model:</th>                   <td>OLS</td>       <th>  Adj. R-squared:    </th> <td>   0.999</td> \n",
       "</tr>\n",
       "<tr>\n",
       "  <th>Method:</th>             <td>Least Squares</td>  <th>  F-statistic:       </th> <td>9.597e+05</td>\n",
       "</tr>\n",
       "<tr>\n",
       "  <th>Date:</th>             <td>Mon, 02 Dec 2019</td> <th>  Prob (F-statistic):</th>  <td>  0.00</td>  \n",
       "</tr>\n",
       "<tr>\n",
       "  <th>Time:</th>                 <td>02:14:37</td>     <th>  Log-Likelihood:    </th> <td> -40263.</td> \n",
       "</tr>\n",
       "<tr>\n",
       "  <th>No. Observations:</th>      <td>  3113</td>      <th>  AIC:               </th> <td>8.054e+04</td>\n",
       "</tr>\n",
       "<tr>\n",
       "  <th>Df Residuals:</th>          <td>  3106</td>      <th>  BIC:               </th> <td>8.058e+04</td>\n",
       "</tr>\n",
       "<tr>\n",
       "  <th>Df Model:</th>              <td>     6</td>      <th>                     </th>     <td> </td>    \n",
       "</tr>\n",
       "<tr>\n",
       "  <th>Covariance Type:</th>      <td>nonrobust</td>    <th>                     </th>     <td> </td>    \n",
       "</tr>\n",
       "</table>\n",
       "<table class=\"simpletable\">\n",
       "<tr>\n",
       "         <td></td>            <th>coef</th>     <th>std err</th>      <th>t</th>      <th>P>|t|</th>  <th>[0.025</th>    <th>0.975]</th>  \n",
       "</tr>\n",
       "<tr>\n",
       "  <th>Intercept</th>       <td> 1765.3682</td> <td> 1813.702</td> <td>    0.973</td> <td> 0.330</td> <td>-1790.809</td> <td> 5321.545</td>\n",
       "</tr>\n",
       "<tr>\n",
       "  <th>Poverty</th>         <td>    0.0196</td> <td>    0.004</td> <td>    4.489</td> <td> 0.000</td> <td>    0.011</td> <td>    0.028</td>\n",
       "</tr>\n",
       "<tr>\n",
       "  <th>No_Exercise</th>     <td>    0.1159</td> <td>    0.004</td> <td>   30.398</td> <td> 0.000</td> <td>    0.108</td> <td>    0.123</td>\n",
       "</tr>\n",
       "<tr>\n",
       "  <th>Few_Fruit_Veg</th>   <td>   -0.0521</td> <td>    0.002</td> <td>  -33.527</td> <td> 0.000</td> <td>   -0.055</td> <td>   -0.049</td>\n",
       "</tr>\n",
       "<tr>\n",
       "  <th>Obesity</th>         <td>   -0.0040</td> <td>    0.006</td> <td>   -0.657</td> <td> 0.511</td> <td>   -0.016</td> <td>    0.008</td>\n",
       "</tr>\n",
       "<tr>\n",
       "  <th>High_Blood_Pres</th> <td>    0.1679</td> <td>    0.005</td> <td>   34.588</td> <td> 0.000</td> <td>    0.158</td> <td>    0.177</td>\n",
       "</tr>\n",
       "<tr>\n",
       "  <th>Smoker</th>          <td>    0.1765</td> <td>    0.004</td> <td>   42.672</td> <td> 0.000</td> <td>    0.168</td> <td>    0.185</td>\n",
       "</tr>\n",
       "</table>\n",
       "<table class=\"simpletable\">\n",
       "<tr>\n",
       "  <th>Omnibus:</th>       <td>1957.103</td> <th>  Durbin-Watson:     </th>   <td>   1.987</td>  \n",
       "</tr>\n",
       "<tr>\n",
       "  <th>Prob(Omnibus):</th>  <td> 0.000</td>  <th>  Jarque-Bera (JB):  </th> <td>10085855.483</td>\n",
       "</tr>\n",
       "<tr>\n",
       "  <th>Skew:</th>           <td> 1.203</td>  <th>  Prob(JB):          </th>   <td>    0.00</td>  \n",
       "</tr>\n",
       "<tr>\n",
       "  <th>Kurtosis:</th>       <td>281.841</td> <th>  Cond. No.          </th>   <td>5.66e+07</td>  \n",
       "</tr>\n",
       "</table><br/><br/>Warnings:<br/>[1] Standard Errors assume that the covariance matrix of the errors is correctly specified.<br/>[2] The condition number is large, 5.66e+07. This might indicate that there are<br/>strong multicollinearity or other numerical problems."
      ],
      "text/plain": [
       "<class 'statsmodels.iolib.summary.Summary'>\n",
       "\"\"\"\n",
       "                            OLS Regression Results                            \n",
       "==============================================================================\n",
       "Dep. Variable:               Diabetes   R-squared:                       0.999\n",
       "Model:                            OLS   Adj. R-squared:                  0.999\n",
       "Method:                 Least Squares   F-statistic:                 9.597e+05\n",
       "Date:                Mon, 02 Dec 2019   Prob (F-statistic):               0.00\n",
       "Time:                        02:14:37   Log-Likelihood:                -40263.\n",
       "No. Observations:                3113   AIC:                         8.054e+04\n",
       "Df Residuals:                    3106   BIC:                         8.058e+04\n",
       "Df Model:                           6                                         \n",
       "Covariance Type:            nonrobust                                         \n",
       "===================================================================================\n",
       "                      coef    std err          t      P>|t|      [0.025      0.975]\n",
       "-----------------------------------------------------------------------------------\n",
       "Intercept        1765.3682   1813.702      0.973      0.330   -1790.809    5321.545\n",
       "Poverty             0.0196      0.004      4.489      0.000       0.011       0.028\n",
       "No_Exercise         0.1159      0.004     30.398      0.000       0.108       0.123\n",
       "Few_Fruit_Veg      -0.0521      0.002    -33.527      0.000      -0.055      -0.049\n",
       "Obesity            -0.0040      0.006     -0.657      0.511      -0.016       0.008\n",
       "High_Blood_Pres     0.1679      0.005     34.588      0.000       0.158       0.177\n",
       "Smoker              0.1765      0.004     42.672      0.000       0.168       0.185\n",
       "==============================================================================\n",
       "Omnibus:                     1957.103   Durbin-Watson:                   1.987\n",
       "Prob(Omnibus):                  0.000   Jarque-Bera (JB):         10085855.483\n",
       "Skew:                           1.203   Prob(JB):                         0.00\n",
       "Kurtosis:                     281.841   Cond. No.                     5.66e+07\n",
       "==============================================================================\n",
       "\n",
       "Warnings:\n",
       "[1] Standard Errors assume that the covariance matrix of the errors is correctly specified.\n",
       "[2] The condition number is large, 5.66e+07. This might indicate that there are\n",
       "strong multicollinearity or other numerical problems.\n",
       "\"\"\""
      ]
     },
     "execution_count": 23,
     "metadata": {},
     "output_type": "execute_result"
    }
   ],
   "source": [
    "formula = \"Diabetes ~ Poverty+No_Exercise+Few_Fruit_Veg+Obesity+High_Blood_Pres+Smoker\"\n",
    "model = ols(formula= formula, data=dfabsw).fit()\n",
    "model.summary()"
   ]
  },
  {
   "cell_type": "markdown",
   "metadata": {},
   "source": [
    "### Checking for the effect of including different parameters"
   ]
  },
  {
   "cell_type": "code",
   "execution_count": 28,
   "metadata": {},
   "outputs": [],
   "source": [
    "# formula = \"Diabetes ~ Poverty+No_Exercise+Obesity+High_Blood_Pres+Northeast+South+West\"\n",
    "# pcatmodel = ols(formula= formula, data=dfpcat).fit()\n",
    "# pcatmodel.summary()"
   ]
  },
  {
   "cell_type": "code",
   "execution_count": 29,
   "metadata": {},
   "outputs": [],
   "source": [
    "# formula = \"Diabetes ~ Obesity+High_Blood_Pres\"\n",
    "# model = ols(formula= formula, data=dfp).fit()\n",
    "# model.summary()"
   ]
  },
  {
   "cell_type": "code",
   "execution_count": null,
   "metadata": {},
   "outputs": [],
   "source": [
    "# sns.jointplot(dfp['Poverty'], dfp['Diabetes'],kind = 'reg')"
   ]
  },
  {
   "cell_type": "markdown",
   "metadata": {},
   "source": [
    "### Check if all linear regression assumptions are met"
   ]
  },
  {
   "cell_type": "markdown",
   "metadata": {},
   "source": [
    "### dfpabsw"
   ]
  },
  {
   "cell_type": "code",
   "execution_count": 31,
   "metadata": {},
   "outputs": [],
   "source": [
    "# checking for Homoscedasticity\n",
    "pred_val = pcatmodel.fittedvalues.copy()\n",
    "true_val = dfpabsw['Diabetes'].values.copy()\n",
    "residual = true_val - pred_val"
   ]
  },
  {
   "cell_type": "code",
   "execution_count": 32,
   "metadata": {},
   "outputs": [
    {
     "data": {
      "text/plain": [
       "<matplotlib.collections.PathCollection at 0x1c2738a160>"
      ]
     },
     "execution_count": 32,
     "metadata": {},
     "output_type": "execute_result"
    },
    {
     "data": {
      "image/png": "[encoded data removed]",
      "text/plain": [
       "<Figure size 432x180 with 1 Axes>"
      ]
     },
     "metadata": {
      "needs_background": "light"
     },
     "output_type": "display_data"
    }
   ],
   "source": [
    "fig, ax = plt.subplots(figsize=(6,2.5))\n",
    "ax.scatter(dfpcat['Diabetes'],residual)\n",
    "# Residuals are not randomly distributed "
   ]
  },
  {
   "cell_type": "code",
   "execution_count": null,
   "metadata": {},
   "outputs": [],
   "source": [
    "# Checking for normality - residuals distribution is close to normal but skewed "
   ]
  },
  {
   "cell_type": "code",
   "execution_count": 43,
   "metadata": {},
   "outputs": [
    {
     "data": {
      "text/plain": [
       "<matplotlib.axes._subplots.AxesSubplot at 0x1c2bb421d0>"
      ]
     },
     "execution_count": 43,
     "metadata": {},
     "output_type": "execute_result"
    },
    {
     "data": {
      "image/png": "[encoded data removed]",
      "text/plain": [
       "<Figure size 432x288 with 1 Axes>"
      ]
     },
     "metadata": {},
     "output_type": "display_data"
    }
   ],
   "source": [
    "residual.hist(bins=50)"
   ]
  },
  {
   "cell_type": "code",
   "execution_count": 33,
   "metadata": {},
   "outputs": [
    {
     "data": {
      "text/plain": [
       "0.9523990893322951"
      ]
     },
     "execution_count": 33,
     "metadata": {},
     "output_type": "execute_result"
    },
    {
     "data": {
      "image/png": "[encoded data removed]",
      "text/plain": [
       "<Figure size 432x180 with 1 Axes>"
      ]
     },
     "metadata": {
      "needs_background": "light"
     },
     "output_type": "display_data"
    }
   ],
   "source": [
    "import scipy as sp\n",
    "fig, ax = plt.subplots(figsize=(6,2.5))\n",
    "sp.stats.probplot(residual, plot=ax, fit=True)\n",
    "residual**2\n",
    "0.9523990893322951"
   ]
  },
  {
   "cell_type": "code",
   "execution_count": 24,
   "metadata": {},
   "outputs": [
    {
     "data": {
      "text/plain": [
       "array([[<matplotlib.axes._subplots.AxesSubplot object at 0x1c1e4e6be0>,\n",
       "        <matplotlib.axes._subplots.AxesSubplot object at 0x1c1bee15c0>,\n",
       "        <matplotlib.axes._subplots.AxesSubplot object at 0x1c1bf27908>],\n",
       "       [<matplotlib.axes._subplots.AxesSubplot object at 0x1c1bf5ceb8>,\n",
       "        <matplotlib.axes._subplots.AxesSubplot object at 0x1c1bf994a8>,\n",
       "        <matplotlib.axes._subplots.AxesSubplot object at 0x1c1bfc9a58>],\n",
       "       [<matplotlib.axes._subplots.AxesSubplot object at 0x1c1c00b048>,\n",
       "        <matplotlib.axes._subplots.AxesSubplot object at 0x1c1c039630>,\n",
       "        <matplotlib.axes._subplots.AxesSubplot object at 0x1c1c039668>]],\n",
       "      dtype=object)"
      ]
     },
     "execution_count": 24,
     "metadata": {},
     "output_type": "execute_result"
    },
    {
     "data": {
      "image/png": "[encoded data removed]",
      "text/plain": [
       "<Figure size 504x504 with 9 Axes>"
      ]
     },
     "metadata": {
      "needs_background": "light"
     },
     "output_type": "display_data"
    }
   ],
   "source": [
    "# Check independent variable distributions\n",
    "dfabsw.hist(bins=40, figsize=[7,7])"
   ]
  },
  {
   "cell_type": "code",
   "execution_count": null,
   "metadata": {},
   "outputs": [],
   "source": [
    "dfabsw"
   ]
  },
  {
   "cell_type": "markdown",
   "metadata": {},
   "source": [
    "#### Log transformations"
   ]
  },
  {
   "cell_type": "code",
   "execution_count": 29,
   "metadata": {},
   "outputs": [],
   "source": [
    "dfabsw_log = dfabsw.copy(deep=True)"
   ]
  },
  {
   "cell_type": "code",
   "execution_count": 30,
   "metadata": {},
   "outputs": [
    {
     "data": {
      "text/plain": [
       "Index(['County_index', 'Poverty', 'No_Exercise', 'Few_Fruit_Veg', 'Obesity',\n",
       "       'High_Blood_Pres', 'Smoker', 'Diabetes'],\n",
       "      dtype='object')"
      ]
     },
     "execution_count": 30,
     "metadata": {},
     "output_type": "execute_result"
    }
   ],
   "source": [
    "dfabsw_log.columns"
   ]
  },
  {
   "cell_type": "code",
   "execution_count": 31,
   "metadata": {},
   "outputs": [],
   "source": [
    "log_list = ['Poverty', 'No_Exercise', 'Few_Fruit_Veg', 'Obesity',\n",
    "        'High_Blood_Pres', 'Smoker', 'Diabetes']"
   ]
  },
  {
   "cell_type": "code",
   "execution_count": 32,
   "metadata": {},
   "outputs": [
    {
     "name": "stdout",
     "output_type": "stream",
     "text": [
      "Poverty:0\n",
      "No_Exercise:0\n",
      "Few_Fruit_Veg:0\n",
      "Obesity:0\n",
      "High_Blood_Pres:0\n",
      "Smoker:0\n",
      "Diabetes:0\n"
     ]
    },
    {
     "data": {
      "text/plain": [
       "array([[<matplotlib.axes._subplots.AxesSubplot object at 0x1c1f747048>,\n",
       "        <matplotlib.axes._subplots.AxesSubplot object at 0x1c1f7dd7f0>,\n",
       "        <matplotlib.axes._subplots.AxesSubplot object at 0x1c1f821ba8>],\n",
       "       [<matplotlib.axes._subplots.AxesSubplot object at 0x1c1f916198>,\n",
       "        <matplotlib.axes._subplots.AxesSubplot object at 0x1c1f944748>,\n",
       "        <matplotlib.axes._subplots.AxesSubplot object at 0x1c1f975cf8>],\n",
       "       [<matplotlib.axes._subplots.AxesSubplot object at 0x1c1f9b32e8>,\n",
       "        <matplotlib.axes._subplots.AxesSubplot object at 0x1c1f9e38d0>,\n",
       "        <matplotlib.axes._subplots.AxesSubplot object at 0x1c1f9e3908>]],\n",
       "      dtype=object)"
      ]
     },
     "execution_count": 32,
     "metadata": {},
     "output_type": "execute_result"
    },
    {
     "data": {
      "image/png": "[encoded data removed]",
      "text/plain": [
       "<Figure size 504x504 with 9 Axes>"
      ]
     },
     "metadata": {
      "needs_background": "light"
     },
     "output_type": "display_data"
    }
   ],
   "source": [
    "# Transform the variables to see how it affects the model\n",
    "\n",
    "for col in log_list:\n",
    "    print(f'{col}:{(dfabsw_log[col] == 0).sum()}')\n",
    "    dfabsw_log[col] = np.log(dfabsw_log[col])\n",
    "dfabsw_log.hist(bins=40, figsize=[7,7])\n",
    "# dfp_log['Poverty'] = np.log(dfp_log['Poverty'])\n",
    "# dfpcat_log['High_Blood_Pres'] = np.log(dfpcat_log['High_Blood_Pres'])"
   ]
  },
  {
   "cell_type": "code",
   "execution_count": 34,
   "metadata": {},
   "outputs": [
    {
     "data": {
      "text/html": [
       "<table class=\"simpletable\">\n",
       "<caption>OLS Regression Results</caption>\n",
       "<tr>\n",
       "  <th>Dep. Variable:</th>        <td>Diabetes</td>     <th>  R-squared:         </th> <td>   0.989</td> \n",
       "</tr>\n",
       "<tr>\n",
       "  <th>Model:</th>                   <td>OLS</td>       <th>  Adj. R-squared:    </th> <td>   0.989</td> \n",
       "</tr>\n",
       "<tr>\n",
       "  <th>Method:</th>             <td>Least Squares</td>  <th>  F-statistic:       </th> <td>4.527e+04</td>\n",
       "</tr>\n",
       "<tr>\n",
       "  <th>Date:</th>             <td>Mon, 02 Dec 2019</td> <th>  Prob (F-statistic):</th>  <td>  0.00</td>  \n",
       "</tr>\n",
       "<tr>\n",
       "  <th>Time:</th>                 <td>02:22:38</td>     <th>  Log-Likelihood:    </th> <td> -739.00</td> \n",
       "</tr>\n",
       "<tr>\n",
       "  <th>No. Observations:</th>      <td>  3113</td>      <th>  AIC:               </th> <td>   1492.</td> \n",
       "</tr>\n",
       "<tr>\n",
       "  <th>Df Residuals:</th>          <td>  3106</td>      <th>  BIC:               </th> <td>   1534.</td> \n",
       "</tr>\n",
       "<tr>\n",
       "  <th>Df Model:</th>              <td>     6</td>      <th>                     </th>     <td> </td>    \n",
       "</tr>\n",
       "<tr>\n",
       "  <th>Covariance Type:</th>      <td>nonrobust</td>    <th>                     </th>     <td> </td>    \n",
       "</tr>\n",
       "</table>\n",
       "<table class=\"simpletable\">\n",
       "<tr>\n",
       "         <td></td>            <th>coef</th>     <th>std err</th>      <th>t</th>      <th>P>|t|</th>  <th>[0.025</th>    <th>0.975]</th>  \n",
       "</tr>\n",
       "<tr>\n",
       "  <th>Intercept</th>       <td>   -0.7894</td> <td>    0.052</td> <td>  -15.296</td> <td> 0.000</td> <td>   -0.891</td> <td>   -0.688</td>\n",
       "</tr>\n",
       "<tr>\n",
       "  <th>Poverty</th>         <td>    0.1553</td> <td>    0.018</td> <td>    8.697</td> <td> 0.000</td> <td>    0.120</td> <td>    0.190</td>\n",
       "</tr>\n",
       "<tr>\n",
       "  <th>No_Exercise</th>     <td>    0.1798</td> <td>    0.034</td> <td>    5.287</td> <td> 0.000</td> <td>    0.113</td> <td>    0.247</td>\n",
       "</tr>\n",
       "<tr>\n",
       "  <th>Few_Fruit_Veg</th>   <td>   -0.2937</td> <td>    0.038</td> <td>   -7.715</td> <td> 0.000</td> <td>   -0.368</td> <td>   -0.219</td>\n",
       "</tr>\n",
       "<tr>\n",
       "  <th>Obesity</th>         <td>    0.5581</td> <td>    0.036</td> <td>   15.583</td> <td> 0.000</td> <td>    0.488</td> <td>    0.628</td>\n",
       "</tr>\n",
       "<tr>\n",
       "  <th>High_Blood_Pres</th> <td>    0.4069</td> <td>    0.040</td> <td>   10.178</td> <td> 0.000</td> <td>    0.329</td> <td>    0.485</td>\n",
       "</tr>\n",
       "<tr>\n",
       "  <th>Smoker</th>          <td>   -0.0046</td> <td>    0.027</td> <td>   -0.173</td> <td> 0.863</td> <td>   -0.057</td> <td>    0.048</td>\n",
       "</tr>\n",
       "</table>\n",
       "<table class=\"simpletable\">\n",
       "<tr>\n",
       "  <th>Omnibus:</th>       <td>759.317</td> <th>  Durbin-Watson:     </th> <td>   1.971</td>\n",
       "</tr>\n",
       "<tr>\n",
       "  <th>Prob(Omnibus):</th> <td> 0.000</td>  <th>  Jarque-Bera (JB):  </th> <td>3730.873</td>\n",
       "</tr>\n",
       "<tr>\n",
       "  <th>Skew:</th>          <td>-1.080</td>  <th>  Prob(JB):          </th> <td>    0.00</td>\n",
       "</tr>\n",
       "<tr>\n",
       "  <th>Kurtosis:</th>      <td> 7.909</td>  <th>  Cond. No.          </th> <td>    281.</td>\n",
       "</tr>\n",
       "</table><br/><br/>Warnings:<br/>[1] Standard Errors assume that the covariance matrix of the errors is correctly specified."
      ],
      "text/plain": [
       "<class 'statsmodels.iolib.summary.Summary'>\n",
       "\"\"\"\n",
       "                            OLS Regression Results                            \n",
       "==============================================================================\n",
       "Dep. Variable:               Diabetes   R-squared:                       0.989\n",
       "Model:                            OLS   Adj. R-squared:                  0.989\n",
       "Method:                 Least Squares   F-statistic:                 4.527e+04\n",
       "Date:                Mon, 02 Dec 2019   Prob (F-statistic):               0.00\n",
       "Time:                        02:22:38   Log-Likelihood:                -739.00\n",
       "No. Observations:                3113   AIC:                             1492.\n",
       "Df Residuals:                    3106   BIC:                             1534.\n",
       "Df Model:                           6                                         \n",
       "Covariance Type:            nonrobust                                         \n",
       "===================================================================================\n",
       "                      coef    std err          t      P>|t|      [0.025      0.975]\n",
       "-----------------------------------------------------------------------------------\n",
       "Intercept          -0.7894      0.052    -15.296      0.000      -0.891      -0.688\n",
       "Poverty             0.1553      0.018      8.697      0.000       0.120       0.190\n",
       "No_Exercise         0.1798      0.034      5.287      0.000       0.113       0.247\n",
       "Few_Fruit_Veg      -0.2937      0.038     -7.715      0.000      -0.368      -0.219\n",
       "Obesity             0.5581      0.036     15.583      0.000       0.488       0.628\n",
       "High_Blood_Pres     0.4069      0.040     10.178      0.000       0.329       0.485\n",
       "Smoker             -0.0046      0.027     -0.173      0.863      -0.057       0.048\n",
       "==============================================================================\n",
       "Omnibus:                      759.317   Durbin-Watson:                   1.971\n",
       "Prob(Omnibus):                  0.000   Jarque-Bera (JB):             3730.873\n",
       "Skew:                          -1.080   Prob(JB):                         0.00\n",
       "Kurtosis:                       7.909   Cond. No.                         281.\n",
       "==============================================================================\n",
       "\n",
       "Warnings:\n",
       "[1] Standard Errors assume that the covariance matrix of the errors is correctly specified.\n",
       "\"\"\""
      ]
     },
     "execution_count": 34,
     "metadata": {},
     "output_type": "execute_result"
    }
   ],
   "source": [
    "formula = \"Diabetes ~ Poverty+No_Exercise+Few_Fruit_Veg+Obesity+High_Blood_Pres+Smoker\"\n",
    "absw_log_model = ols(formula= formula, data=dfabsw_log ).fit()\n",
    "absw_log_model.summary()"
   ]
  },
  {
   "cell_type": "markdown",
   "metadata": {},
   "source": [
    "## Check for multicollinearity"
   ]
  },
  {
   "cell_type": "code",
   "execution_count": 40,
   "metadata": {},
   "outputs": [
    {
     "data": {
      "image/png": "[encoded data removed]",
      "text/plain": [
       "<Figure size 864x864 with 49 Axes>"
      ]
     },
     "metadata": {
      "needs_background": "light"
     },
     "output_type": "display_data"
    }
   ],
   "source": [
    "pd.plotting.scatter_matrix(dfabsw_log, figsize = [12,12])\n",
    "plt.show()"
   ]
  },
  {
   "cell_type": "code",
   "execution_count": 42,
   "metadata": {},
   "outputs": [
    {
     "ename": "NameError",
     "evalue": "name 'chol' is not defined",
     "output_type": "error",
     "traceback": [
      "\u001b[0;31m---------------------------------------------------------------------------\u001b[0m",
      "\u001b[0;31mNameError\u001b[0m                                 Traceback (most recent call last)",
      "\u001b[0;32m<ipython-input-42-dd16afc1687b>\u001b[0m in \u001b[0;36m<module>\u001b[0;34m\u001b[0m\n\u001b[0;32m----> 1\u001b[0;31m \u001b[0mchol\u001b[0m\u001b[0;34m(\u001b[0m\u001b[0mdfabsw_log\u001b[0m\u001b[0;34m.\u001b[0m\u001b[0mcorr\u001b[0m\u001b[0;34m(\u001b[0m\u001b[0;34m)\u001b[0m\u001b[0;34m)\u001b[0m\u001b[0;34m\u001b[0m\u001b[0;34m\u001b[0m\u001b[0m\n\u001b[0m",
      "\u001b[0;31mNameError\u001b[0m: name 'chol' is not defined"
     ]
    }
   ],
   "source": [
    "dfabsw_log.corr()"
   ]
  },
  {
   "cell_type": "code",
   "execution_count": 41,
   "metadata": {},
   "outputs": [
    {
     "data": {
      "image/png": "[encoded data removed]",
      "text/plain": [
       "<Figure size 432x288 with 2 Axes>"
      ]
     },
     "metadata": {
      "needs_background": "light"
     },
     "output_type": "display_data"
    }
   ],
   "source": [
    "sns.heatmap(dfabsw_log.corr(), center=0);"
   ]
  },
  {
   "cell_type": "markdown",
   "metadata": {},
   "source": [
    "#### Perform a test split"
   ]
  },
  {
   "cell_type": "code",
   "execution_count": 111,
   "metadata": {},
   "outputs": [],
   "source": [
    "from sklearn.model_selection import train_test_split\n",
    "import sklearn.metrics as metrics\n",
    "from sklearn.linear_model import LinearRegression\n",
    "from sklearn.model_selection import cross_val_score"
   ]
  },
  {
   "cell_type": "code",
   "execution_count": 77,
   "metadata": {},
   "outputs": [],
   "source": [
    "# y = dfp['Diabetes']\n",
    "# X = dfp[[ 'Poverty', 'No_Exercise', 'Few_Fruit_Veg', 'Obesity', 'High_Blood_Pres', 'Smoker']]"
   ]
  },
  {
   "cell_type": "code",
   "execution_count": 115,
   "metadata": {},
   "outputs": [],
   "source": [
    "y = dfpcat['Diabetes']\n",
    "X = dfpcat[[ 'Poverty', 'No_Exercise', 'Few_Fruit_Veg', 'Obesity', 'High_Blood_Pres', 'Smoker','Northeast','South','West']]\n"
   ]
  },
  {
   "cell_type": "code",
   "execution_count": 116,
   "metadata": {},
   "outputs": [],
   "source": [
    "X_train, X_test, y_train, y_test = train_test_split(X, y)"
   ]
  },
  {
   "cell_type": "code",
   "execution_count": 117,
   "metadata": {},
   "outputs": [
    {
     "name": "stdout",
     "output_type": "stream",
     "text": [
      "2334 779 2334 779\n"
     ]
    }
   ],
   "source": [
    "print(len(X_train), len(X_test), len(y_train), len(y_test))"
   ]
  },
  {
   "cell_type": "code",
   "execution_count": 118,
   "metadata": {},
   "outputs": [
    {
     "data": {
      "text/plain": [
       "LinearRegression(copy_X=True, fit_intercept=True, n_jobs=None, normalize=False)"
      ]
     },
     "execution_count": 118,
     "metadata": {},
     "output_type": "execute_result"
    }
   ],
   "source": [
    "# linreg = LinearRegression()\n",
    "# linreg.fit(X_train, y_train)"
   ]
  },
  {
   "cell_type": "code",
   "execution_count": 119,
   "metadata": {},
   "outputs": [
    {
     "name": "stdout",
     "output_type": "stream",
     "text": [
      "Train Mean Squarred Error: 4.866463918777828\n",
      "Training r^2: 0.29794981355571004\n",
      "Test Mean Squarred Error: 4.337360756018332\n",
      "Test r^2: 0.3307590601079671\n"
     ]
    }
   ],
   "source": [
    "# # Calculate predictions on training and test sets\n",
    "# y_hat_train = linreg.predict(X_train)\n",
    "# y_hat_test = linreg.predict(X_test)\n",
    "# # Calculate training and test residuals\n",
    "# train_residuals = y_hat_train - y_train\n",
    "# test_residuals = y_hat_test - y_test\n",
    "# # Calculate the Mean Squared Error (MSE)\n",
    "# train_mse = metrics.mean_squared_error(y_train, y_hat_train)\n",
    "# test_mse = metrics.mean_squared_error(y_test, y_hat_test)\n",
    "# print('Train Mean Squarred Error:', train_mse)\n",
    "# print('Training r^2:', linreg.score(X_train, y_train))\n",
    "# print('Test Mean Squarred Error:', test_mse)\n",
    "# print('Test r^2:', linreg.score(X_test, y_test))"
   ]
  },
  {
   "cell_type": "code",
   "execution_count": 120,
   "metadata": {},
   "outputs": [
    {
     "data": {
      "text/plain": [
       "array([-5.17036651, -4.88576353, -5.17081384, -5.18225237, -5.06858038,\n",
       "       -3.89543232, -5.84288214, -4.20810592, -3.6102694 , -5.2420793 ])"
      ]
     },
     "execution_count": 120,
     "metadata": {},
     "output_type": "execute_result"
    }
   ],
   "source": [
    "# # perform a k-fold cross-validation\n",
    "# cv_10 = cross_val_score(linreg, X, y, cv=10, scoring='neg_mean_squared_error')\n",
    "# cv_10"
   ]
  },
  {
   "cell_type": "code",
   "execution_count": 121,
   "metadata": {},
   "outputs": [
    {
     "data": {
      "text/plain": [
       "array([0.44716136, 0.24303098, 0.13503192, 0.06249144, 0.34580353,\n",
       "       0.2799835 , 0.20554068, 0.30721855, 0.25414537, 0.36689751])"
      ]
     },
     "execution_count": 121,
     "metadata": {},
     "output_type": "execute_result"
    }
   ],
   "source": [
    "# cv_10_r2 = cross_val_score(linreg, X, y, cv=10, scoring='r2')\n",
    "# cv_10_r2"
   ]
  },
  {
   "cell_type": "markdown",
   "metadata": {},
   "source": [
    "#### Perform a k-fold cross-validation"
   ]
  },
  {
   "cell_type": "code",
   "execution_count": 122,
   "metadata": {},
   "outputs": [],
   "source": [
    "from sklearn.model_selection import KFold"
   ]
  },
  {
   "cell_type": "code",
   "execution_count": 152,
   "metadata": {},
   "outputs": [],
   "source": [
    "kfold = KFold(10, True)\n",
    "b_model = LinearRegression()"
   ]
  },
  {
   "cell_type": "code",
   "execution_count": 158,
   "metadata": {},
   "outputs": [
    {
     "name": "stdout",
     "output_type": "stream",
     "text": [
      " R-squared of the model (mean of 10-fold cross-validation): 0.30294522838879195\n"
     ]
    },
    {
     "data": {
      "text/plain": [
       "array([0.25694141, 0.27605558, 0.39152669, 0.3015339 , 0.29976963,\n",
       "       0.33253906, 0.32504269, 0.2567632 , 0.31256946, 0.27671066])"
      ]
     },
     "execution_count": 158,
     "metadata": {},
     "output_type": "execute_result"
    }
   ],
   "source": [
    "cv_10_cv_r2 = cross_val_score(b_model, X, y, scoring='r2', cv=kfold)\n",
    "print(f' R-squared of the model (mean of 10-fold cross-validation): {cv_10_cv_r2.mean()}')\n",
    "baseline = cv_10_cv_r2.mean()\n",
    "cv_10_cv_r2"
   ]
  },
  {
   "cell_type": "code",
   "execution_count": 159,
   "metadata": {},
   "outputs": [
    {
     "name": "stdout",
     "output_type": "stream",
     "text": [
      " MSE of the model (mean of 10-fold cross-validation): -4.770525761730887\n"
     ]
    },
    {
     "data": {
      "text/plain": [
       "array([-3.95810479, -5.1390288 , -4.44759467, -4.14236163, -4.578035  ,\n",
       "       -4.51342553, -4.42781207, -4.54772696, -5.42375295, -6.52741522])"
      ]
     },
     "execution_count": 159,
     "metadata": {},
     "output_type": "execute_result"
    }
   ],
   "source": [
    "cv_10_cv_mse = cross_val_score(b_model, X, y, scoring='neg_mean_squared_error', cv=kfold)\n",
    "print(f' MSE of the model (mean of 10-fold cross-validation): {cv_10_cv_mse.mean()}')\n",
    "cv_10_cv_mse"
   ]
  },
  {
   "cell_type": "markdown",
   "metadata": {},
   "source": [
    "### Check for interactions"
   ]
  },
  {
   "cell_type": "code",
   "execution_count": 144,
   "metadata": {},
   "outputs": [
    {
     "data": {
      "text/plain": [
       "Index(['County_index', 'Poverty', 'No_Exercise', 'Few_Fruit_Veg', 'Obesity',\n",
       "       'High_Blood_Pres', 'Smoker', 'Diabetes', 'Northeast', 'South', 'West'],\n",
       "      dtype='object')"
      ]
     },
     "execution_count": 144,
     "metadata": {},
     "output_type": "execute_result"
    }
   ],
   "source": [
    "dfpcat.columns"
   ]
  },
  {
   "cell_type": "code",
   "execution_count": 161,
   "metadata": {},
   "outputs": [],
   "source": [
    "X_int = X.copy(deep=True)"
   ]
  },
  {
   "cell_type": "code",
   "execution_count": 163,
   "metadata": {},
   "outputs": [
    {
     "name": "stdout",
     "output_type": "stream",
     "text": [
      "Top 7 interactions: [('No_Exercise', 'High_Blood_Pres', 0.306), ('Obesity', 'High_Blood_Pres', 0.306), ('No_Exercise', 'Few_Fruit_Veg', 0.304), ('No_Exercise', 'Obesity', 0.304), ('No_Exercise', 'Smoker', 0.304), ('Few_Fruit_Veg', 'High_Blood_Pres', 0.304), ('Smoker', 'South', 0.304)]\n"
     ]
    }
   ],
   "source": [
    "from itertools import combinations\n",
    "combinations = list(combinations(X_int.columns.values, 2))\n",
    "\n",
    "interactions = []\n",
    "for comb in combinations:\n",
    "    X_int['interaction'] = X_int[comb[0]] * X_int[comb[1]]\n",
    "    score = np.mean(cross_val_score(b_model, X_int, y, scoring='r2', cv=kfold))\n",
    "    if score > baseline:\n",
    "        interactions.append((comb[0], comb[1], round(score, 3)))\n",
    "            \n",
    "print('Top 7 interactions: %s' %sorted(interactions, key=lambda inter: inter[2], reverse=True)[:7])"
   ]
  },
  {
   "cell_type": "code",
   "execution_count": 91,
   "metadata": {},
   "outputs": [
    {
     "data": {
      "text/plain": [
       "LinearRegression(copy_X=True, fit_intercept=True, n_jobs=None, normalize=False)"
      ]
     },
     "execution_count": 91,
     "metadata": {},
     "output_type": "execute_result"
    }
   ],
   "source": [
    "model = LinearRegression()\n",
    "model.fit(X,y)"
   ]
  },
  {
   "cell_type": "code",
   "execution_count": 92,
   "metadata": {},
   "outputs": [],
   "source": [
    "y_pred = model.predict(X)"
   ]
  },
  {
   "cell_type": "code",
   "execution_count": 94,
   "metadata": {},
   "outputs": [
    {
     "data": {
      "text/plain": [
       "0.3075918340110265"
      ]
     },
     "execution_count": 94,
     "metadata": {},
     "output_type": "execute_result"
    }
   ],
   "source": [
    "metrics.r2_score(y, y_pred)"
   ]
  },
  {
   "cell_type": "code",
   "execution_count": 93,
   "metadata": {},
   "outputs": [],
   "source": [
    "def regression_results(y_true, y_pred):\n",
    "\n",
    "    # Regression metrics\n",
    "    explained_variance=metrics.explained_variance_score(y_true, y_pred)\n",
    "    mean_absolute_error=metrics.mean_absolute_error(y_true, y_pred) \n",
    "    mse=metrics.mean_squared_error(y_true, y_pred) \n",
    "    mean_squared_log_error=metrics.mean_squared_log_error(y_true, y_pred)\n",
    "    median_absolute_error=metrics.median_absolute_error(y_true, y_pred)\n",
    "    r2=metrics.r2_score(y_true, y_pred)\n",
    "\n",
    "    print('explained_variance: ', round(explained_variance,4))    \n",
    "    print('mean_squared_log_error: ', round(mean_squared_log_error,4))\n",
    "    print('r2: ', round(r2,4))\n",
    "    print('MAE: ', round(mean_absolute_error,4))\n",
    "    print('MSE: ', round(mse,4))\n",
    "    print('RMSE: ', round(np.sqrt(mse),4))"
   ]
  },
  {
   "cell_type": "code",
   "execution_count": 90,
   "metadata": {},
   "outputs": [
    {
     "name": "stdout",
     "output_type": "stream",
     "text": [
      "explained_variance:  0.3068\n",
      "mean_squared_log_error:  0.0679\n",
      "r2:  0.3067\n",
      "MAE:  1.5684\n",
      "MSE:  4.7364\n",
      "RMSE:  2.1763\n"
     ]
    }
   ],
   "source": [
    "regression_results(y, y_pred)"
   ]
  },
  {
   "cell_type": "code",
   "execution_count": 95,
   "metadata": {},
   "outputs": [
    {
     "name": "stdout",
     "output_type": "stream",
     "text": [
      "explained_variance:  0.3076\n",
      "mean_squared_log_error:  0.0675\n",
      "r2:  0.3076\n",
      "MAE:  1.5629\n",
      "MSE:  4.73\n",
      "RMSE:  2.1749\n"
     ]
    }
   ],
   "source": [
    "regression_results(y, y_pred)"
   ]
  },
  {
   "cell_type": "code",
   "execution_count": null,
   "metadata": {},
   "outputs": [],
   "source": []
  },
  {
   "cell_type": "code",
   "execution_count": 189,
   "metadata": {},
   "outputs": [],
   "source": [
    "y_log = dfpcat_log['Diabetes']\n",
    "X_log = dfpcat_log[[ 'Poverty', 'No_Exercise', 'Few_Fruit_Veg', 'Obesity', 'High_Blood_Pres', 'Smoker','Northeast','South','West']]\n"
   ]
  },
  {
   "cell_type": "code",
   "execution_count": 190,
   "metadata": {},
   "outputs": [
    {
     "name": "stdout",
     "output_type": "stream",
     "text": [
      " R-squared of the model (mean of 10-fold cross-validation): 0.3025205033932109\n"
     ]
    },
    {
     "data": {
      "text/plain": [
       "array([0.25694141, 0.27605558, 0.39152669, 0.3015339 , 0.29976963,\n",
       "       0.33253906, 0.32504269, 0.2567632 , 0.31256946, 0.27671066])"
      ]
     },
     "execution_count": 190,
     "metadata": {},
     "output_type": "execute_result"
    }
   ],
   "source": [
    "# kfold = KFold(10, True)\n",
    "# b_model = LinearRegression()\n",
    "\n",
    "cv_10_cv_r2_log = cross_val_score(b_model, X_log, y_log, scoring='r2', cv=kfold)\n",
    "print(f' R-squared of the model (mean of 10-fold cross-validation): {cv_10_cv_r2_log.mean()}')\n",
    "baseline_log = cv_10_cv_r2.mean()\n",
    "cv_10_cv_r2"
   ]
  },
  {
   "cell_type": "code",
   "execution_count": 191,
   "metadata": {},
   "outputs": [
    {
     "name": "stdout",
     "output_type": "stream",
     "text": [
      " MSE of the model (mean of 10-fold cross-validation): -4.737566133904944\n"
     ]
    },
    {
     "data": {
      "text/plain": [
       "array([-3.95810479, -5.1390288 , -4.44759467, -4.14236163, -4.578035  ,\n",
       "       -4.51342553, -4.42781207, -4.54772696, -5.42375295, -6.52741522])"
      ]
     },
     "execution_count": 191,
     "metadata": {},
     "output_type": "execute_result"
    }
   ],
   "source": [
    "cv_10_cv_mse_log = cross_val_score(b_model, X_log, y_log, scoring='neg_mean_squared_error', cv=kfold)\n",
    "print(f' MSE of the model (mean of 10-fold cross-validation): {cv_10_cv_mse_log.mean()}')\n",
    "cv_10_cv_mse"
   ]
  },
  {
   "cell_type": "markdown",
   "metadata": {},
   "source": [
    "Uninsured and Poverty are correlated, so for now we will drop uninsured"
   ]
  },
  {
   "cell_type": "code",
   "execution_count": null,
   "metadata": {},
   "outputs": [],
   "source": [
    "df_X = df_X.drop('Uninsured', axis=1)"
   ]
  },
  {
   "cell_type": "code",
   "execution_count": null,
   "metadata": {},
   "outputs": [],
   "source": [
    "formula2 = \"Diabetes ~ Poverty+No_Exercise+Few_Fruit_Veg+Obesity+High_Blood_Pres+Smoker\"\n",
    "model2 = ols(formula= formula2, data=main_df).fit()"
   ]
  },
  {
   "cell_type": "code",
   "execution_count": null,
   "metadata": {},
   "outputs": [],
   "source": [
    "model2.summary()"
   ]
  },
  {
   "cell_type": "markdown",
   "metadata": {},
   "source": [
    "## Scaling / Normalization / Standardization"
   ]
  },
  {
   "cell_type": "code",
   "execution_count": null,
   "metadata": {},
   "outputs": [],
   "source": [
    "df_X_copy = df_X.copy(deep=True)"
   ]
  },
  {
   "cell_type": "markdown",
   "metadata": {},
   "source": [
    "Converting the values to proportions earlier took care of outliers and the distributions are pretty normal but still cound be made better with log transform"
   ]
  },
  {
   "cell_type": "code",
   "execution_count": null,
   "metadata": {},
   "outputs": [],
   "source": [
    "df_X['Poverty'] = df_X['Poverty'].map(lambda x: np.log(x))"
   ]
  },
  {
   "cell_type": "code",
   "execution_count": null,
   "metadata": {},
   "outputs": [],
   "source": [
    "df_X['No_Exercise'] = df_X['No_Exercise'].map(lambda x: np.log(x))"
   ]
  },
  {
   "cell_type": "code",
   "execution_count": null,
   "metadata": {},
   "outputs": [],
   "source": [
    "df_X['Few_Fruit_Veg'] = df_X['Few_Fruit_Veg'].map(lambda x: np.log(x))"
   ]
  },
  {
   "cell_type": "code",
   "execution_count": null,
   "metadata": {},
   "outputs": [],
   "source": [
    "df_X['Obesity'] = df_X['Obesity'].map(lambda x: np.log(x))"
   ]
  },
  {
   "cell_type": "code",
   "execution_count": null,
   "metadata": {},
   "outputs": [],
   "source": [
    "df_X['High_Blood_Pres'] = df_X['High_Blood_Pres'].map(lambda x: np.log(x))"
   ]
  },
  {
   "cell_type": "code",
   "execution_count": null,
   "metadata": {},
   "outputs": [],
   "source": [
    "df_X['Smoker'] = df_X['Smoker'].map(lambda x: np.log(x))"
   ]
  },
  {
   "cell_type": "code",
   "execution_count": null,
   "metadata": {},
   "outputs": [],
   "source": [
    "# for col in df_X.columns:\n",
    "pd.plotting.scatter_matrix(df_X, figsize=(10,12));"
   ]
  },
  {
   "cell_type": "code",
   "execution_count": null,
   "metadata": {},
   "outputs": [],
   "source": [
    "logged_df = pd.concat([df_Y, df_X], axis=1)"
   ]
  },
  {
   "cell_type": "code",
   "execution_count": null,
   "metadata": {},
   "outputs": [],
   "source": [
    "model3 = ols(formula= formula2, data=logged_df).fit()\n",
    "model3.summary()"
   ]
  },
  {
   "cell_type": "code",
   "execution_count": null,
   "metadata": {},
   "outputs": [],
   "source": [
    "residuals = model.resid\n",
    "fig = sm.graphics.qqplot(residuals, dist=stats.norm, line='45', fit=True)\n",
    "fig.show()"
   ]
  },
  {
   "cell_type": "code",
   "execution_count": null,
   "metadata": {},
   "outputs": [],
   "source": [
    "fig = plt.figure(figsize=(15,8))\n",
    "fig = sm.graphics.plot_regress_exog(model, \"Obesity\", fig=fig)\n",
    "plt.show()"
   ]
  },
  {
   "cell_type": "code",
   "execution_count": null,
   "metadata": {},
   "outputs": [],
   "source": [
    "from sklearn.preprocessing import StandardScaler\n",
    "\n",
    "ss = StandardScaler()\n",
    "transformed = scale.fit_transform(df_X)\n",
    "X = pd.DataFrame(transformed, columns = df_X.columns)"
   ]
  },
  {
   "cell_type": "code",
   "execution_count": null,
   "metadata": {},
   "outputs": [],
   "source": [
    "log_scale_df = pd.concat([df_Y, X], axis=1)"
   ]
  },
  {
   "cell_type": "code",
   "execution_count": null,
   "metadata": {},
   "outputs": [],
   "source": [
    "model4 = ols(formula= formula2, data=log_scale_df).fit()\n",
    "model4.summary()"
   ]
  },
  {
   "cell_type": "code",
   "execution_count": null,
   "metadata": {},
   "outputs": [],
   "source": [
    "scale = MinMaxScaler()\n",
    "transformed = scale.fit_transform(X)\n",
    "X = pd.DataFrame(transformed, columns = df_X.columns)"
   ]
  },
  {
   "cell_type": "code",
   "execution_count": null,
   "metadata": {},
   "outputs": [],
   "source": [
    "# implementation \n",
    "from sklearn.linear_model import LinearRegression\n",
    "from sklearn.preprocessing import MinMaxScaler\n",
    "from sklearn.linear_model import Lasso, Ridge, LinearRegression\n",
    "from sklearn.model_selection import train_test_split\n",
    "import pandas as pd\n",
    "import numpy as np\n",
    "import matplotlib.pyplot as plt\n",
    "import seaborn as sns\n",
    "\n",
    "\n",
    "#data = pd.read_csv(\"https://raw.githubusercontent.com/learn-co-curriculum/dsc-2-24-09-ridge-and-lasso-regression/master/auto-mpg.csv\") \n",
    "data = risk_df.sample(50)\n",
    "data.isna()\n",
    "y = df_Y.as_matrix()\n",
    "X = X.as_matrix()\n"
   ]
  },
  {
   "cell_type": "code",
   "execution_count": null,
   "metadata": {},
   "outputs": [],
   "source": [
    " # Perform t`est train split\n",
    "X_train , X_test, y_train, y_test = train_test_split(X, y, test_size=0.2, random_state=12)\n",
    "\n",
    "# Build a Ridge, Lasso and regular linear regression model. \n",
    "# Note how in scikit learn, the regularization parameter is denoted by alpha (and not lambda)\n",
    "ridge = Ridge(alpha=.5)\n",
    "ridge.fit(X_train, y_train)\n",
    "\n",
    "lasso = Lasso(alpha=.5)\n",
    "lasso.fit(X_train, y_train)\n",
    "\n",
    "lin = LinearRegression()\n",
    "lin.fit(X_train, y_train)"
   ]
  },
  {
   "cell_type": "code",
   "execution_count": null,
   "metadata": {},
   "outputs": [],
   "source": [
    "print(\"Unpenalized Linear Regression Coefficients are:{}\".format(lin.coef_))\n",
    "print(\"Unpenalized Linear Regression Intercept:{}\".format(lin.intercept_))"
   ]
  },
  {
   "cell_type": "code",
   "execution_count": null,
   "metadata": {},
   "outputs": [],
   "source": [
    "print(\"Lasso Regression Coefficients are:{}\".format(lasso.coef_))\n",
    "print(\"Lasso Linear Regression Intercept:{}\".format(lasso.intercept_))"
   ]
  },
  {
   "cell_type": "code",
   "execution_count": null,
   "metadata": {},
   "outputs": [],
   "source": [
    "print(\"Ridge Regression Coefficients are:{}\".format(ridge.coef_))\n",
    "print(\"Ridge Linear Regression Intercept:{}\".format(ridge.intercept_))"
   ]
  },
  {
   "cell_type": "code",
   "execution_count": null,
   "metadata": {},
   "outputs": [],
   "source": [
    "# create predictions\n",
    "y_h_ridge_train = ridge.predict(X_train)\n",
    "y_h_ridge_test = ridge.predict(X_test)\n",
    "\n",
    "y_h_lasso_train = np.reshape(lasso.predict(X_train),(2490,1))\n",
    "y_h_lasso_test = np.reshape(lasso.predict(X_test),(623,1))\n",
    "\n",
    "y_h_lin_train = lin.predict(X_train)\n",
    "y_h_lin_test = lin.predict(X_test)"
   ]
  },
  {
   "cell_type": "code",
   "execution_count": null,
   "metadata": {},
   "outputs": [],
   "source": [
    "# examine the residual sum of sq\n",
    "print('Train Error Ridge Model', np.sum((y_train - y_h_ridge_train)**2))\n",
    "print('Test Error Ridge Model', np.sum((y_test - y_h_ridge_test)**2))\n",
    "print('\\n')\n",
    "\n",
    "print('Train Error Lasso Model', np.sum((y_train - y_h_lasso_train)**2))\n",
    "print('Test Error Lasso Model', np.sum((y_test - y_h_lasso_test)**2))\n",
    "print('\\n')\n",
    "\n",
    "print('Train Error Unpenalized Linear Model', np.sum((y_train - lin.predict(X_train))**2))\n",
    "print('Test Error Unpenalized Linear Model', np.sum((y_test - lin.predict(X_test))**2))"
   ]
  },
  {
   "cell_type": "code",
   "execution_count": null,
   "metadata": {},
   "outputs": [],
   "source": []
  },
  {
   "cell_type": "code",
   "execution_count": null,
   "metadata": {},
   "outputs": [],
   "source": [
    "# formula = \"Diabetes ~ No_Exercise+Few_Fruit_Veg+Obesity+High_Blood_Pres+Smoker\"\n",
    "model = ols(formula= formula2, data=log_scale_df).fit()"
   ]
  },
  {
   "cell_type": "code",
   "execution_count": null,
   "metadata": {},
   "outputs": [],
   "source": [
    "model.summary()"
   ]
  },
  {
   "cell_type": "code",
   "execution_count": 43,
   "metadata": {},
   "outputs": [],
   "source": [
    "def stepwise_selection(X, y, \n",
    "                       initial_list=[], \n",
    "                       threshold_in=0.01, \n",
    "                       threshold_out = 0.05, \n",
    "                       verbose=True):\n",
    "    \"\"\" Perform a forward-backward feature selection \n",
    "    based on p-value from statsmodels.api.OLS\n",
    "    Arguments:\n",
    "        X - pandas.DataFrame with candidate features\n",
    "        y - list-like with the target\n",
    "        initial_list - list of features to start with (column names of X)\n",
    "        threshold_in - include a feature if its p-value < threshold_in\n",
    "        threshold_out - exclude a feature if its p-value > threshold_out\n",
    "        verbose - whether to print the sequence of inclusions and exclusions\n",
    "    Returns: list of selected features \n",
    "    Always set threshold_in < threshold_out to avoid infinite looping.\n",
    "    See https://en.wikipedia.org/wiki/Stepwise_regression for the details\n",
    "    \"\"\"\n",
    "    included = list(initial_list)\n",
    "    while True:\n",
    "        changed=False\n",
    "        # forward step\n",
    "        excluded = list(set(X.columns)-set(included))\n",
    "        new_pval = pd.Series(index=excluded)\n",
    "        for new_column in excluded:\n",
    "            model = sm.OLS(y, sm.add_constant(pd.DataFrame(X[included+[new_column]]))).fit()\n",
    "            new_pval[new_column] = model.pvalues[new_column]\n",
    "        best_pval = new_pval.min()\n",
    "        if best_pval < threshold_in:\n",
    "            best_feature = new_pval.idxmin()\n",
    "            included.append(best_feature)\n",
    "            changed=True\n",
    "            if verbose:\n",
    "                print('Add  {:30} with p-value {:.6}'.format(best_feature, best_pval))\n",
    "\n",
    "        # backward step\n",
    "        model = sm.OLS(y, sm.add_constant(pd.DataFrame(X[included]))).fit()\n",
    "        # use all coefs except intercept\n",
    "        pvalues = model.pvalues.iloc[1:]\n",
    "        worst_pval = pvalues.max() # null if pvalues is empty\n",
    "        if worst_pval > threshold_out:\n",
    "            changed=True\n",
    "            worst_feature = pvalues.argmax()\n",
    "            included.remove(worst_feature)\n",
    "            if verbose:\n",
    "                print('Drop {:30} with p-value {:.6}'.format(worst_feature, worst_pval))\n",
    "        if not changed:\n",
    "            break\n",
    "    return included"
   ]
  },
  {
   "cell_type": "code",
   "execution_count": 44,
   "metadata": {},
   "outputs": [
    {
     "data": {
      "text/html": [
       "<div>\n",
       "<style scoped>\n",
       "    .dataframe tbody tr th:only-of-type {\n",
       "        vertical-align: middle;\n",
       "    }\n",
       "\n",
       "    .dataframe tbody tr th {\n",
       "        vertical-align: top;\n",
       "    }\n",
       "\n",
       "    .dataframe thead th {\n",
       "        text-align: right;\n",
       "    }\n",
       "</style>\n",
       "<table border=\"1\" class=\"dataframe\">\n",
       "  <thead>\n",
       "    <tr style=\"text-align: right;\">\n",
       "      <th></th>\n",
       "      <th>County_index</th>\n",
       "      <th>Poverty</th>\n",
       "      <th>No_Exercise</th>\n",
       "      <th>Few_Fruit_Veg</th>\n",
       "      <th>Obesity</th>\n",
       "      <th>High_Blood_Pres</th>\n",
       "      <th>Smoker</th>\n",
       "      <th>Diabetes</th>\n",
       "    </tr>\n",
       "  </thead>\n",
       "  <tbody>\n",
       "    <tr>\n",
       "      <th>0</th>\n",
       "      <td>Autauga, AL</td>\n",
       "      <td>8291.381047</td>\n",
       "      <td>22163.499336</td>\n",
       "      <td>62663.706757</td>\n",
       "      <td>19532.580350</td>\n",
       "      <td>23199.921967</td>\n",
       "      <td>21206.801523</td>\n",
       "      <td>11320.924121</td>\n",
       "    </tr>\n",
       "    <tr>\n",
       "      <th>1</th>\n",
       "      <td>Baldwin, AL</td>\n",
       "      <td>90964.727216</td>\n",
       "      <td>242572.605910</td>\n",
       "      <td>679560.020968</td>\n",
       "      <td>210467.408069</td>\n",
       "      <td>272002.370598</td>\n",
       "      <td>219385.518580</td>\n",
       "      <td>64210.395682</td>\n",
       "    </tr>\n",
       "    <tr>\n",
       "      <th>2</th>\n",
       "      <td>Barbour, AL</td>\n",
       "      <td>6019.543852</td>\n",
       "      <td>8115.489099</td>\n",
       "      <td>21811.994194</td>\n",
       "      <td>6972.865277</td>\n",
       "      <td>8607.130576</td>\n",
       "      <td>4821.082633</td>\n",
       "      <td>1797.691829</td>\n",
       "    </tr>\n",
       "    <tr>\n",
       "      <th>3</th>\n",
       "      <td>Bibb, AL</td>\n",
       "      <td>2623.849432</td>\n",
       "      <td>4653.428203</td>\n",
       "      <td>13525.319094</td>\n",
       "      <td>4200.901790</td>\n",
       "      <td>4935.335836</td>\n",
       "      <td>3720.699188</td>\n",
       "      <td>2045.977831</td>\n",
       "    </tr>\n",
       "    <tr>\n",
       "      <th>4</th>\n",
       "      <td>Blount, AL</td>\n",
       "      <td>12466.762111</td>\n",
       "      <td>35095.506782</td>\n",
       "      <td>78152.979281</td>\n",
       "      <td>25352.575048</td>\n",
       "      <td>33105.015352</td>\n",
       "      <td>24723.998807</td>\n",
       "      <td>8800.067372</td>\n",
       "    </tr>\n",
       "    <tr>\n",
       "      <th>...</th>\n",
       "      <td>...</td>\n",
       "      <td>...</td>\n",
       "      <td>...</td>\n",
       "      <td>...</td>\n",
       "      <td>...</td>\n",
       "      <td>...</td>\n",
       "      <td>...</td>\n",
       "      <td>...</td>\n",
       "    </tr>\n",
       "    <tr>\n",
       "      <th>3108</th>\n",
       "      <td>Sweetwater, WY</td>\n",
       "      <td>4184.085716</td>\n",
       "      <td>10654.822928</td>\n",
       "      <td>39262.292709</td>\n",
       "      <td>11481.909640</td>\n",
       "      <td>11044.040204</td>\n",
       "      <td>13330.691700</td>\n",
       "      <td>2578.564453</td>\n",
       "    </tr>\n",
       "    <tr>\n",
       "      <th>3109</th>\n",
       "      <td>Teton, WY</td>\n",
       "      <td>684.326632</td>\n",
       "      <td>1173.131369</td>\n",
       "      <td>8407.441478</td>\n",
       "      <td>1099.810658</td>\n",
       "      <td>2309.602383</td>\n",
       "      <td>1674.156225</td>\n",
       "      <td>293.282842</td>\n",
       "    </tr>\n",
       "    <tr>\n",
       "      <th>3110</th>\n",
       "      <td>Uinta, WY</td>\n",
       "      <td>1421.736682</td>\n",
       "      <td>3138.550788</td>\n",
       "      <td>11145.879082</td>\n",
       "      <td>3044.662517</td>\n",
       "      <td>3017.837296</td>\n",
       "      <td>2897.123805</td>\n",
       "      <td>643.805290</td>\n",
       "    </tr>\n",
       "    <tr>\n",
       "      <th>3111</th>\n",
       "      <td>Washakie, WY</td>\n",
       "      <td>235.670077</td>\n",
       "      <td>492.571693</td>\n",
       "      <td>1658.183156</td>\n",
       "      <td>447.985462</td>\n",
       "      <td>590.236770</td>\n",
       "      <td>418.261308</td>\n",
       "      <td>199.576462</td>\n",
       "    </tr>\n",
       "    <tr>\n",
       "      <th>3112</th>\n",
       "      <td>Weston, WY</td>\n",
       "      <td>148.635871</td>\n",
       "      <td>469.929572</td>\n",
       "      <td>1132.034816</td>\n",
       "      <td>363.332129</td>\n",
       "      <td>400.866440</td>\n",
       "      <td>366.334874</td>\n",
       "      <td>85.578229</td>\n",
       "    </tr>\n",
       "  </tbody>\n",
       "</table>\n",
       "<p>3113 rows × 8 columns</p>\n",
       "</div>"
      ],
      "text/plain": [
       "        County_index       Poverty    No_Exercise  Few_Fruit_Veg  \\\n",
       "0        Autauga, AL   8291.381047   22163.499336   62663.706757   \n",
       "1        Baldwin, AL  90964.727216  242572.605910  679560.020968   \n",
       "2        Barbour, AL   6019.543852    8115.489099   21811.994194   \n",
       "3           Bibb, AL   2623.849432    4653.428203   13525.319094   \n",
       "4         Blount, AL  12466.762111   35095.506782   78152.979281   \n",
       "...              ...           ...            ...            ...   \n",
       "3108  Sweetwater, WY   4184.085716   10654.822928   39262.292709   \n",
       "3109       Teton, WY    684.326632    1173.131369    8407.441478   \n",
       "3110       Uinta, WY   1421.736682    3138.550788   11145.879082   \n",
       "3111    Washakie, WY    235.670077     492.571693    1658.183156   \n",
       "3112      Weston, WY    148.635871     469.929572    1132.034816   \n",
       "\n",
       "            Obesity  High_Blood_Pres         Smoker      Diabetes  \n",
       "0      19532.580350     23199.921967   21206.801523  11320.924121  \n",
       "1     210467.408069    272002.370598  219385.518580  64210.395682  \n",
       "2       6972.865277      8607.130576    4821.082633   1797.691829  \n",
       "3       4200.901790      4935.335836    3720.699188   2045.977831  \n",
       "4      25352.575048     33105.015352   24723.998807   8800.067372  \n",
       "...             ...              ...            ...           ...  \n",
       "3108   11481.909640     11044.040204   13330.691700   2578.564453  \n",
       "3109    1099.810658      2309.602383    1674.156225    293.282842  \n",
       "3110    3044.662517      3017.837296    2897.123805    643.805290  \n",
       "3111     447.985462       590.236770     418.261308    199.576462  \n",
       "3112     363.332129       400.866440     366.334874     85.578229  \n",
       "\n",
       "[3113 rows x 8 columns]"
      ]
     },
     "execution_count": 44,
     "metadata": {},
     "output_type": "execute_result"
    }
   ],
   "source": [
    "dfabsw\n",
    "dfabsw_log"
   ]
  },
  {
   "cell_type": "code",
   "execution_count": 45,
   "metadata": {},
   "outputs": [],
   "source": [
    "y_log = dfabsw_log['Diabetes']\n",
    "X_log = dfabsw_log[[ 'Poverty', 'No_Exercise', 'Few_Fruit_Veg', 'Obesity', 'High_Blood_Pres', \n",
    "                    'Smoker']]"
   ]
  },
  {
   "cell_type": "code",
   "execution_count": 46,
   "metadata": {},
   "outputs": [],
   "source": [
    "y = dfabsw['Diabetes']\n",
    "X = dfabsw[[ 'Poverty', 'No_Exercise', 'Few_Fruit_Veg', 'Obesity', 'High_Blood_Pres', \n",
    "                    'Smoker']]"
   ]
  },
  {
   "cell_type": "code",
   "execution_count": 47,
   "metadata": {},
   "outputs": [
    {
     "name": "stderr",
     "output_type": "stream",
     "text": [
      "/Users/regi/miniconda3/lib/python3.7/site-packages/numpy/core/fromnumeric.py:2495: FutureWarning: Method .ptp is deprecated and will be removed in a future version. Use numpy.ptp instead.\n",
      "  return ptp(axis=axis, out=out, **kwargs)\n"
     ]
    },
    {
     "name": "stdout",
     "output_type": "stream",
     "text": [
      "Add  Obesity                        with p-value 0.0\n",
      "Add  No_Exercise                    with p-value 0.0\n",
      "Add  Smoker                         with p-value 4.7348e-114\n",
      "Add  Few_Fruit_Veg                  with p-value 1.28494e-63\n",
      "Add  High_Blood_Pres                with p-value 1.00048e-228\n",
      "Drop Obesity                        with p-value 0.129428\n",
      "Add  Poverty                        with p-value 2.79127e-06\n"
     ]
    },
    {
     "name": "stderr",
     "output_type": "stream",
     "text": [
      "/Users/regi/miniconda3/lib/python3.7/site-packages/ipykernel_launcher.py:43: FutureWarning: \n",
      "The current behaviour of 'Series.argmax' is deprecated, use 'idxmax'\n",
      "instead.\n",
      "The behavior of 'argmax' will be corrected to return the positional\n",
      "maximum in the future. For now, use 'series.values.argmax' or\n",
      "'np.argmax(np.array(values))' to get the position of the maximum\n",
      "row.\n"
     ]
    },
    {
     "data": {
      "text/plain": [
       "['No_Exercise', 'Smoker', 'Few_Fruit_Veg', 'High_Blood_Pres', 'Poverty']"
      ]
     },
     "execution_count": 47,
     "metadata": {},
     "output_type": "execute_result"
    }
   ],
   "source": [
    "stepwise_selection(X, y, verbose=True)"
   ]
  },
  {
   "cell_type": "code",
   "execution_count": 48,
   "metadata": {},
   "outputs": [
    {
     "name": "stdout",
     "output_type": "stream",
     "text": [
      "Add  Obesity                        with p-value 0.0\n",
      "Add  Poverty                        with p-value 2.40234e-46\n",
      "Add  High_Blood_Pres                with p-value 9.66373e-23\n",
      "Add  Few_Fruit_Veg                  with p-value 3.53157e-14\n",
      "Add  No_Exercise                    with p-value 6.58025e-08\n"
     ]
    },
    {
     "data": {
      "text/plain": [
       "['Obesity', 'Poverty', 'High_Blood_Pres', 'Few_Fruit_Veg', 'No_Exercise']"
      ]
     },
     "execution_count": 48,
     "metadata": {},
     "output_type": "execute_result"
    }
   ],
   "source": [
    "stepwise_selection(X_log, y_log, verbose=True)"
   ]
  },
  {
   "cell_type": "code",
   "execution_count": 49,
   "metadata": {},
   "outputs": [],
   "source": [
    "\n",
    "X_select_log = dfabsw_log[[ 'Obesity', 'High_Blood_Pres', 'Poverty', 'No_Exercise', 'Few_Fruit_Veg']]"
   ]
  },
  {
   "cell_type": "code",
   "execution_count": 50,
   "metadata": {},
   "outputs": [
    {
     "data": {
      "text/html": [
       "<table class=\"simpletable\">\n",
       "<caption>OLS Regression Results</caption>\n",
       "<tr>\n",
       "  <th>Dep. Variable:</th>        <td>Diabetes</td>     <th>  R-squared:         </th> <td>   0.989</td> \n",
       "</tr>\n",
       "<tr>\n",
       "  <th>Model:</th>                   <td>OLS</td>       <th>  Adj. R-squared:    </th> <td>   0.989</td> \n",
       "</tr>\n",
       "<tr>\n",
       "  <th>Method:</th>             <td>Least Squares</td>  <th>  F-statistic:       </th> <td>5.434e+04</td>\n",
       "</tr>\n",
       "<tr>\n",
       "  <th>Date:</th>             <td>Mon, 02 Dec 2019</td> <th>  Prob (F-statistic):</th>  <td>  0.00</td>  \n",
       "</tr>\n",
       "<tr>\n",
       "  <th>Time:</th>                 <td>09:32:41</td>     <th>  Log-Likelihood:    </th> <td> -739.01</td> \n",
       "</tr>\n",
       "<tr>\n",
       "  <th>No. Observations:</th>      <td>  3113</td>      <th>  AIC:               </th> <td>   1490.</td> \n",
       "</tr>\n",
       "<tr>\n",
       "  <th>Df Residuals:</th>          <td>  3107</td>      <th>  BIC:               </th> <td>   1526.</td> \n",
       "</tr>\n",
       "<tr>\n",
       "  <th>Df Model:</th>              <td>     5</td>      <th>                     </th>     <td> </td>    \n",
       "</tr>\n",
       "<tr>\n",
       "  <th>Covariance Type:</th>      <td>nonrobust</td>    <th>                     </th>     <td> </td>    \n",
       "</tr>\n",
       "</table>\n",
       "<table class=\"simpletable\">\n",
       "<tr>\n",
       "         <td></td>            <th>coef</th>     <th>std err</th>      <th>t</th>      <th>P>|t|</th>  <th>[0.025</th>    <th>0.975]</th>  \n",
       "</tr>\n",
       "<tr>\n",
       "  <th>Intercept</th>       <td>   -0.7865</td> <td>    0.049</td> <td>  -16.097</td> <td> 0.000</td> <td>   -0.882</td> <td>   -0.691</td>\n",
       "</tr>\n",
       "<tr>\n",
       "  <th>Poverty</th>         <td>    0.1553</td> <td>    0.018</td> <td>    8.697</td> <td> 0.000</td> <td>    0.120</td> <td>    0.190</td>\n",
       "</tr>\n",
       "<tr>\n",
       "  <th>No_Exercise</th>     <td>    0.1784</td> <td>    0.033</td> <td>    5.415</td> <td> 0.000</td> <td>    0.114</td> <td>    0.243</td>\n",
       "</tr>\n",
       "<tr>\n",
       "  <th>Few_Fruit_Veg</th>   <td>   -0.2953</td> <td>    0.037</td> <td>   -7.999</td> <td> 0.000</td> <td>   -0.368</td> <td>   -0.223</td>\n",
       "</tr>\n",
       "<tr>\n",
       "  <th>Obesity</th>         <td>    0.5575</td> <td>    0.036</td> <td>   15.647</td> <td> 0.000</td> <td>    0.488</td> <td>    0.627</td>\n",
       "</tr>\n",
       "<tr>\n",
       "  <th>High_Blood_Pres</th> <td>    0.4060</td> <td>    0.040</td> <td>   10.252</td> <td> 0.000</td> <td>    0.328</td> <td>    0.484</td>\n",
       "</tr>\n",
       "</table>\n",
       "<table class=\"simpletable\">\n",
       "<tr>\n",
       "  <th>Omnibus:</th>       <td>759.379</td> <th>  Durbin-Watson:     </th> <td>   1.971</td>\n",
       "</tr>\n",
       "<tr>\n",
       "  <th>Prob(Omnibus):</th> <td> 0.000</td>  <th>  Jarque-Bera (JB):  </th> <td>3733.143</td>\n",
       "</tr>\n",
       "<tr>\n",
       "  <th>Skew:</th>          <td>-1.080</td>  <th>  Prob(JB):          </th> <td>    0.00</td>\n",
       "</tr>\n",
       "<tr>\n",
       "  <th>Kurtosis:</th>      <td> 7.911</td>  <th>  Cond. No.          </th> <td>    250.</td>\n",
       "</tr>\n",
       "</table><br/><br/>Warnings:<br/>[1] Standard Errors assume that the covariance matrix of the errors is correctly specified."
      ],
      "text/plain": [
       "<class 'statsmodels.iolib.summary.Summary'>\n",
       "\"\"\"\n",
       "                            OLS Regression Results                            \n",
       "==============================================================================\n",
       "Dep. Variable:               Diabetes   R-squared:                       0.989\n",
       "Model:                            OLS   Adj. R-squared:                  0.989\n",
       "Method:                 Least Squares   F-statistic:                 5.434e+04\n",
       "Date:                Mon, 02 Dec 2019   Prob (F-statistic):               0.00\n",
       "Time:                        09:32:41   Log-Likelihood:                -739.01\n",
       "No. Observations:                3113   AIC:                             1490.\n",
       "Df Residuals:                    3107   BIC:                             1526.\n",
       "Df Model:                           5                                         \n",
       "Covariance Type:            nonrobust                                         \n",
       "===================================================================================\n",
       "                      coef    std err          t      P>|t|      [0.025      0.975]\n",
       "-----------------------------------------------------------------------------------\n",
       "Intercept          -0.7865      0.049    -16.097      0.000      -0.882      -0.691\n",
       "Poverty             0.1553      0.018      8.697      0.000       0.120       0.190\n",
       "No_Exercise         0.1784      0.033      5.415      0.000       0.114       0.243\n",
       "Few_Fruit_Veg      -0.2953      0.037     -7.999      0.000      -0.368      -0.223\n",
       "Obesity             0.5575      0.036     15.647      0.000       0.488       0.627\n",
       "High_Blood_Pres     0.4060      0.040     10.252      0.000       0.328       0.484\n",
       "==============================================================================\n",
       "Omnibus:                      759.379   Durbin-Watson:                   1.971\n",
       "Prob(Omnibus):                  0.000   Jarque-Bera (JB):             3733.143\n",
       "Skew:                          -1.080   Prob(JB):                         0.00\n",
       "Kurtosis:                       7.911   Cond. No.                         250.\n",
       "==============================================================================\n",
       "\n",
       "Warnings:\n",
       "[1] Standard Errors assume that the covariance matrix of the errors is correctly specified.\n",
       "\"\"\""
      ]
     },
     "execution_count": 50,
     "metadata": {},
     "output_type": "execute_result"
    }
   ],
   "source": [
    "formula_cat = \"Diabetes ~ Poverty+No_Exercise+Few_Fruit_Veg+Obesity+High_Blood_Pres\"\n",
    "cat_model_select = ols(formula= formula_cat, data=dfabsw_log).fit()\n",
    "cat_model_select.summary()"
   ]
  },
  {
   "cell_type": "code",
   "execution_count": null,
   "metadata": {},
   "outputs": [],
   "source": []
  }
 ],
 "metadata": {
  "kernelspec": {
   "display_name": "Python 3",
   "language": "python",
   "name": "python3"
  },
  "language_info": {
   "codemirror_mode": {
    "name": "ipython",
    "version": 3
   },
   "file_extension": ".py",
   "mimetype": "text/x-python",
   "name": "python",
   "nbconvert_exporter": "python",
   "pygments_lexer": "ipython3",
   "version": "3.7.3"
  }
 },
 "nbformat": 4,
 "nbformat_minor": 2
}

{
 "cells": [
  {
   "cell_type": "code",
   "execution_count": 192,
   "metadata": {},
   "outputs": [],
   "source": [
    "import pandas as pd\n",
    "import numpy as np\n",
    "import matplotlib.pyplot as plt\n",
    "%matplotlib inline\n",
    "import statsmodels.api as sm\n",
    "from statsmodels.formula.api import ols\n",
    "import seaborn as sns\n",
    "import scipy.stats as stats\n",
    "\n",
    "pd.set_option('display.max_columns', 500)\n"
   ]
  },
  {
   "cell_type": "code",
   "execution_count": 193,
   "metadata": {},
   "outputs": [],
   "source": [
    "df = pd.read_csv('/Users/regi/Flatiron/mod4_project/cleaned_data/final_df.csv')"
   ]
  },
  {
   "cell_type": "code",
   "execution_count": 194,
   "metadata": {},
   "outputs": [],
   "source": [
    "df['County_index'] = df['CHSI_County_Name'] + ', ' + df['CHSI_State_Abbr']"
   ]
  },
  {
   "cell_type": "code",
   "execution_count": 195,
   "metadata": {},
   "outputs": [
    {
     "data": {
      "text/html": [
       "<div>\n",
       "<style scoped>\n",
       "    .dataframe tbody tr th:only-of-type {\n",
       "        vertical-align: middle;\n",
       "    }\n",
       "\n",
       "    .dataframe tbody tr th {\n",
       "        vertical-align: top;\n",
       "    }\n",
       "\n",
       "    .dataframe thead th {\n",
       "        text-align: right;\n",
       "    }\n",
       "</style>\n",
       "<table border=\"1\" class=\"dataframe\">\n",
       "  <thead>\n",
       "    <tr style=\"text-align: right;\">\n",
       "      <th></th>\n",
       "      <th>State_FIPS_Code</th>\n",
       "      <th>County_FIPS_Code</th>\n",
       "      <th>CHSI_County_Name</th>\n",
       "      <th>CHSI_State_Name</th>\n",
       "      <th>CHSI_State_Abbr</th>\n",
       "      <th>Population_Size</th>\n",
       "      <th>Poverty</th>\n",
       "      <th>Age_19_Under</th>\n",
       "      <th>Age_19_64</th>\n",
       "      <th>Age_65_84</th>\n",
       "      <th>Age_85_and_Over</th>\n",
       "      <th>White</th>\n",
       "      <th>Black</th>\n",
       "      <th>Native_American</th>\n",
       "      <th>Asian</th>\n",
       "      <th>Hispanic</th>\n",
       "      <th>Pop_proportion</th>\n",
       "      <th>No_Exercise</th>\n",
       "      <th>Few_Fruit_Veg</th>\n",
       "      <th>Obesity</th>\n",
       "      <th>High_Blood_Pres</th>\n",
       "      <th>Smoker</th>\n",
       "      <th>Diabetes</th>\n",
       "      <th>Uninsured</th>\n",
       "      <th>County_index</th>\n",
       "    </tr>\n",
       "  </thead>\n",
       "  <tbody>\n",
       "    <tr>\n",
       "      <th>0</th>\n",
       "      <td>1</td>\n",
       "      <td>1</td>\n",
       "      <td>Autauga</td>\n",
       "      <td>Alabama</td>\n",
       "      <td>AL</td>\n",
       "      <td>48612</td>\n",
       "      <td>10.4</td>\n",
       "      <td>26.9</td>\n",
       "      <td>62.3</td>\n",
       "      <td>9.8</td>\n",
       "      <td>0.9</td>\n",
       "      <td>80.7</td>\n",
       "      <td>17.3</td>\n",
       "      <td>0.5</td>\n",
       "      <td>0.6</td>\n",
       "      <td>1.7</td>\n",
       "      <td>0.016400</td>\n",
       "      <td>27.800</td>\n",
       "      <td>78.60</td>\n",
       "      <td>24.500000</td>\n",
       "      <td>29.1</td>\n",
       "      <td>26.600000</td>\n",
       "      <td>14.2</td>\n",
       "      <td>11.70</td>\n",
       "      <td>Autauga, AL</td>\n",
       "    </tr>\n",
       "    <tr>\n",
       "      <th>1</th>\n",
       "      <td>1</td>\n",
       "      <td>3</td>\n",
       "      <td>Baldwin</td>\n",
       "      <td>Alabama</td>\n",
       "      <td>AL</td>\n",
       "      <td>162586</td>\n",
       "      <td>10.2</td>\n",
       "      <td>23.5</td>\n",
       "      <td>60.3</td>\n",
       "      <td>14.5</td>\n",
       "      <td>1.8</td>\n",
       "      <td>88.4</td>\n",
       "      <td>9.9</td>\n",
       "      <td>0.5</td>\n",
       "      <td>0.4</td>\n",
       "      <td>2.3</td>\n",
       "      <td>0.054852</td>\n",
       "      <td>27.200</td>\n",
       "      <td>76.20</td>\n",
       "      <td>23.600000</td>\n",
       "      <td>30.5</td>\n",
       "      <td>24.600000</td>\n",
       "      <td>7.2</td>\n",
       "      <td>12.18</td>\n",
       "      <td>Baldwin, AL</td>\n",
       "    </tr>\n",
       "    <tr>\n",
       "      <th>2</th>\n",
       "      <td>1</td>\n",
       "      <td>5</td>\n",
       "      <td>Barbour</td>\n",
       "      <td>Alabama</td>\n",
       "      <td>AL</td>\n",
       "      <td>28414</td>\n",
       "      <td>22.1</td>\n",
       "      <td>24.3</td>\n",
       "      <td>62.5</td>\n",
       "      <td>11.6</td>\n",
       "      <td>1.6</td>\n",
       "      <td>52.2</td>\n",
       "      <td>46.8</td>\n",
       "      <td>0.4</td>\n",
       "      <td>0.3</td>\n",
       "      <td>3.1</td>\n",
       "      <td>0.009586</td>\n",
       "      <td>29.795</td>\n",
       "      <td>80.08</td>\n",
       "      <td>25.600000</td>\n",
       "      <td>31.6</td>\n",
       "      <td>17.700000</td>\n",
       "      <td>6.6</td>\n",
       "      <td>18.04</td>\n",
       "      <td>Barbour, AL</td>\n",
       "    </tr>\n",
       "    <tr>\n",
       "      <th>3</th>\n",
       "      <td>1</td>\n",
       "      <td>7</td>\n",
       "      <td>Bibb</td>\n",
       "      <td>Alabama</td>\n",
       "      <td>AL</td>\n",
       "      <td>21516</td>\n",
       "      <td>16.8</td>\n",
       "      <td>24.6</td>\n",
       "      <td>63.3</td>\n",
       "      <td>10.9</td>\n",
       "      <td>1.2</td>\n",
       "      <td>76.8</td>\n",
       "      <td>22.5</td>\n",
       "      <td>0.3</td>\n",
       "      <td>0.1</td>\n",
       "      <td>1.4</td>\n",
       "      <td>0.007259</td>\n",
       "      <td>29.795</td>\n",
       "      <td>86.60</td>\n",
       "      <td>26.897561</td>\n",
       "      <td>31.6</td>\n",
       "      <td>23.822917</td>\n",
       "      <td>13.1</td>\n",
       "      <td>15.41</td>\n",
       "      <td>Bibb, AL</td>\n",
       "    </tr>\n",
       "    <tr>\n",
       "      <th>4</th>\n",
       "      <td>1</td>\n",
       "      <td>9</td>\n",
       "      <td>Blount</td>\n",
       "      <td>Alabama</td>\n",
       "      <td>AL</td>\n",
       "      <td>55725</td>\n",
       "      <td>11.9</td>\n",
       "      <td>24.5</td>\n",
       "      <td>62.1</td>\n",
       "      <td>12.1</td>\n",
       "      <td>1.3</td>\n",
       "      <td>97.1</td>\n",
       "      <td>1.5</td>\n",
       "      <td>0.5</td>\n",
       "      <td>0.2</td>\n",
       "      <td>6.3</td>\n",
       "      <td>0.018800</td>\n",
       "      <td>33.500</td>\n",
       "      <td>74.60</td>\n",
       "      <td>24.200000</td>\n",
       "      <td>31.6</td>\n",
       "      <td>23.600000</td>\n",
       "      <td>8.4</td>\n",
       "      <td>14.59</td>\n",
       "      <td>Blount, AL</td>\n",
       "    </tr>\n",
       "  </tbody>\n",
       "</table>\n",
       "</div>"
      ],
      "text/plain": [
       "   State_FIPS_Code  County_FIPS_Code CHSI_County_Name CHSI_State_Name  \\\n",
       "0                1                 1          Autauga         Alabama   \n",
       "1                1                 3          Baldwin         Alabama   \n",
       "2                1                 5          Barbour         Alabama   \n",
       "3                1                 7             Bibb         Alabama   \n",
       "4                1                 9           Blount         Alabama   \n",
       "\n",
       "  CHSI_State_Abbr  Population_Size  Poverty  Age_19_Under  Age_19_64  \\\n",
       "0              AL            48612     10.4          26.9       62.3   \n",
       "1              AL           162586     10.2          23.5       60.3   \n",
       "2              AL            28414     22.1          24.3       62.5   \n",
       "3              AL            21516     16.8          24.6       63.3   \n",
       "4              AL            55725     11.9          24.5       62.1   \n",
       "\n",
       "   Age_65_84  Age_85_and_Over  White  Black  Native_American  Asian  Hispanic  \\\n",
       "0        9.8              0.9   80.7   17.3              0.5    0.6       1.7   \n",
       "1       14.5              1.8   88.4    9.9              0.5    0.4       2.3   \n",
       "2       11.6              1.6   52.2   46.8              0.4    0.3       3.1   \n",
       "3       10.9              1.2   76.8   22.5              0.3    0.1       1.4   \n",
       "4       12.1              1.3   97.1    1.5              0.5    0.2       6.3   \n",
       "\n",
       "   Pop_proportion  No_Exercise  Few_Fruit_Veg    Obesity  High_Blood_Pres  \\\n",
       "0        0.016400       27.800          78.60  24.500000             29.1   \n",
       "1        0.054852       27.200          76.20  23.600000             30.5   \n",
       "2        0.009586       29.795          80.08  25.600000             31.6   \n",
       "3        0.007259       29.795          86.60  26.897561             31.6   \n",
       "4        0.018800       33.500          74.60  24.200000             31.6   \n",
       "\n",
       "      Smoker  Diabetes  Uninsured County_index  \n",
       "0  26.600000      14.2      11.70  Autauga, AL  \n",
       "1  24.600000       7.2      12.18  Baldwin, AL  \n",
       "2  17.700000       6.6      18.04  Barbour, AL  \n",
       "3  23.822917      13.1      15.41     Bibb, AL  \n",
       "4  23.600000       8.4      14.59   Blount, AL  "
      ]
     },
     "execution_count": 195,
     "metadata": {},
     "output_type": "execute_result"
    }
   ],
   "source": [
    "df.head()"
   ]
  },
  {
   "cell_type": "code",
   "execution_count": 196,
   "metadata": {},
   "outputs": [],
   "source": [
    "num_cols = ['Poverty', 'Age_19_Under', 'Age_19_64', 'Age_65_84', 'Age_85_and_Over', 'White',\n",
    "       'Black', 'Native_American', 'Asian', 'Hispanic',\n",
    "       'No_Exercise', 'Few_Fruit_Veg', 'Obesity', 'High_Blood_Pres', 'Smoker',\n",
    "       'Diabetes', 'Uninsured' ]"
   ]
  },
  {
   "cell_type": "code",
   "execution_count": 197,
   "metadata": {},
   "outputs": [],
   "source": [
    "# for col in num_cols:\n",
    "#     df[col] = df[col] / 100"
   ]
  },
  {
   "cell_type": "code",
   "execution_count": 198,
   "metadata": {},
   "outputs": [],
   "source": [
    "# all of the following have 6 predictor parameters: (excluding uninsured for now due to colinearity with Poverty)\n",
    "# [Poverty, No_Exercise, Few_Fruit_Veg, Obesity, High_Blood_Pres, Smoker]\n",
    "# dfp - dataset in unweighted proportions/percentages - format 1 = 1%\n",
    "# dfpercent - dataset in unweighted proportions/percentages - format 0.01 = 1%\n",
    "# dfpcat - dataset in unweighted proportions/percentages - format 1 = 1% with categorical region data\n",
    "# dfpw - dataset in weighted proportions/percentages\n",
    "# dfabs - dataset in unweighted absolute values \n",
    "# dfabsw - dataset in weighted absolute values "
   ]
  },
  {
   "cell_type": "code",
   "execution_count": 199,
   "metadata": {},
   "outputs": [],
   "source": [
    "# make dfp\n",
    "dfp_all = df.copy(deep=True)\n",
    "dfp = dfp_all[['County_index', 'Poverty', 'No_Exercise', 'Few_Fruit_Veg', 'Obesity', \n",
    "               'High_Blood_Pres', 'Smoker', 'Diabetes']]"
   ]
  },
  {
   "cell_type": "code",
   "execution_count": 9,
   "metadata": {},
   "outputs": [],
   "source": [
    "# # make dfpercent\n",
    "# dfpercent_all = df.copy(deep=True)\n",
    "# for col in num_cols:\n",
    "#     dfpercent_all[col] = dfpercent_all[col] / 100\n",
    "# dfpercent = dfpercent_all[['County_index', 'Poverty', 'No_Exercise', 'Few_Fruit_Veg', 'Obesity', \n",
    "#                'High_Blood_Pres', 'Smoker', 'Diabetes']]"
   ]
  },
  {
   "cell_type": "code",
   "execution_count": 10,
   "metadata": {},
   "outputs": [],
   "source": [
    "# make dfpcat \n",
    "dfpcat_all = df.copy(deep=True)\n",
    "regions = pd.read_csv('https://raw.githubusercontent.com/cphalpert/census-regions/master/us%20census%20bureau%20regions%20and%20divisions.csv')\n",
    "dummy = pd.get_dummies(regions['Region'])\n",
    "dummy = dummy.iloc[:,1:]\n",
    "region = regions.merge(dummy, left_index=True, right_index=True)\n",
    "dfpcat_all = dfpcat_all.merge(region, left_on='CHSI_State_Name', right_on='State')\n",
    "\n",
    "dfpcat = dfpcat_all[['County_index', 'Poverty', 'No_Exercise', 'Few_Fruit_Veg', 'Obesity', \n",
    "               'High_Blood_Pres', 'Smoker', 'Diabetes', 'Northeast', 'South', 'West']]\n"
   ]
  },
  {
   "cell_type": "code",
   "execution_count": 11,
   "metadata": {},
   "outputs": [
    {
     "data": {
      "text/plain": [
       "<matplotlib.axes._subplots.AxesSubplot at 0x1c269cfa90>"
      ]
     },
     "execution_count": 11,
     "metadata": {},
     "output_type": "execute_result"
    },
    {
     "data": {
      "image/png": "[encoded data removed]",
      "text/plain": [
       "<Figure size 504x504 with 1 Axes>"
      ]
     },
     "metadata": {
      "needs_background": "light"
     },
     "output_type": "display_data"
    }
   ],
   "source": [
    "dfpcat_all.boxplot('Diabetes',by = 'Region',figsize = (7,7))"
   ]
  },
  {
   "cell_type": "code",
   "execution_count": 200,
   "metadata": {},
   "outputs": [],
   "source": [
    "# make dfpercentcat \n",
    "dfpercentcat_all = dfpcat_all.copy(deep=True)\n",
    "for col in num_cols:\n",
    "    dfpercentcat_all[col] = dfpercentcat_all[col] / 100\n",
    "dfpercentcat = dfpcat_all[['County_index', 'Poverty', 'No_Exercise', 'Few_Fruit_Veg', 'Obesity', \n",
    "               'High_Blood_Pres', 'Smoker', 'Diabetes', 'Northeast', 'South', 'West']]"
   ]
  },
  {
   "cell_type": "code",
   "execution_count": 201,
   "metadata": {},
   "outputs": [],
   "source": [
    "# make dfpw\n",
    "dfpw_all = df.copy(deep=True)\n",
    "for col in num_cols:\n",
    "    dfpw_all[col] = dfpw_all[col] * dfpw_all['Pop_proportion']\n",
    "dfpw = dfpw_all[['County_index', 'Poverty', 'No_Exercise', 'Few_Fruit_Veg', 'Obesity', \n",
    "               'High_Blood_Pres', 'Smoker', 'Diabetes']]"
   ]
  },
  {
   "cell_type": "code",
   "execution_count": 202,
   "metadata": {},
   "outputs": [],
   "source": [
    "# make dfabs\n",
    "dfabs_all = df.copy(deep=True)\n",
    "# convert to absolute values\n",
    "for col in num_cols:\n",
    "    dfabs_all[col] = (dfabs_all[col] * dfabs_all['Population_Size'])\n",
    "dfabs = dfabs_all[['County_index', 'Poverty', 'No_Exercise', 'Few_Fruit_Veg', 'Obesity', \n",
    "               'High_Blood_Pres', 'Smoker', 'Diabetes']]"
   ]
  },
  {
   "cell_type": "code",
   "execution_count": 203,
   "metadata": {},
   "outputs": [],
   "source": [
    "# make dfabsw\n",
    "dfabsw_all = df.copy(deep=True)\n",
    "# convert to absolute values\n",
    "for col in num_cols:\n",
    "    dfabsw_all[col] = (dfabsw_all[col] * dfabsw_all['Population_Size'])\n",
    "# Weigh dfw num columns by population proportion\n",
    "for col in num_cols:\n",
    "    dfabsw_all[col] = dfabsw_all[col] * dfabsw_all['Pop_proportion']\n",
    "dfabsw = dfabsw_all[['County_index', 'Poverty', 'No_Exercise', 'Few_Fruit_Veg', 'Obesity', \n",
    "               'High_Blood_Pres', 'Smoker', 'Diabetes']]"
   ]
  },
  {
   "cell_type": "code",
   "execution_count": 204,
   "metadata": {},
   "outputs": [
    {
     "data": {
      "text/html": [
       "<div>\n",
       "<style scoped>\n",
       "    .dataframe tbody tr th:only-of-type {\n",
       "        vertical-align: middle;\n",
       "    }\n",
       "\n",
       "    .dataframe tbody tr th {\n",
       "        vertical-align: top;\n",
       "    }\n",
       "\n",
       "    .dataframe thead th {\n",
       "        text-align: right;\n",
       "    }\n",
       "</style>\n",
       "<table border=\"1\" class=\"dataframe\">\n",
       "  <thead>\n",
       "    <tr style=\"text-align: right;\">\n",
       "      <th></th>\n",
       "      <th>County_index</th>\n",
       "      <th>Poverty</th>\n",
       "      <th>No_Exercise</th>\n",
       "      <th>Few_Fruit_Veg</th>\n",
       "      <th>Obesity</th>\n",
       "      <th>High_Blood_Pres</th>\n",
       "      <th>Smoker</th>\n",
       "      <th>Diabetes</th>\n",
       "    </tr>\n",
       "  </thead>\n",
       "  <tbody>\n",
       "    <tr>\n",
       "      <th>0</th>\n",
       "      <td>Autauga, AL</td>\n",
       "      <td>10.4</td>\n",
       "      <td>27.8</td>\n",
       "      <td>78.6</td>\n",
       "      <td>24.5</td>\n",
       "      <td>29.1</td>\n",
       "      <td>26.6</td>\n",
       "      <td>14.2</td>\n",
       "    </tr>\n",
       "    <tr>\n",
       "      <th>1</th>\n",
       "      <td>Baldwin, AL</td>\n",
       "      <td>10.2</td>\n",
       "      <td>27.2</td>\n",
       "      <td>76.2</td>\n",
       "      <td>23.6</td>\n",
       "      <td>30.5</td>\n",
       "      <td>24.6</td>\n",
       "      <td>7.2</td>\n",
       "    </tr>\n",
       "  </tbody>\n",
       "</table>\n",
       "</div>"
      ],
      "text/plain": [
       "  County_index  Poverty  No_Exercise  Few_Fruit_Veg  Obesity  High_Blood_Pres  \\\n",
       "0  Autauga, AL     10.4         27.8           78.6     24.5             29.1   \n",
       "1  Baldwin, AL     10.2         27.2           76.2     23.6             30.5   \n",
       "\n",
       "   Smoker  Diabetes  \n",
       "0    26.6      14.2  \n",
       "1    24.6       7.2  "
      ]
     },
     "execution_count": 204,
     "metadata": {},
     "output_type": "execute_result"
    }
   ],
   "source": [
    "dfp.head(2)"
   ]
  },
  {
   "cell_type": "code",
   "execution_count": 205,
   "metadata": {},
   "outputs": [
    {
     "data": {
      "text/html": [
       "<div>\n",
       "<style scoped>\n",
       "    .dataframe tbody tr th:only-of-type {\n",
       "        vertical-align: middle;\n",
       "    }\n",
       "\n",
       "    .dataframe tbody tr th {\n",
       "        vertical-align: top;\n",
       "    }\n",
       "\n",
       "    .dataframe thead th {\n",
       "        text-align: right;\n",
       "    }\n",
       "</style>\n",
       "<table border=\"1\" class=\"dataframe\">\n",
       "  <thead>\n",
       "    <tr style=\"text-align: right;\">\n",
       "      <th></th>\n",
       "      <th>County_index</th>\n",
       "      <th>Poverty</th>\n",
       "      <th>No_Exercise</th>\n",
       "      <th>Few_Fruit_Veg</th>\n",
       "      <th>Obesity</th>\n",
       "      <th>High_Blood_Pres</th>\n",
       "      <th>Smoker</th>\n",
       "      <th>Diabetes</th>\n",
       "      <th>Northeast</th>\n",
       "      <th>South</th>\n",
       "      <th>West</th>\n",
       "    </tr>\n",
       "  </thead>\n",
       "  <tbody>\n",
       "    <tr>\n",
       "      <th>0</th>\n",
       "      <td>Autauga, AL</td>\n",
       "      <td>10.4</td>\n",
       "      <td>27.800</td>\n",
       "      <td>78.60</td>\n",
       "      <td>24.500000</td>\n",
       "      <td>29.1</td>\n",
       "      <td>26.600000</td>\n",
       "      <td>14.2</td>\n",
       "      <td>0</td>\n",
       "      <td>1</td>\n",
       "      <td>0</td>\n",
       "    </tr>\n",
       "    <tr>\n",
       "      <th>1</th>\n",
       "      <td>Baldwin, AL</td>\n",
       "      <td>10.2</td>\n",
       "      <td>27.200</td>\n",
       "      <td>76.20</td>\n",
       "      <td>23.600000</td>\n",
       "      <td>30.5</td>\n",
       "      <td>24.600000</td>\n",
       "      <td>7.2</td>\n",
       "      <td>0</td>\n",
       "      <td>1</td>\n",
       "      <td>0</td>\n",
       "    </tr>\n",
       "    <tr>\n",
       "      <th>2</th>\n",
       "      <td>Barbour, AL</td>\n",
       "      <td>22.1</td>\n",
       "      <td>29.795</td>\n",
       "      <td>80.08</td>\n",
       "      <td>25.600000</td>\n",
       "      <td>31.6</td>\n",
       "      <td>17.700000</td>\n",
       "      <td>6.6</td>\n",
       "      <td>0</td>\n",
       "      <td>1</td>\n",
       "      <td>0</td>\n",
       "    </tr>\n",
       "    <tr>\n",
       "      <th>3</th>\n",
       "      <td>Bibb, AL</td>\n",
       "      <td>16.8</td>\n",
       "      <td>29.795</td>\n",
       "      <td>86.60</td>\n",
       "      <td>26.897561</td>\n",
       "      <td>31.6</td>\n",
       "      <td>23.822917</td>\n",
       "      <td>13.1</td>\n",
       "      <td>0</td>\n",
       "      <td>1</td>\n",
       "      <td>0</td>\n",
       "    </tr>\n",
       "    <tr>\n",
       "      <th>4</th>\n",
       "      <td>Blount, AL</td>\n",
       "      <td>11.9</td>\n",
       "      <td>33.500</td>\n",
       "      <td>74.60</td>\n",
       "      <td>24.200000</td>\n",
       "      <td>31.6</td>\n",
       "      <td>23.600000</td>\n",
       "      <td>8.4</td>\n",
       "      <td>0</td>\n",
       "      <td>1</td>\n",
       "      <td>0</td>\n",
       "    </tr>\n",
       "  </tbody>\n",
       "</table>\n",
       "</div>"
      ],
      "text/plain": [
       "  County_index  Poverty  No_Exercise  Few_Fruit_Veg    Obesity  \\\n",
       "0  Autauga, AL     10.4       27.800          78.60  24.500000   \n",
       "1  Baldwin, AL     10.2       27.200          76.20  23.600000   \n",
       "2  Barbour, AL     22.1       29.795          80.08  25.600000   \n",
       "3     Bibb, AL     16.8       29.795          86.60  26.897561   \n",
       "4   Blount, AL     11.9       33.500          74.60  24.200000   \n",
       "\n",
       "   High_Blood_Pres     Smoker  Diabetes  Northeast  South  West  \n",
       "0             29.1  26.600000      14.2          0      1     0  \n",
       "1             30.5  24.600000       7.2          0      1     0  \n",
       "2             31.6  17.700000       6.6          0      1     0  \n",
       "3             31.6  23.822917      13.1          0      1     0  \n",
       "4             31.6  23.600000       8.4          0      1     0  "
      ]
     },
     "execution_count": 205,
     "metadata": {},
     "output_type": "execute_result"
    }
   ],
   "source": [
    "dfpcat.head()"
   ]
  },
  {
   "cell_type": "code",
   "execution_count": 206,
   "metadata": {},
   "outputs": [],
   "source": [
    "# dfpw.head(2)"
   ]
  },
  {
   "cell_type": "code",
   "execution_count": 18,
   "metadata": {},
   "outputs": [],
   "source": [
    "# dfabs.head(2)"
   ]
  },
  {
   "cell_type": "code",
   "execution_count": 20,
   "metadata": {},
   "outputs": [],
   "source": [
    "# dfabsw.head(2)"
   ]
  },
  {
   "cell_type": "markdown",
   "metadata": {},
   "source": [
    "## Base models"
   ]
  },
  {
   "cell_type": "markdown",
   "metadata": {},
   "source": [
    "#### dfp - unweighted, Percentages as 10%"
   ]
  },
  {
   "cell_type": "code",
   "execution_count": 207,
   "metadata": {},
   "outputs": [
    {
     "data": {
      "text/html": [
       "<table class=\"simpletable\">\n",
       "<caption>OLS Regression Results</caption>\n",
       "<tr>\n",
       "  <th>Dep. Variable:</th>        <td>Diabetes</td>     <th>  R-squared:         </th> <td>   0.300</td> \n",
       "</tr>\n",
       "<tr>\n",
       "  <th>Model:</th>                   <td>OLS</td>       <th>  Adj. R-squared:    </th> <td>   0.299</td> \n",
       "</tr>\n",
       "<tr>\n",
       "  <th>Method:</th>             <td>Least Squares</td>  <th>  F-statistic:       </th> <td>   221.7</td> \n",
       "</tr>\n",
       "<tr>\n",
       "  <th>Date:</th>             <td>Mon, 02 Dec 2019</td> <th>  Prob (F-statistic):</th> <td>3.80e-236</td>\n",
       "</tr>\n",
       "<tr>\n",
       "  <th>Time:</th>                 <td>08:43:26</td>     <th>  Log-Likelihood:    </th> <td> -6853.1</td> \n",
       "</tr>\n",
       "<tr>\n",
       "  <th>No. Observations:</th>      <td>  3113</td>      <th>  AIC:               </th> <td>1.372e+04</td>\n",
       "</tr>\n",
       "<tr>\n",
       "  <th>Df Residuals:</th>          <td>  3106</td>      <th>  BIC:               </th> <td>1.376e+04</td>\n",
       "</tr>\n",
       "<tr>\n",
       "  <th>Df Model:</th>              <td>     6</td>      <th>                     </th>     <td> </td>    \n",
       "</tr>\n",
       "<tr>\n",
       "  <th>Covariance Type:</th>      <td>nonrobust</td>    <th>                     </th>     <td> </td>    \n",
       "</tr>\n",
       "</table>\n",
       "<table class=\"simpletable\">\n",
       "<tr>\n",
       "         <td></td>            <th>coef</th>     <th>std err</th>      <th>t</th>      <th>P>|t|</th>  <th>[0.025</th>    <th>0.975]</th>  \n",
       "</tr>\n",
       "<tr>\n",
       "  <th>Intercept</th>       <td>    0.1026</td> <td>    0.745</td> <td>    0.138</td> <td> 0.890</td> <td>   -1.357</td> <td>    1.563</td>\n",
       "</tr>\n",
       "<tr>\n",
       "  <th>Poverty</th>         <td>    0.0962</td> <td>    0.009</td> <td>   10.136</td> <td> 0.000</td> <td>    0.078</td> <td>    0.115</td>\n",
       "</tr>\n",
       "<tr>\n",
       "  <th>No_Exercise</th>     <td>    0.0485</td> <td>    0.010</td> <td>    4.991</td> <td> 0.000</td> <td>    0.029</td> <td>    0.068</td>\n",
       "</tr>\n",
       "<tr>\n",
       "  <th>Few_Fruit_Veg</th>   <td>   -0.0161</td> <td>    0.010</td> <td>   -1.649</td> <td> 0.099</td> <td>   -0.035</td> <td>    0.003</td>\n",
       "</tr>\n",
       "<tr>\n",
       "  <th>Obesity</th>         <td>    0.1565</td> <td>    0.012</td> <td>   13.448</td> <td> 0.000</td> <td>    0.134</td> <td>    0.179</td>\n",
       "</tr>\n",
       "<tr>\n",
       "  <th>High_Blood_Pres</th> <td>    0.1088</td> <td>    0.011</td> <td>    9.638</td> <td> 0.000</td> <td>    0.087</td> <td>    0.131</td>\n",
       "</tr>\n",
       "<tr>\n",
       "  <th>Smoker</th>          <td>   -0.0102</td> <td>    0.009</td> <td>   -1.128</td> <td> 0.259</td> <td>   -0.028</td> <td>    0.008</td>\n",
       "</tr>\n",
       "</table>\n",
       "<table class=\"simpletable\">\n",
       "<tr>\n",
       "  <th>Omnibus:</th>       <td>389.683</td> <th>  Durbin-Watson:     </th> <td>   1.967</td> \n",
       "</tr>\n",
       "<tr>\n",
       "  <th>Prob(Omnibus):</th> <td> 0.000</td>  <th>  Jarque-Bera (JB):  </th> <td> 954.004</td> \n",
       "</tr>\n",
       "<tr>\n",
       "  <th>Skew:</th>          <td> 0.716</td>  <th>  Prob(JB):          </th> <td>6.93e-208</td>\n",
       "</tr>\n",
       "<tr>\n",
       "  <th>Kurtosis:</th>      <td> 5.304</td>  <th>  Cond. No.          </th> <td>1.79e+03</td> \n",
       "</tr>\n",
       "</table><br/><br/>Warnings:<br/>[1] Standard Errors assume that the covariance matrix of the errors is correctly specified.<br/>[2] The condition number is large, 1.79e+03. This might indicate that there are<br/>strong multicollinearity or other numerical problems."
      ],
      "text/plain": [
       "<class 'statsmodels.iolib.summary.Summary'>\n",
       "\"\"\"\n",
       "                            OLS Regression Results                            \n",
       "==============================================================================\n",
       "Dep. Variable:               Diabetes   R-squared:                       0.300\n",
       "Model:                            OLS   Adj. R-squared:                  0.299\n",
       "Method:                 Least Squares   F-statistic:                     221.7\n",
       "Date:                Mon, 02 Dec 2019   Prob (F-statistic):          3.80e-236\n",
       "Time:                        08:43:26   Log-Likelihood:                -6853.1\n",
       "No. Observations:                3113   AIC:                         1.372e+04\n",
       "Df Residuals:                    3106   BIC:                         1.376e+04\n",
       "Df Model:                           6                                         \n",
       "Covariance Type:            nonrobust                                         \n",
       "===================================================================================\n",
       "                      coef    std err          t      P>|t|      [0.025      0.975]\n",
       "-----------------------------------------------------------------------------------\n",
       "Intercept           0.1026      0.745      0.138      0.890      -1.357       1.563\n",
       "Poverty             0.0962      0.009     10.136      0.000       0.078       0.115\n",
       "No_Exercise         0.0485      0.010      4.991      0.000       0.029       0.068\n",
       "Few_Fruit_Veg      -0.0161      0.010     -1.649      0.099      -0.035       0.003\n",
       "Obesity             0.1565      0.012     13.448      0.000       0.134       0.179\n",
       "High_Blood_Pres     0.1088      0.011      9.638      0.000       0.087       0.131\n",
       "Smoker             -0.0102      0.009     -1.128      0.259      -0.028       0.008\n",
       "==============================================================================\n",
       "Omnibus:                      389.683   Durbin-Watson:                   1.967\n",
       "Prob(Omnibus):                  0.000   Jarque-Bera (JB):              954.004\n",
       "Skew:                           0.716   Prob(JB):                    6.93e-208\n",
       "Kurtosis:                       5.304   Cond. No.                     1.79e+03\n",
       "==============================================================================\n",
       "\n",
       "Warnings:\n",
       "[1] Standard Errors assume that the covariance matrix of the errors is correctly specified.\n",
       "[2] The condition number is large, 1.79e+03. This might indicate that there are\n",
       "strong multicollinearity or other numerical problems.\n",
       "\"\"\""
      ]
     },
     "execution_count": 207,
     "metadata": {},
     "output_type": "execute_result"
    }
   ],
   "source": [
    "formula = \"Diabetes ~ Poverty+No_Exercise+Few_Fruit_Veg+Obesity+High_Blood_Pres+Smoker\"\n",
    "model = ols(formula= formula, data=dfp).fit()\n",
    "model.summary()"
   ]
  },
  {
   "cell_type": "markdown",
   "metadata": {},
   "source": [
    "#### dfpcat - unweighted percentages with categorical variables"
   ]
  },
  {
   "cell_type": "code",
   "execution_count": 208,
   "metadata": {},
   "outputs": [
    {
     "data": {
      "text/html": [
       "<table class=\"simpletable\">\n",
       "<caption>OLS Regression Results</caption>\n",
       "<tr>\n",
       "  <th>Dep. Variable:</th>        <td>Diabetes</td>     <th>  R-squared:         </th> <td>   0.308</td> \n",
       "</tr>\n",
       "<tr>\n",
       "  <th>Model:</th>                   <td>OLS</td>       <th>  Adj. R-squared:    </th> <td>   0.306</td> \n",
       "</tr>\n",
       "<tr>\n",
       "  <th>Method:</th>             <td>Least Squares</td>  <th>  F-statistic:       </th> <td>   153.2</td> \n",
       "</tr>\n",
       "<tr>\n",
       "  <th>Date:</th>             <td>Mon, 02 Dec 2019</td> <th>  Prob (F-statistic):</th> <td>4.33e-240</td>\n",
       "</tr>\n",
       "<tr>\n",
       "  <th>Time:</th>                 <td>08:43:28</td>     <th>  Log-Likelihood:    </th> <td> -6835.8</td> \n",
       "</tr>\n",
       "<tr>\n",
       "  <th>No. Observations:</th>      <td>  3113</td>      <th>  AIC:               </th> <td>1.369e+04</td>\n",
       "</tr>\n",
       "<tr>\n",
       "  <th>Df Residuals:</th>          <td>  3103</td>      <th>  BIC:               </th> <td>1.375e+04</td>\n",
       "</tr>\n",
       "<tr>\n",
       "  <th>Df Model:</th>              <td>     9</td>      <th>                     </th>     <td> </td>    \n",
       "</tr>\n",
       "<tr>\n",
       "  <th>Covariance Type:</th>      <td>nonrobust</td>    <th>                     </th>     <td> </td>    \n",
       "</tr>\n",
       "</table>\n",
       "<table class=\"simpletable\">\n",
       "<tr>\n",
       "         <td></td>            <th>coef</th>     <th>std err</th>      <th>t</th>      <th>P>|t|</th>  <th>[0.025</th>    <th>0.975]</th>  \n",
       "</tr>\n",
       "<tr>\n",
       "  <th>Intercept</th>       <td>    0.9987</td> <td>    0.797</td> <td>    1.253</td> <td> 0.210</td> <td>   -0.564</td> <td>    2.561</td>\n",
       "</tr>\n",
       "<tr>\n",
       "  <th>Poverty</th>         <td>    0.1039</td> <td>    0.011</td> <td>    9.864</td> <td> 0.000</td> <td>    0.083</td> <td>    0.125</td>\n",
       "</tr>\n",
       "<tr>\n",
       "  <th>No_Exercise</th>     <td>    0.0373</td> <td>    0.010</td> <td>    3.778</td> <td> 0.000</td> <td>    0.018</td> <td>    0.057</td>\n",
       "</tr>\n",
       "<tr>\n",
       "  <th>Few_Fruit_Veg</th>   <td>   -0.0183</td> <td>    0.010</td> <td>   -1.781</td> <td> 0.075</td> <td>   -0.038</td> <td>    0.002</td>\n",
       "</tr>\n",
       "<tr>\n",
       "  <th>Obesity</th>         <td>    0.1464</td> <td>    0.012</td> <td>   12.388</td> <td> 0.000</td> <td>    0.123</td> <td>    0.170</td>\n",
       "</tr>\n",
       "<tr>\n",
       "  <th>High_Blood_Pres</th> <td>    0.1049</td> <td>    0.011</td> <td>    9.129</td> <td> 0.000</td> <td>    0.082</td> <td>    0.127</td>\n",
       "</tr>\n",
       "<tr>\n",
       "  <th>Smoker</th>          <td>   -0.0163</td> <td>    0.009</td> <td>   -1.791</td> <td> 0.073</td> <td>   -0.034</td> <td>    0.002</td>\n",
       "</tr>\n",
       "<tr>\n",
       "  <th>Northeast</th>       <td>   -0.0239</td> <td>    0.173</td> <td>   -0.139</td> <td> 0.890</td> <td>   -0.363</td> <td>    0.315</td>\n",
       "</tr>\n",
       "<tr>\n",
       "  <th>South</th>           <td>    0.0993</td> <td>    0.107</td> <td>    0.924</td> <td> 0.355</td> <td>   -0.111</td> <td>    0.310</td>\n",
       "</tr>\n",
       "<tr>\n",
       "  <th>West</th>            <td>   -0.6902</td> <td>    0.140</td> <td>   -4.928</td> <td> 0.000</td> <td>   -0.965</td> <td>   -0.416</td>\n",
       "</tr>\n",
       "</table>\n",
       "<table class=\"simpletable\">\n",
       "<tr>\n",
       "  <th>Omnibus:</th>       <td>374.185</td> <th>  Durbin-Watson:     </th> <td>   1.992</td> \n",
       "</tr>\n",
       "<tr>\n",
       "  <th>Prob(Omnibus):</th> <td> 0.000</td>  <th>  Jarque-Bera (JB):  </th> <td> 920.992</td> \n",
       "</tr>\n",
       "<tr>\n",
       "  <th>Skew:</th>          <td> 0.688</td>  <th>  Prob(JB):          </th> <td>1.02e-200</td>\n",
       "</tr>\n",
       "<tr>\n",
       "  <th>Kurtosis:</th>      <td> 5.282</td>  <th>  Cond. No.          </th> <td>1.94e+03</td> \n",
       "</tr>\n",
       "</table><br/><br/>Warnings:<br/>[1] Standard Errors assume that the covariance matrix of the errors is correctly specified.<br/>[2] The condition number is large, 1.94e+03. This might indicate that there are<br/>strong multicollinearity or other numerical problems."
      ],
      "text/plain": [
       "<class 'statsmodels.iolib.summary.Summary'>\n",
       "\"\"\"\n",
       "                            OLS Regression Results                            \n",
       "==============================================================================\n",
       "Dep. Variable:               Diabetes   R-squared:                       0.308\n",
       "Model:                            OLS   Adj. R-squared:                  0.306\n",
       "Method:                 Least Squares   F-statistic:                     153.2\n",
       "Date:                Mon, 02 Dec 2019   Prob (F-statistic):          4.33e-240\n",
       "Time:                        08:43:28   Log-Likelihood:                -6835.8\n",
       "No. Observations:                3113   AIC:                         1.369e+04\n",
       "Df Residuals:                    3103   BIC:                         1.375e+04\n",
       "Df Model:                           9                                         \n",
       "Covariance Type:            nonrobust                                         \n",
       "===================================================================================\n",
       "                      coef    std err          t      P>|t|      [0.025      0.975]\n",
       "-----------------------------------------------------------------------------------\n",
       "Intercept           0.9987      0.797      1.253      0.210      -0.564       2.561\n",
       "Poverty             0.1039      0.011      9.864      0.000       0.083       0.125\n",
       "No_Exercise         0.0373      0.010      3.778      0.000       0.018       0.057\n",
       "Few_Fruit_Veg      -0.0183      0.010     -1.781      0.075      -0.038       0.002\n",
       "Obesity             0.1464      0.012     12.388      0.000       0.123       0.170\n",
       "High_Blood_Pres     0.1049      0.011      9.129      0.000       0.082       0.127\n",
       "Smoker             -0.0163      0.009     -1.791      0.073      -0.034       0.002\n",
       "Northeast          -0.0239      0.173     -0.139      0.890      -0.363       0.315\n",
       "South               0.0993      0.107      0.924      0.355      -0.111       0.310\n",
       "West               -0.6902      0.140     -4.928      0.000      -0.965      -0.416\n",
       "==============================================================================\n",
       "Omnibus:                      374.185   Durbin-Watson:                   1.992\n",
       "Prob(Omnibus):                  0.000   Jarque-Bera (JB):              920.992\n",
       "Skew:                           0.688   Prob(JB):                    1.02e-200\n",
       "Kurtosis:                       5.282   Cond. No.                     1.94e+03\n",
       "==============================================================================\n",
       "\n",
       "Warnings:\n",
       "[1] Standard Errors assume that the covariance matrix of the errors is correctly specified.\n",
       "[2] The condition number is large, 1.94e+03. This might indicate that there are\n",
       "strong multicollinearity or other numerical problems.\n",
       "\"\"\""
      ]
     },
     "execution_count": 208,
     "metadata": {},
     "output_type": "execute_result"
    }
   ],
   "source": [
    "formula = \"Diabetes ~ Poverty+No_Exercise+Few_Fruit_Veg+Obesity+High_Blood_Pres+Smoker+Northeast+South+West\"\n",
    "model = ols(formula= formula, data=dfpcat).fit()\n",
    "model.summary()"
   ]
  },
  {
   "cell_type": "markdown",
   "metadata": {},
   "source": [
    "####  dfpw - weighted percentages"
   ]
  },
  {
   "cell_type": "code",
   "execution_count": 209,
   "metadata": {},
   "outputs": [
    {
     "data": {
      "text/html": [
       "<table class=\"simpletable\">\n",
       "<caption>OLS Regression Results</caption>\n",
       "<tr>\n",
       "  <th>Dep. Variable:</th>        <td>Diabetes</td>     <th>  R-squared:         </th> <td>   0.991</td> \n",
       "</tr>\n",
       "<tr>\n",
       "  <th>Model:</th>                   <td>OLS</td>       <th>  Adj. R-squared:    </th> <td>   0.991</td> \n",
       "</tr>\n",
       "<tr>\n",
       "  <th>Method:</th>             <td>Least Squares</td>  <th>  F-statistic:       </th> <td>5.663e+04</td>\n",
       "</tr>\n",
       "<tr>\n",
       "  <th>Date:</th>             <td>Mon, 02 Dec 2019</td> <th>  Prob (F-statistic):</th>  <td>  0.00</td>  \n",
       "</tr>\n",
       "<tr>\n",
       "  <th>Time:</th>                 <td>08:43:32</td>     <th>  Log-Likelihood:    </th> <td>  4004.3</td> \n",
       "</tr>\n",
       "<tr>\n",
       "  <th>No. Observations:</th>      <td>  3113</td>      <th>  AIC:               </th> <td>  -7995.</td> \n",
       "</tr>\n",
       "<tr>\n",
       "  <th>Df Residuals:</th>          <td>  3106</td>      <th>  BIC:               </th> <td>  -7952.</td> \n",
       "</tr>\n",
       "<tr>\n",
       "  <th>Df Model:</th>              <td>     6</td>      <th>                     </th>     <td> </td>    \n",
       "</tr>\n",
       "<tr>\n",
       "  <th>Covariance Type:</th>      <td>nonrobust</td>    <th>                     </th>     <td> </td>    \n",
       "</tr>\n",
       "</table>\n",
       "<table class=\"simpletable\">\n",
       "<tr>\n",
       "         <td></td>            <th>coef</th>     <th>std err</th>      <th>t</th>      <th>P>|t|</th>  <th>[0.025</th>    <th>0.975]</th>  \n",
       "</tr>\n",
       "<tr>\n",
       "  <th>Intercept</th>       <td>    0.0038</td> <td>    0.001</td> <td>    2.887</td> <td> 0.004</td> <td>    0.001</td> <td>    0.006</td>\n",
       "</tr>\n",
       "<tr>\n",
       "  <th>Poverty</th>         <td>    0.0356</td> <td>    0.005</td> <td>    7.862</td> <td> 0.000</td> <td>    0.027</td> <td>    0.044</td>\n",
       "</tr>\n",
       "<tr>\n",
       "  <th>No_Exercise</th>     <td>    0.0815</td> <td>    0.004</td> <td>   19.184</td> <td> 0.000</td> <td>    0.073</td> <td>    0.090</td>\n",
       "</tr>\n",
       "<tr>\n",
       "  <th>Few_Fruit_Veg</th>   <td>   -0.0399</td> <td>    0.002</td> <td>  -23.612</td> <td> 0.000</td> <td>   -0.043</td> <td>   -0.037</td>\n",
       "</tr>\n",
       "<tr>\n",
       "  <th>Obesity</th>         <td>    0.0780</td> <td>    0.006</td> <td>   13.299</td> <td> 0.000</td> <td>    0.066</td> <td>    0.089</td>\n",
       "</tr>\n",
       "<tr>\n",
       "  <th>High_Blood_Pres</th> <td>    0.1471</td> <td>    0.005</td> <td>   27.350</td> <td> 0.000</td> <td>    0.137</td> <td>    0.158</td>\n",
       "</tr>\n",
       "<tr>\n",
       "  <th>Smoker</th>          <td>    0.0986</td> <td>    0.004</td> <td>   22.311</td> <td> 0.000</td> <td>    0.090</td> <td>    0.107</td>\n",
       "</tr>\n",
       "</table>\n",
       "<table class=\"simpletable\">\n",
       "<tr>\n",
       "  <th>Omnibus:</th>       <td>1554.684</td> <th>  Durbin-Watson:     </th>  <td>   1.919</td> \n",
       "</tr>\n",
       "<tr>\n",
       "  <th>Prob(Omnibus):</th>  <td> 0.000</td>  <th>  Jarque-Bera (JB):  </th> <td>260642.809</td>\n",
       "</tr>\n",
       "<tr>\n",
       "  <th>Skew:</th>           <td> 1.289</td>  <th>  Prob(JB):          </th>  <td>    0.00</td> \n",
       "</tr>\n",
       "<tr>\n",
       "  <th>Kurtosis:</th>       <td>47.753</td>  <th>  Cond. No.          </th>  <td>    57.6</td> \n",
       "</tr>\n",
       "</table><br/><br/>Warnings:<br/>[1] Standard Errors assume that the covariance matrix of the errors is correctly specified."
      ],
      "text/plain": [
       "<class 'statsmodels.iolib.summary.Summary'>\n",
       "\"\"\"\n",
       "                            OLS Regression Results                            \n",
       "==============================================================================\n",
       "Dep. Variable:               Diabetes   R-squared:                       0.991\n",
       "Model:                            OLS   Adj. R-squared:                  0.991\n",
       "Method:                 Least Squares   F-statistic:                 5.663e+04\n",
       "Date:                Mon, 02 Dec 2019   Prob (F-statistic):               0.00\n",
       "Time:                        08:43:32   Log-Likelihood:                 4004.3\n",
       "No. Observations:                3113   AIC:                            -7995.\n",
       "Df Residuals:                    3106   BIC:                            -7952.\n",
       "Df Model:                           6                                         \n",
       "Covariance Type:            nonrobust                                         \n",
       "===================================================================================\n",
       "                      coef    std err          t      P>|t|      [0.025      0.975]\n",
       "-----------------------------------------------------------------------------------\n",
       "Intercept           0.0038      0.001      2.887      0.004       0.001       0.006\n",
       "Poverty             0.0356      0.005      7.862      0.000       0.027       0.044\n",
       "No_Exercise         0.0815      0.004     19.184      0.000       0.073       0.090\n",
       "Few_Fruit_Veg      -0.0399      0.002    -23.612      0.000      -0.043      -0.037\n",
       "Obesity             0.0780      0.006     13.299      0.000       0.066       0.089\n",
       "High_Blood_Pres     0.1471      0.005     27.350      0.000       0.137       0.158\n",
       "Smoker              0.0986      0.004     22.311      0.000       0.090       0.107\n",
       "==============================================================================\n",
       "Omnibus:                     1554.684   Durbin-Watson:                   1.919\n",
       "Prob(Omnibus):                  0.000   Jarque-Bera (JB):           260642.809\n",
       "Skew:                           1.289   Prob(JB):                         0.00\n",
       "Kurtosis:                      47.753   Cond. No.                         57.6\n",
       "==============================================================================\n",
       "\n",
       "Warnings:\n",
       "[1] Standard Errors assume that the covariance matrix of the errors is correctly specified.\n",
       "\"\"\""
      ]
     },
     "execution_count": 209,
     "metadata": {},
     "output_type": "execute_result"
    }
   ],
   "source": [
    "formula = \"Diabetes ~ Poverty+No_Exercise+Few_Fruit_Veg+Obesity+High_Blood_Pres+Smoker\"\n",
    "model = ols(formula= formula, data=dfpw).fit()\n",
    "model.summary()"
   ]
  },
  {
   "cell_type": "markdown",
   "metadata": {},
   "source": [
    "#### dfabs - unweighted absolute values "
   ]
  },
  {
   "cell_type": "code",
   "execution_count": 210,
   "metadata": {},
   "outputs": [
    {
     "data": {
      "text/html": [
       "<table class=\"simpletable\">\n",
       "<caption>OLS Regression Results</caption>\n",
       "<tr>\n",
       "  <th>Dep. Variable:</th>        <td>Diabetes</td>     <th>  R-squared:         </th> <td>   0.991</td> \n",
       "</tr>\n",
       "<tr>\n",
       "  <th>Model:</th>                   <td>OLS</td>       <th>  Adj. R-squared:    </th> <td>   0.991</td> \n",
       "</tr>\n",
       "<tr>\n",
       "  <th>Method:</th>             <td>Least Squares</td>  <th>  F-statistic:       </th> <td>5.663e+04</td>\n",
       "</tr>\n",
       "<tr>\n",
       "  <th>Date:</th>             <td>Mon, 02 Dec 2019</td> <th>  Prob (F-statistic):</th>  <td>  0.00</td>  \n",
       "</tr>\n",
       "<tr>\n",
       "  <th>Time:</th>                 <td>08:43:36</td>     <th>  Log-Likelihood:    </th> <td> -42386.</td> \n",
       "</tr>\n",
       "<tr>\n",
       "  <th>No. Observations:</th>      <td>  3113</td>      <th>  AIC:               </th> <td>8.479e+04</td>\n",
       "</tr>\n",
       "<tr>\n",
       "  <th>Df Residuals:</th>          <td>  3106</td>      <th>  BIC:               </th> <td>8.483e+04</td>\n",
       "</tr>\n",
       "<tr>\n",
       "  <th>Df Model:</th>              <td>     6</td>      <th>                     </th>     <td> </td>    \n",
       "</tr>\n",
       "<tr>\n",
       "  <th>Covariance Type:</th>      <td>nonrobust</td>    <th>                     </th>     <td> </td>    \n",
       "</tr>\n",
       "</table>\n",
       "<table class=\"simpletable\">\n",
       "<tr>\n",
       "         <td></td>            <th>coef</th>     <th>std err</th>      <th>t</th>      <th>P>|t|</th>  <th>[0.025</th>    <th>0.975]</th>  \n",
       "</tr>\n",
       "<tr>\n",
       "  <th>Intercept</th>       <td> 1.122e+04</td> <td> 3887.661</td> <td>    2.887</td> <td> 0.004</td> <td> 3601.198</td> <td> 1.88e+04</td>\n",
       "</tr>\n",
       "<tr>\n",
       "  <th>Poverty</th>         <td>    0.0356</td> <td>    0.005</td> <td>    7.862</td> <td> 0.000</td> <td>    0.027</td> <td>    0.044</td>\n",
       "</tr>\n",
       "<tr>\n",
       "  <th>No_Exercise</th>     <td>    0.0815</td> <td>    0.004</td> <td>   19.184</td> <td> 0.000</td> <td>    0.073</td> <td>    0.090</td>\n",
       "</tr>\n",
       "<tr>\n",
       "  <th>Few_Fruit_Veg</th>   <td>   -0.0399</td> <td>    0.002</td> <td>  -23.612</td> <td> 0.000</td> <td>   -0.043</td> <td>   -0.037</td>\n",
       "</tr>\n",
       "<tr>\n",
       "  <th>Obesity</th>         <td>    0.0780</td> <td>    0.006</td> <td>   13.299</td> <td> 0.000</td> <td>    0.066</td> <td>    0.089</td>\n",
       "</tr>\n",
       "<tr>\n",
       "  <th>High_Blood_Pres</th> <td>    0.1471</td> <td>    0.005</td> <td>   27.350</td> <td> 0.000</td> <td>    0.137</td> <td>    0.158</td>\n",
       "</tr>\n",
       "<tr>\n",
       "  <th>Smoker</th>          <td>    0.0986</td> <td>    0.004</td> <td>   22.311</td> <td> 0.000</td> <td>    0.090</td> <td>    0.107</td>\n",
       "</tr>\n",
       "</table>\n",
       "<table class=\"simpletable\">\n",
       "<tr>\n",
       "  <th>Omnibus:</th>       <td>1554.684</td> <th>  Durbin-Watson:     </th>  <td>   1.919</td> \n",
       "</tr>\n",
       "<tr>\n",
       "  <th>Prob(Omnibus):</th>  <td> 0.000</td>  <th>  Jarque-Bera (JB):  </th> <td>260642.809</td>\n",
       "</tr>\n",
       "<tr>\n",
       "  <th>Skew:</th>           <td> 1.289</td>  <th>  Prob(JB):          </th>  <td>    0.00</td> \n",
       "</tr>\n",
       "<tr>\n",
       "  <th>Kurtosis:</th>       <td>47.753</td>  <th>  Cond. No.          </th>  <td>3.09e+07</td> \n",
       "</tr>\n",
       "</table><br/><br/>Warnings:<br/>[1] Standard Errors assume that the covariance matrix of the errors is correctly specified.<br/>[2] The condition number is large, 3.09e+07. This might indicate that there are<br/>strong multicollinearity or other numerical problems."
      ],
      "text/plain": [
       "<class 'statsmodels.iolib.summary.Summary'>\n",
       "\"\"\"\n",
       "                            OLS Regression Results                            \n",
       "==============================================================================\n",
       "Dep. Variable:               Diabetes   R-squared:                       0.991\n",
       "Model:                            OLS   Adj. R-squared:                  0.991\n",
       "Method:                 Least Squares   F-statistic:                 5.663e+04\n",
       "Date:                Mon, 02 Dec 2019   Prob (F-statistic):               0.00\n",
       "Time:                        08:43:36   Log-Likelihood:                -42386.\n",
       "No. Observations:                3113   AIC:                         8.479e+04\n",
       "Df Residuals:                    3106   BIC:                         8.483e+04\n",
       "Df Model:                           6                                         \n",
       "Covariance Type:            nonrobust                                         \n",
       "===================================================================================\n",
       "                      coef    std err          t      P>|t|      [0.025      0.975]\n",
       "-----------------------------------------------------------------------------------\n",
       "Intercept        1.122e+04   3887.661      2.887      0.004    3601.198    1.88e+04\n",
       "Poverty             0.0356      0.005      7.862      0.000       0.027       0.044\n",
       "No_Exercise         0.0815      0.004     19.184      0.000       0.073       0.090\n",
       "Few_Fruit_Veg      -0.0399      0.002    -23.612      0.000      -0.043      -0.037\n",
       "Obesity             0.0780      0.006     13.299      0.000       0.066       0.089\n",
       "High_Blood_Pres     0.1471      0.005     27.350      0.000       0.137       0.158\n",
       "Smoker              0.0986      0.004     22.311      0.000       0.090       0.107\n",
       "==============================================================================\n",
       "Omnibus:                     1554.684   Durbin-Watson:                   1.919\n",
       "Prob(Omnibus):                  0.000   Jarque-Bera (JB):           260642.809\n",
       "Skew:                           1.289   Prob(JB):                         0.00\n",
       "Kurtosis:                      47.753   Cond. No.                     3.09e+07\n",
       "==============================================================================\n",
       "\n",
       "Warnings:\n",
       "[1] Standard Errors assume that the covariance matrix of the errors is correctly specified.\n",
       "[2] The condition number is large, 3.09e+07. This might indicate that there are\n",
       "strong multicollinearity or other numerical problems.\n",
       "\"\"\""
      ]
     },
     "execution_count": 210,
     "metadata": {},
     "output_type": "execute_result"
    }
   ],
   "source": [
    "formula = \"Diabetes ~ Poverty+No_Exercise+Few_Fruit_Veg+Obesity+High_Blood_Pres+Smoker\"\n",
    "model = ols(formula= formula, data=dfabs).fit()\n",
    "model.summary()"
   ]
  },
  {
   "cell_type": "markdown",
   "metadata": {},
   "source": [
    "#### dfabsw - weighted absolute values "
   ]
  },
  {
   "cell_type": "code",
   "execution_count": 211,
   "metadata": {},
   "outputs": [
    {
     "data": {
      "text/html": [
       "<table class=\"simpletable\">\n",
       "<caption>OLS Regression Results</caption>\n",
       "<tr>\n",
       "  <th>Dep. Variable:</th>        <td>Diabetes</td>     <th>  R-squared:         </th> <td>   0.999</td> \n",
       "</tr>\n",
       "<tr>\n",
       "  <th>Model:</th>                   <td>OLS</td>       <th>  Adj. R-squared:    </th> <td>   0.999</td> \n",
       "</tr>\n",
       "<tr>\n",
       "  <th>Method:</th>             <td>Least Squares</td>  <th>  F-statistic:       </th> <td>9.597e+05</td>\n",
       "</tr>\n",
       "<tr>\n",
       "  <th>Date:</th>             <td>Mon, 02 Dec 2019</td> <th>  Prob (F-statistic):</th>  <td>  0.00</td>  \n",
       "</tr>\n",
       "<tr>\n",
       "  <th>Time:</th>                 <td>08:43:40</td>     <th>  Log-Likelihood:    </th> <td> -40263.</td> \n",
       "</tr>\n",
       "<tr>\n",
       "  <th>No. Observations:</th>      <td>  3113</td>      <th>  AIC:               </th> <td>8.054e+04</td>\n",
       "</tr>\n",
       "<tr>\n",
       "  <th>Df Residuals:</th>          <td>  3106</td>      <th>  BIC:               </th> <td>8.058e+04</td>\n",
       "</tr>\n",
       "<tr>\n",
       "  <th>Df Model:</th>              <td>     6</td>      <th>                     </th>     <td> </td>    \n",
       "</tr>\n",
       "<tr>\n",
       "  <th>Covariance Type:</th>      <td>nonrobust</td>    <th>                     </th>     <td> </td>    \n",
       "</tr>\n",
       "</table>\n",
       "<table class=\"simpletable\">\n",
       "<tr>\n",
       "         <td></td>            <th>coef</th>     <th>std err</th>      <th>t</th>      <th>P>|t|</th>  <th>[0.025</th>    <th>0.975]</th>  \n",
       "</tr>\n",
       "<tr>\n",
       "  <th>Intercept</th>       <td> 1765.3682</td> <td> 1813.702</td> <td>    0.973</td> <td> 0.330</td> <td>-1790.809</td> <td> 5321.545</td>\n",
       "</tr>\n",
       "<tr>\n",
       "  <th>Poverty</th>         <td>    0.0196</td> <td>    0.004</td> <td>    4.489</td> <td> 0.000</td> <td>    0.011</td> <td>    0.028</td>\n",
       "</tr>\n",
       "<tr>\n",
       "  <th>No_Exercise</th>     <td>    0.1159</td> <td>    0.004</td> <td>   30.398</td> <td> 0.000</td> <td>    0.108</td> <td>    0.123</td>\n",
       "</tr>\n",
       "<tr>\n",
       "  <th>Few_Fruit_Veg</th>   <td>   -0.0521</td> <td>    0.002</td> <td>  -33.527</td> <td> 0.000</td> <td>   -0.055</td> <td>   -0.049</td>\n",
       "</tr>\n",
       "<tr>\n",
       "  <th>Obesity</th>         <td>   -0.0040</td> <td>    0.006</td> <td>   -0.657</td> <td> 0.511</td> <td>   -0.016</td> <td>    0.008</td>\n",
       "</tr>\n",
       "<tr>\n",
       "  <th>High_Blood_Pres</th> <td>    0.1679</td> <td>    0.005</td> <td>   34.588</td> <td> 0.000</td> <td>    0.158</td> <td>    0.177</td>\n",
       "</tr>\n",
       "<tr>\n",
       "  <th>Smoker</th>          <td>    0.1765</td> <td>    0.004</td> <td>   42.672</td> <td> 0.000</td> <td>    0.168</td> <td>    0.185</td>\n",
       "</tr>\n",
       "</table>\n",
       "<table class=\"simpletable\">\n",
       "<tr>\n",
       "  <th>Omnibus:</th>       <td>1957.103</td> <th>  Durbin-Watson:     </th>   <td>   1.987</td>  \n",
       "</tr>\n",
       "<tr>\n",
       "  <th>Prob(Omnibus):</th>  <td> 0.000</td>  <th>  Jarque-Bera (JB):  </th> <td>10085855.483</td>\n",
       "</tr>\n",
       "<tr>\n",
       "  <th>Skew:</th>           <td> 1.203</td>  <th>  Prob(JB):          </th>   <td>    0.00</td>  \n",
       "</tr>\n",
       "<tr>\n",
       "  <th>Kurtosis:</th>       <td>281.841</td> <th>  Cond. No.          </th>   <td>5.66e+07</td>  \n",
       "</tr>\n",
       "</table><br/><br/>Warnings:<br/>[1] Standard Errors assume that the covariance matrix of the errors is correctly specified.<br/>[2] The condition number is large, 5.66e+07. This might indicate that there are<br/>strong multicollinearity or other numerical problems."
      ],
      "text/plain": [
       "<class 'statsmodels.iolib.summary.Summary'>\n",
       "\"\"\"\n",
       "                            OLS Regression Results                            \n",
       "==============================================================================\n",
       "Dep. Variable:               Diabetes   R-squared:                       0.999\n",
       "Model:                            OLS   Adj. R-squared:                  0.999\n",
       "Method:                 Least Squares   F-statistic:                 9.597e+05\n",
       "Date:                Mon, 02 Dec 2019   Prob (F-statistic):               0.00\n",
       "Time:                        08:43:40   Log-Likelihood:                -40263.\n",
       "No. Observations:                3113   AIC:                         8.054e+04\n",
       "Df Residuals:                    3106   BIC:                         8.058e+04\n",
       "Df Model:                           6                                         \n",
       "Covariance Type:            nonrobust                                         \n",
       "===================================================================================\n",
       "                      coef    std err          t      P>|t|      [0.025      0.975]\n",
       "-----------------------------------------------------------------------------------\n",
       "Intercept        1765.3682   1813.702      0.973      0.330   -1790.809    5321.545\n",
       "Poverty             0.0196      0.004      4.489      0.000       0.011       0.028\n",
       "No_Exercise         0.1159      0.004     30.398      0.000       0.108       0.123\n",
       "Few_Fruit_Veg      -0.0521      0.002    -33.527      0.000      -0.055      -0.049\n",
       "Obesity            -0.0040      0.006     -0.657      0.511      -0.016       0.008\n",
       "High_Blood_Pres     0.1679      0.005     34.588      0.000       0.158       0.177\n",
       "Smoker              0.1765      0.004     42.672      0.000       0.168       0.185\n",
       "==============================================================================\n",
       "Omnibus:                     1957.103   Durbin-Watson:                   1.987\n",
       "Prob(Omnibus):                  0.000   Jarque-Bera (JB):         10085855.483\n",
       "Skew:                           1.203   Prob(JB):                         0.00\n",
       "Kurtosis:                     281.841   Cond. No.                     5.66e+07\n",
       "==============================================================================\n",
       "\n",
       "Warnings:\n",
       "[1] Standard Errors assume that the covariance matrix of the errors is correctly specified.\n",
       "[2] The condition number is large, 5.66e+07. This might indicate that there are\n",
       "strong multicollinearity or other numerical problems.\n",
       "\"\"\""
      ]
     },
     "execution_count": 211,
     "metadata": {},
     "output_type": "execute_result"
    }
   ],
   "source": [
    "formula = \"Diabetes ~ Poverty+No_Exercise+Few_Fruit_Veg+Obesity+High_Blood_Pres+Smoker\"\n",
    "model = ols(formula= formula, data=dfabsw).fit()\n",
    "model.summary()"
   ]
  },
  {
   "cell_type": "markdown",
   "metadata": {},
   "source": [
    "### Checking for the effect of including different parameters"
   ]
  },
  {
   "cell_type": "code",
   "execution_count": 28,
   "metadata": {},
   "outputs": [],
   "source": [
    "# formula = \"Diabetes ~ Poverty+No_Exercise+Obesity+High_Blood_Pres+Northeast+South+West\"\n",
    "# pcatmodel = ols(formula= formula, data=dfpcat).fit()\n",
    "# pcatmodel.summary()"
   ]
  },
  {
   "cell_type": "code",
   "execution_count": 29,
   "metadata": {},
   "outputs": [],
   "source": [
    "# formula = \"Diabetes ~ Obesity+High_Blood_Pres\"\n",
    "# model = ols(formula= formula, data=dfp).fit()\n",
    "# model.summary()"
   ]
  },
  {
   "cell_type": "markdown",
   "metadata": {},
   "source": [
    "### Going with dfpcat "
   ]
  },
  {
   "cell_type": "code",
   "execution_count": 187,
   "metadata": {},
   "outputs": [
    {
     "data": {
      "text/html": [
       "<table class=\"simpletable\">\n",
       "<caption>OLS Regression Results</caption>\n",
       "<tr>\n",
       "  <th>Dep. Variable:</th>        <td>Diabetes</td>     <th>  R-squared:         </th> <td>   0.308</td> \n",
       "</tr>\n",
       "<tr>\n",
       "  <th>Model:</th>                   <td>OLS</td>       <th>  Adj. R-squared:    </th> <td>   0.306</td> \n",
       "</tr>\n",
       "<tr>\n",
       "  <th>Method:</th>             <td>Least Squares</td>  <th>  F-statistic:       </th> <td>   153.2</td> \n",
       "</tr>\n",
       "<tr>\n",
       "  <th>Date:</th>             <td>Mon, 02 Dec 2019</td> <th>  Prob (F-statistic):</th> <td>4.33e-240</td>\n",
       "</tr>\n",
       "<tr>\n",
       "  <th>Time:</th>                 <td>02:03:34</td>     <th>  Log-Likelihood:    </th> <td> -6835.8</td> \n",
       "</tr>\n",
       "<tr>\n",
       "  <th>No. Observations:</th>      <td>  3113</td>      <th>  AIC:               </th> <td>1.369e+04</td>\n",
       "</tr>\n",
       "<tr>\n",
       "  <th>Df Residuals:</th>          <td>  3103</td>      <th>  BIC:               </th> <td>1.375e+04</td>\n",
       "</tr>\n",
       "<tr>\n",
       "  <th>Df Model:</th>              <td>     9</td>      <th>                     </th>     <td> </td>    \n",
       "</tr>\n",
       "<tr>\n",
       "  <th>Covariance Type:</th>      <td>nonrobust</td>    <th>                     </th>     <td> </td>    \n",
       "</tr>\n",
       "</table>\n",
       "<table class=\"simpletable\">\n",
       "<tr>\n",
       "         <td></td>            <th>coef</th>     <th>std err</th>      <th>t</th>      <th>P>|t|</th>  <th>[0.025</th>    <th>0.975]</th>  \n",
       "</tr>\n",
       "<tr>\n",
       "  <th>Intercept</th>       <td>    0.9987</td> <td>    0.797</td> <td>    1.253</td> <td> 0.210</td> <td>   -0.564</td> <td>    2.561</td>\n",
       "</tr>\n",
       "<tr>\n",
       "  <th>Poverty</th>         <td>    0.1039</td> <td>    0.011</td> <td>    9.864</td> <td> 0.000</td> <td>    0.083</td> <td>    0.125</td>\n",
       "</tr>\n",
       "<tr>\n",
       "  <th>No_Exercise</th>     <td>    0.0373</td> <td>    0.010</td> <td>    3.778</td> <td> 0.000</td> <td>    0.018</td> <td>    0.057</td>\n",
       "</tr>\n",
       "<tr>\n",
       "  <th>Few_Fruit_Veg</th>   <td>   -0.0183</td> <td>    0.010</td> <td>   -1.781</td> <td> 0.075</td> <td>   -0.038</td> <td>    0.002</td>\n",
       "</tr>\n",
       "<tr>\n",
       "  <th>Obesity</th>         <td>    0.1464</td> <td>    0.012</td> <td>   12.388</td> <td> 0.000</td> <td>    0.123</td> <td>    0.170</td>\n",
       "</tr>\n",
       "<tr>\n",
       "  <th>High_Blood_Pres</th> <td>    0.1049</td> <td>    0.011</td> <td>    9.129</td> <td> 0.000</td> <td>    0.082</td> <td>    0.127</td>\n",
       "</tr>\n",
       "<tr>\n",
       "  <th>Smoker</th>          <td>   -0.0163</td> <td>    0.009</td> <td>   -1.791</td> <td> 0.073</td> <td>   -0.034</td> <td>    0.002</td>\n",
       "</tr>\n",
       "<tr>\n",
       "  <th>Northeast</th>       <td>   -0.0239</td> <td>    0.173</td> <td>   -0.139</td> <td> 0.890</td> <td>   -0.363</td> <td>    0.315</td>\n",
       "</tr>\n",
       "<tr>\n",
       "  <th>South</th>           <td>    0.0993</td> <td>    0.107</td> <td>    0.924</td> <td> 0.355</td> <td>   -0.111</td> <td>    0.310</td>\n",
       "</tr>\n",
       "<tr>\n",
       "  <th>West</th>            <td>   -0.6902</td> <td>    0.140</td> <td>   -4.928</td> <td> 0.000</td> <td>   -0.965</td> <td>   -0.416</td>\n",
       "</tr>\n",
       "</table>\n",
       "<table class=\"simpletable\">\n",
       "<tr>\n",
       "  <th>Omnibus:</th>       <td>374.185</td> <th>  Durbin-Watson:     </th> <td>   1.992</td> \n",
       "</tr>\n",
       "<tr>\n",
       "  <th>Prob(Omnibus):</th> <td> 0.000</td>  <th>  Jarque-Bera (JB):  </th> <td> 920.992</td> \n",
       "</tr>\n",
       "<tr>\n",
       "  <th>Skew:</th>          <td> 0.688</td>  <th>  Prob(JB):          </th> <td>1.02e-200</td>\n",
       "</tr>\n",
       "<tr>\n",
       "  <th>Kurtosis:</th>      <td> 5.282</td>  <th>  Cond. No.          </th> <td>1.94e+03</td> \n",
       "</tr>\n",
       "</table><br/><br/>Warnings:<br/>[1] Standard Errors assume that the covariance matrix of the errors is correctly specified.<br/>[2] The condition number is large, 1.94e+03. This might indicate that there are<br/>strong multicollinearity or other numerical problems."
      ],
      "text/plain": [
       "<class 'statsmodels.iolib.summary.Summary'>\n",
       "\"\"\"\n",
       "                            OLS Regression Results                            \n",
       "==============================================================================\n",
       "Dep. Variable:               Diabetes   R-squared:                       0.308\n",
       "Model:                            OLS   Adj. R-squared:                  0.306\n",
       "Method:                 Least Squares   F-statistic:                     153.2\n",
       "Date:                Mon, 02 Dec 2019   Prob (F-statistic):          4.33e-240\n",
       "Time:                        02:03:34   Log-Likelihood:                -6835.8\n",
       "No. Observations:                3113   AIC:                         1.369e+04\n",
       "Df Residuals:                    3103   BIC:                         1.375e+04\n",
       "Df Model:                           9                                         \n",
       "Covariance Type:            nonrobust                                         \n",
       "===================================================================================\n",
       "                      coef    std err          t      P>|t|      [0.025      0.975]\n",
       "-----------------------------------------------------------------------------------\n",
       "Intercept           0.9987      0.797      1.253      0.210      -0.564       2.561\n",
       "Poverty             0.1039      0.011      9.864      0.000       0.083       0.125\n",
       "No_Exercise         0.0373      0.010      3.778      0.000       0.018       0.057\n",
       "Few_Fruit_Veg      -0.0183      0.010     -1.781      0.075      -0.038       0.002\n",
       "Obesity             0.1464      0.012     12.388      0.000       0.123       0.170\n",
       "High_Blood_Pres     0.1049      0.011      9.129      0.000       0.082       0.127\n",
       "Smoker             -0.0163      0.009     -1.791      0.073      -0.034       0.002\n",
       "Northeast          -0.0239      0.173     -0.139      0.890      -0.363       0.315\n",
       "South               0.0993      0.107      0.924      0.355      -0.111       0.310\n",
       "West               -0.6902      0.140     -4.928      0.000      -0.965      -0.416\n",
       "==============================================================================\n",
       "Omnibus:                      374.185   Durbin-Watson:                   1.992\n",
       "Prob(Omnibus):                  0.000   Jarque-Bera (JB):              920.992\n",
       "Skew:                           0.688   Prob(JB):                    1.02e-200\n",
       "Kurtosis:                       5.282   Cond. No.                     1.94e+03\n",
       "==============================================================================\n",
       "\n",
       "Warnings:\n",
       "[1] Standard Errors assume that the covariance matrix of the errors is correctly specified.\n",
       "[2] The condition number is large, 1.94e+03. This might indicate that there are\n",
       "strong multicollinearity or other numerical problems.\n",
       "\"\"\""
      ]
     },
     "execution_count": 187,
     "metadata": {},
     "output_type": "execute_result"
    }
   ],
   "source": [
    "formula = \"Diabetes ~ Poverty+No_Exercise+Few_Fruit_Veg+Obesity+High_Blood_Pres+Smoker+Northeast+South+West\"\n",
    "pcatmodel = ols(formula= formula, data=dfpcat).fit()\n",
    "pcatmodel.summary()"
   ]
  },
  {
   "cell_type": "code",
   "execution_count": null,
   "metadata": {},
   "outputs": [],
   "source": [
    "# sns.jointplot(dfp['Poverty'], dfp['Diabetes'],kind = 'reg')"
   ]
  },
  {
   "cell_type": "markdown",
   "metadata": {},
   "source": [
    "### Check if all linear regression assumptions are met"
   ]
  },
  {
   "cell_type": "code",
   "execution_count": 31,
   "metadata": {},
   "outputs": [],
   "source": [
    "# checking for Homoscedasticity\n",
    "pred_val = pcatmodel.fittedvalues.copy()\n",
    "true_val = dfpcat['Diabetes'].values.copy()\n",
    "residual = true_val - pred_val"
   ]
  },
  {
   "cell_type": "code",
   "execution_count": 32,
   "metadata": {},
   "outputs": [
    {
     "data": {
      "text/plain": [
       "<matplotlib.collections.PathCollection at 0x1c2738a160>"
      ]
     },
     "execution_count": 32,
     "metadata": {},
     "output_type": "execute_result"
    },
    {
     "data": {
      "image/png": "[encoded data removed]",
      "text/plain": [
       "<Figure size 432x180 with 1 Axes>"
      ]
     },
     "metadata": {
      "needs_background": "light"
     },
     "output_type": "display_data"
    }
   ],
   "source": [
    "fig, ax = plt.subplots(figsize=(6,2.5))\n",
    "ax.scatter(dfpcat['Diabetes'],residual)\n",
    "# Residuals are not randomly distributed "
   ]
  },
  {
   "cell_type": "code",
   "execution_count": null,
   "metadata": {},
   "outputs": [],
   "source": [
    "# Checking for normality - residuals distribution is close to normal but skewed "
   ]
  },
  {
   "cell_type": "code",
   "execution_count": 43,
   "metadata": {},
   "outputs": [
    {
     "data": {
      "text/plain": [
       "<matplotlib.axes._subplots.AxesSubplot at 0x1c2bb421d0>"
      ]
     },
     "execution_count": 43,
     "metadata": {},
     "output_type": "execute_result"
    },
    {
     "data": {
      "image/png": "[encoded data removed]",
      "text/plain": [
       "<Figure size 432x288 with 1 Axes>"
      ]
     },
     "metadata": {},
     "output_type": "display_data"
    }
   ],
   "source": [
    "residual.hist(bins=50)"
   ]
  },
  {
   "cell_type": "code",
   "execution_count": 33,
   "metadata": {},
   "outputs": [
    {
     "data": {
      "text/plain": [
       "0.9523990893322951"
      ]
     },
     "execution_count": 33,
     "metadata": {},
     "output_type": "execute_result"
    },
    {
     "data": {
      "image/png": "[encoded data removed]",
      "text/plain": [
       "<Figure size 432x180 with 1 Axes>"
      ]
     },
     "metadata": {
      "needs_background": "light"
     },
     "output_type": "display_data"
    }
   ],
   "source": [
    "import scipy as sp\n",
    "fig, ax = plt.subplots(figsize=(6,2.5))\n",
    "sp.stats.probplot(residual, plot=ax, fit=True)\n",
    "residual**2\n",
    "0.9523990893322951"
   ]
  },
  {
   "cell_type": "code",
   "execution_count": 46,
   "metadata": {},
   "outputs": [
    {
     "data": {
      "text/plain": [
       "array([[<matplotlib.axes._subplots.AxesSubplot object at 0x1c2d4ea198>,\n",
       "        <matplotlib.axes._subplots.AxesSubplot object at 0x1c2d63e550>,\n",
       "        <matplotlib.axes._subplots.AxesSubplot object at 0x1c2d6b4438>],\n",
       "       [<matplotlib.axes._subplots.AxesSubplot object at 0x1c2d6e39e8>,\n",
       "        <matplotlib.axes._subplots.AxesSubplot object at 0x1c2d714f98>,\n",
       "        <matplotlib.axes._subplots.AxesSubplot object at 0x1c2d750588>],\n",
       "       [<matplotlib.axes._subplots.AxesSubplot object at 0x1c2ae15438>,\n",
       "        <matplotlib.axes._subplots.AxesSubplot object at 0x1c2b3aa438>,\n",
       "        <matplotlib.axes._subplots.AxesSubplot object at 0x1c2b3aa1d0>]],\n",
       "      dtype=object)"
      ]
     },
     "execution_count": 46,
     "metadata": {},
     "output_type": "execute_result"
    },
    {
     "data": {
      "image/png": "[encoded data removed]",
      "text/plain": [
       "<Figure size 504x504 with 9 Axes>"
      ]
     },
     "metadata": {},
     "output_type": "display_data"
    }
   ],
   "source": [
    "# Check independent variable distributions\n",
    "dfp.hist(bins=40, figsize=[7,7])"
   ]
  },
  {
   "cell_type": "code",
   "execution_count": 183,
   "metadata": {},
   "outputs": [],
   "source": [
    "dfpcat_log = dfpcat.copy(deep=True)"
   ]
  },
  {
   "cell_type": "code",
   "execution_count": 184,
   "metadata": {},
   "outputs": [
    {
     "data": {
      "text/plain": [
       "['Poverty',\n",
       " 'No_Exercise',\n",
       " 'Few_Fruit_Veg',\n",
       " 'Obesity',\n",
       " 'High_Blood_Pres',\n",
       " 'Smoker']"
      ]
     },
     "execution_count": 184,
     "metadata": {},
     "output_type": "execute_result"
    }
   ],
   "source": [
    "log_list"
   ]
  },
  {
   "cell_type": "markdown",
   "metadata": {},
   "source": [
    "#### Log transformations"
   ]
  },
  {
   "cell_type": "code",
   "execution_count": 185,
   "metadata": {},
   "outputs": [
    {
     "name": "stdout",
     "output_type": "stream",
     "text": [
      "Poverty:0\n",
      "No_Exercise:0\n",
      "Few_Fruit_Veg:0\n",
      "High_Blood_Pres:0\n",
      "Smoker:0\n"
     ]
    },
    {
     "data": {
      "text/plain": [
       "array([[<matplotlib.axes._subplots.AxesSubplot object at 0x1c2ee14cf8>,\n",
       "        <matplotlib.axes._subplots.AxesSubplot object at 0x1c2ee1cc50>,\n",
       "        <matplotlib.axes._subplots.AxesSubplot object at 0x1c2ee32128>],\n",
       "       [<matplotlib.axes._subplots.AxesSubplot object at 0x1c2ef126d8>,\n",
       "        <matplotlib.axes._subplots.AxesSubplot object at 0x1c2ef45c88>,\n",
       "        <matplotlib.axes._subplots.AxesSubplot object at 0x1c2ef81278>],\n",
       "       [<matplotlib.axes._subplots.AxesSubplot object at 0x1c2efb07f0>,\n",
       "        <matplotlib.axes._subplots.AxesSubplot object at 0x1c2efe4dd8>,\n",
       "        <matplotlib.axes._subplots.AxesSubplot object at 0x1c2efe4e10>],\n",
       "       [<matplotlib.axes._subplots.AxesSubplot object at 0x1c2f050940>,\n",
       "        <matplotlib.axes._subplots.AxesSubplot object at 0x1c2f083ef0>,\n",
       "        <matplotlib.axes._subplots.AxesSubplot object at 0x1c2f0bf4e0>]],\n",
       "      dtype=object)"
      ]
     },
     "execution_count": 185,
     "metadata": {},
     "output_type": "execute_result"
    },
    {
     "data": {
      "image/png": "[encoded data removed]",
      "text/plain": [
       "<Figure size 504x504 with 12 Axes>"
      ]
     },
     "metadata": {},
     "output_type": "display_data"
    }
   ],
   "source": [
    "# Transform the variables to see how it affects the model\n",
    "log_list = ['Poverty', 'No_Exercise', 'Few_Fruit_Veg',\n",
    "        'High_Blood_Pres', 'Smoker']\n",
    "for col in log_list:\n",
    "    print(f'{col}:{(dfpcat_log[col] == 0).sum()}')\n",
    "    dfpcat_log[col] = np.log(dfpcat_log[col])\n",
    "dfpcat_log.hist(bins=40, figsize=[7,7])\n",
    "# dfp_log['Poverty'] = np.log(dfp_log['Poverty'])\n",
    "# dfpcat_log['High_Blood_Pres'] = np.log(dfpcat_log['High_Blood_Pres'])"
   ]
  },
  {
   "cell_type": "code",
   "execution_count": 188,
   "metadata": {},
   "outputs": [
    {
     "data": {
      "text/html": [
       "<table class=\"simpletable\">\n",
       "<caption>OLS Regression Results</caption>\n",
       "<tr>\n",
       "  <th>Dep. Variable:</th>        <td>Diabetes</td>     <th>  R-squared:         </th> <td>   0.311</td> \n",
       "</tr>\n",
       "<tr>\n",
       "  <th>Model:</th>                   <td>OLS</td>       <th>  Adj. R-squared:    </th> <td>   0.309</td> \n",
       "</tr>\n",
       "<tr>\n",
       "  <th>Method:</th>             <td>Least Squares</td>  <th>  F-statistic:       </th> <td>   155.5</td> \n",
       "</tr>\n",
       "<tr>\n",
       "  <th>Date:</th>             <td>Mon, 02 Dec 2019</td> <th>  Prob (F-statistic):</th> <td>3.30e-243</td>\n",
       "</tr>\n",
       "<tr>\n",
       "  <th>Time:</th>                 <td>02:03:52</td>     <th>  Log-Likelihood:    </th> <td> -6828.6</td> \n",
       "</tr>\n",
       "<tr>\n",
       "  <th>No. Observations:</th>      <td>  3113</td>      <th>  AIC:               </th> <td>1.368e+04</td>\n",
       "</tr>\n",
       "<tr>\n",
       "  <th>Df Residuals:</th>          <td>  3103</td>      <th>  BIC:               </th> <td>1.374e+04</td>\n",
       "</tr>\n",
       "<tr>\n",
       "  <th>Df Model:</th>              <td>     9</td>      <th>                     </th>     <td> </td>    \n",
       "</tr>\n",
       "<tr>\n",
       "  <th>Covariance Type:</th>      <td>nonrobust</td>    <th>                     </th>     <td> </td>    \n",
       "</tr>\n",
       "</table>\n",
       "<table class=\"simpletable\">\n",
       "<tr>\n",
       "         <td></td>            <th>coef</th>     <th>std err</th>      <th>t</th>      <th>P>|t|</th>  <th>[0.025</th>    <th>0.975]</th>  \n",
       "</tr>\n",
       "<tr>\n",
       "  <th>Intercept</th>       <td>   -3.5721</td> <td>    3.474</td> <td>   -1.028</td> <td> 0.304</td> <td>  -10.384</td> <td>    3.240</td>\n",
       "</tr>\n",
       "<tr>\n",
       "  <th>Poverty</th>         <td>    1.4231</td> <td>    0.142</td> <td>   10.008</td> <td> 0.000</td> <td>    1.144</td> <td>    1.702</td>\n",
       "</tr>\n",
       "<tr>\n",
       "  <th>No_Exercise</th>     <td>    0.9503</td> <td>    0.248</td> <td>    3.827</td> <td> 0.000</td> <td>    0.463</td> <td>    1.437</td>\n",
       "</tr>\n",
       "<tr>\n",
       "  <th>Few_Fruit_Veg</th>   <td>   -1.4255</td> <td>    0.804</td> <td>   -1.774</td> <td> 0.076</td> <td>   -3.001</td> <td>    0.150</td>\n",
       "</tr>\n",
       "<tr>\n",
       "  <th>Obesity</th>         <td>    0.1437</td> <td>    0.012</td> <td>   12.159</td> <td> 0.000</td> <td>    0.121</td> <td>    0.167</td>\n",
       "</tr>\n",
       "<tr>\n",
       "  <th>High_Blood_Pres</th> <td>    2.6086</td> <td>    0.297</td> <td>    8.778</td> <td> 0.000</td> <td>    2.026</td> <td>    3.191</td>\n",
       "</tr>\n",
       "<tr>\n",
       "  <th>Smoker</th>          <td>   -0.3222</td> <td>    0.189</td> <td>   -1.702</td> <td> 0.089</td> <td>   -0.693</td> <td>    0.049</td>\n",
       "</tr>\n",
       "<tr>\n",
       "  <th>Northeast</th>       <td>   -0.0276</td> <td>    0.173</td> <td>   -0.160</td> <td> 0.873</td> <td>   -0.367</td> <td>    0.311</td>\n",
       "</tr>\n",
       "<tr>\n",
       "  <th>South</th>           <td>    0.1106</td> <td>    0.106</td> <td>    1.041</td> <td> 0.298</td> <td>   -0.098</td> <td>    0.319</td>\n",
       "</tr>\n",
       "<tr>\n",
       "  <th>West</th>            <td>   -0.6914</td> <td>    0.142</td> <td>   -4.853</td> <td> 0.000</td> <td>   -0.971</td> <td>   -0.412</td>\n",
       "</tr>\n",
       "</table>\n",
       "<table class=\"simpletable\">\n",
       "<tr>\n",
       "  <th>Omnibus:</th>       <td>368.830</td> <th>  Durbin-Watson:     </th> <td>   1.998</td> \n",
       "</tr>\n",
       "<tr>\n",
       "  <th>Prob(Omnibus):</th> <td> 0.000</td>  <th>  Jarque-Bera (JB):  </th> <td> 904.327</td> \n",
       "</tr>\n",
       "<tr>\n",
       "  <th>Skew:</th>          <td> 0.681</td>  <th>  Prob(JB):          </th> <td>4.25e-197</td>\n",
       "</tr>\n",
       "<tr>\n",
       "  <th>Kurtosis:</th>      <td> 5.263</td>  <th>  Cond. No.          </th> <td>2.34e+03</td> \n",
       "</tr>\n",
       "</table><br/><br/>Warnings:<br/>[1] Standard Errors assume that the covariance matrix of the errors is correctly specified.<br/>[2] The condition number is large, 2.34e+03. This might indicate that there are<br/>strong multicollinearity or other numerical problems."
      ],
      "text/plain": [
       "<class 'statsmodels.iolib.summary.Summary'>\n",
       "\"\"\"\n",
       "                            OLS Regression Results                            \n",
       "==============================================================================\n",
       "Dep. Variable:               Diabetes   R-squared:                       0.311\n",
       "Model:                            OLS   Adj. R-squared:                  0.309\n",
       "Method:                 Least Squares   F-statistic:                     155.5\n",
       "Date:                Mon, 02 Dec 2019   Prob (F-statistic):          3.30e-243\n",
       "Time:                        02:03:52   Log-Likelihood:                -6828.6\n",
       "No. Observations:                3113   AIC:                         1.368e+04\n",
       "Df Residuals:                    3103   BIC:                         1.374e+04\n",
       "Df Model:                           9                                         \n",
       "Covariance Type:            nonrobust                                         \n",
       "===================================================================================\n",
       "                      coef    std err          t      P>|t|      [0.025      0.975]\n",
       "-----------------------------------------------------------------------------------\n",
       "Intercept          -3.5721      3.474     -1.028      0.304     -10.384       3.240\n",
       "Poverty             1.4231      0.142     10.008      0.000       1.144       1.702\n",
       "No_Exercise         0.9503      0.248      3.827      0.000       0.463       1.437\n",
       "Few_Fruit_Veg      -1.4255      0.804     -1.774      0.076      -3.001       0.150\n",
       "Obesity             0.1437      0.012     12.159      0.000       0.121       0.167\n",
       "High_Blood_Pres     2.6086      0.297      8.778      0.000       2.026       3.191\n",
       "Smoker             -0.3222      0.189     -1.702      0.089      -0.693       0.049\n",
       "Northeast          -0.0276      0.173     -0.160      0.873      -0.367       0.311\n",
       "South               0.1106      0.106      1.041      0.298      -0.098       0.319\n",
       "West               -0.6914      0.142     -4.853      0.000      -0.971      -0.412\n",
       "==============================================================================\n",
       "Omnibus:                      368.830   Durbin-Watson:                   1.998\n",
       "Prob(Omnibus):                  0.000   Jarque-Bera (JB):              904.327\n",
       "Skew:                           0.681   Prob(JB):                    4.25e-197\n",
       "Kurtosis:                       5.263   Cond. No.                     2.34e+03\n",
       "==============================================================================\n",
       "\n",
       "Warnings:\n",
       "[1] Standard Errors assume that the covariance matrix of the errors is correctly specified.\n",
       "[2] The condition number is large, 2.34e+03. This might indicate that there are\n",
       "strong multicollinearity or other numerical problems.\n",
       "\"\"\""
      ]
     },
     "execution_count": 188,
     "metadata": {},
     "output_type": "execute_result"
    }
   ],
   "source": [
    "formula = \"Diabetes ~ Poverty+No_Exercise+Few_Fruit_Veg+Obesity+High_Blood_Pres+Smoker+Northeast+South+West\"\n",
    "pcat_log_model = ols(formula= formula, data=dfpcat_log ).fit()\n",
    "pcat_log_model.summary()"
   ]
  },
  {
   "cell_type": "markdown",
   "metadata": {},
   "source": [
    "## Check for multicollinearity"
   ]
  },
  {
   "cell_type": "code",
   "execution_count": null,
   "metadata": {},
   "outputs": [],
   "source": [
    "pd.plotting.scatter_matrix(dfp, figsize = [12,12])\n",
    "plt.show()"
   ]
  },
  {
   "cell_type": "code",
   "execution_count": null,
   "metadata": {},
   "outputs": [],
   "source": [
    "dfp.corr()"
   ]
  },
  {
   "cell_type": "code",
   "execution_count": null,
   "metadata": {},
   "outputs": [],
   "source": [
    "sns.heatmap(dfp.corr(), center=0);"
   ]
  },
  {
   "cell_type": "markdown",
   "metadata": {},
   "source": [
    "#### Perform a test split"
   ]
  },
  {
   "cell_type": "code",
   "execution_count": 111,
   "metadata": {},
   "outputs": [],
   "source": [
    "from sklearn.model_selection import train_test_split\n",
    "import sklearn.metrics as metrics\n",
    "from sklearn.linear_model import LinearRegression\n",
    "from sklearn.model_selection import cross_val_score"
   ]
  },
  {
   "cell_type": "code",
   "execution_count": 77,
   "metadata": {},
   "outputs": [],
   "source": [
    "# y = dfp['Diabetes']\n",
    "# X = dfp[[ 'Poverty', 'No_Exercise', 'Few_Fruit_Veg', 'Obesity', 'High_Blood_Pres', 'Smoker']]"
   ]
  },
  {
   "cell_type": "code",
   "execution_count": 115,
   "metadata": {},
   "outputs": [],
   "source": [
    "y = dfpcat['Diabetes']\n",
    "X = dfpcat[[ 'Poverty', 'No_Exercise', 'Few_Fruit_Veg', 'Obesity', 'High_Blood_Pres', 'Smoker','Northeast','South','West']]\n"
   ]
  },
  {
   "cell_type": "code",
   "execution_count": 116,
   "metadata": {},
   "outputs": [],
   "source": [
    "X_train, X_test, y_train, y_test = train_test_split(X, y)"
   ]
  },
  {
   "cell_type": "code",
   "execution_count": 117,
   "metadata": {},
   "outputs": [
    {
     "name": "stdout",
     "output_type": "stream",
     "text": [
      "2334 779 2334 779\n"
     ]
    }
   ],
   "source": [
    "print(len(X_train), len(X_test), len(y_train), len(y_test))"
   ]
  },
  {
   "cell_type": "code",
   "execution_count": 118,
   "metadata": {},
   "outputs": [
    {
     "data": {
      "text/plain": [
       "LinearRegression(copy_X=True, fit_intercept=True, n_jobs=None, normalize=False)"
      ]
     },
     "execution_count": 118,
     "metadata": {},
     "output_type": "execute_result"
    }
   ],
   "source": [
    "# linreg = LinearRegression()\n",
    "# linreg.fit(X_train, y_train)"
   ]
  },
  {
   "cell_type": "code",
   "execution_count": 119,
   "metadata": {},
   "outputs": [
    {
     "name": "stdout",
     "output_type": "stream",
     "text": [
      "Train Mean Squarred Error: 4.866463918777828\n",
      "Training r^2: 0.29794981355571004\n",
      "Test Mean Squarred Error: 4.337360756018332\n",
      "Test r^2: 0.3307590601079671\n"
     ]
    }
   ],
   "source": [
    "# # Calculate predictions on training and test sets\n",
    "# y_hat_train = linreg.predict(X_train)\n",
    "# y_hat_test = linreg.predict(X_test)\n",
    "# # Calculate training and test residuals\n",
    "# train_residuals = y_hat_train - y_train\n",
    "# test_residuals = y_hat_test - y_test\n",
    "# # Calculate the Mean Squared Error (MSE)\n",
    "# train_mse = metrics.mean_squared_error(y_train, y_hat_train)\n",
    "# test_mse = metrics.mean_squared_error(y_test, y_hat_test)\n",
    "# print('Train Mean Squarred Error:', train_mse)\n",
    "# print('Training r^2:', linreg.score(X_train, y_train))\n",
    "# print('Test Mean Squarred Error:', test_mse)\n",
    "# print('Test r^2:', linreg.score(X_test, y_test))"
   ]
  },
  {
   "cell_type": "code",
   "execution_count": 120,
   "metadata": {},
   "outputs": [
    {
     "data": {
      "text/plain": [
       "array([-5.17036651, -4.88576353, -5.17081384, -5.18225237, -5.06858038,\n",
       "       -3.89543232, -5.84288214, -4.20810592, -3.6102694 , -5.2420793 ])"
      ]
     },
     "execution_count": 120,
     "metadata": {},
     "output_type": "execute_result"
    }
   ],
   "source": [
    "# # perform a k-fold cross-validation\n",
    "# cv_10 = cross_val_score(linreg, X, y, cv=10, scoring='neg_mean_squared_error')\n",
    "# cv_10"
   ]
  },
  {
   "cell_type": "code",
   "execution_count": 121,
   "metadata": {},
   "outputs": [
    {
     "data": {
      "text/plain": [
       "array([0.44716136, 0.24303098, 0.13503192, 0.06249144, 0.34580353,\n",
       "       0.2799835 , 0.20554068, 0.30721855, 0.25414537, 0.36689751])"
      ]
     },
     "execution_count": 121,
     "metadata": {},
     "output_type": "execute_result"
    }
   ],
   "source": [
    "# cv_10_r2 = cross_val_score(linreg, X, y, cv=10, scoring='r2')\n",
    "# cv_10_r2"
   ]
  },
  {
   "cell_type": "markdown",
   "metadata": {},
   "source": [
    "#### Perform a k-fold cross-validation"
   ]
  },
  {
   "cell_type": "code",
   "execution_count": 122,
   "metadata": {},
   "outputs": [],
   "source": [
    "from sklearn.model_selection import KFold"
   ]
  },
  {
   "cell_type": "code",
   "execution_count": 152,
   "metadata": {},
   "outputs": [],
   "source": [
    "kfold = KFold(10, True)\n",
    "b_model = LinearRegression()"
   ]
  },
  {
   "cell_type": "code",
   "execution_count": 158,
   "metadata": {},
   "outputs": [
    {
     "name": "stdout",
     "output_type": "stream",
     "text": [
      " R-squared of the model (mean of 10-fold cross-validation): 0.30294522838879195\n"
     ]
    },
    {
     "data": {
      "text/plain": [
       "array([0.25694141, 0.27605558, 0.39152669, 0.3015339 , 0.29976963,\n",
       "       0.33253906, 0.32504269, 0.2567632 , 0.31256946, 0.27671066])"
      ]
     },
     "execution_count": 158,
     "metadata": {},
     "output_type": "execute_result"
    }
   ],
   "source": [
    "cv_10_cv_r2 = cross_val_score(b_model, X, y, scoring='r2', cv=kfold)\n",
    "print(f' R-squared of the model (mean of 10-fold cross-validation): {cv_10_cv_r2.mean()}')\n",
    "baseline = cv_10_cv_r2.mean()\n",
    "cv_10_cv_r2"
   ]
  },
  {
   "cell_type": "code",
   "execution_count": 159,
   "metadata": {},
   "outputs": [
    {
     "name": "stdout",
     "output_type": "stream",
     "text": [
      " MSE of the model (mean of 10-fold cross-validation): -4.770525761730887\n"
     ]
    },
    {
     "data": {
      "text/plain": [
       "array([-3.95810479, -5.1390288 , -4.44759467, -4.14236163, -4.578035  ,\n",
       "       -4.51342553, -4.42781207, -4.54772696, -5.42375295, -6.52741522])"
      ]
     },
     "execution_count": 159,
     "metadata": {},
     "output_type": "execute_result"
    }
   ],
   "source": [
    "cv_10_cv_mse = cross_val_score(b_model, X, y, scoring='neg_mean_squared_error', cv=kfold)\n",
    "print(f' MSE of the model (mean of 10-fold cross-validation): {cv_10_cv_mse.mean()}')\n",
    "cv_10_cv_mse"
   ]
  },
  {
   "cell_type": "markdown",
   "metadata": {},
   "source": [
    "### Check for interactions"
   ]
  },
  {
   "cell_type": "code",
   "execution_count": 144,
   "metadata": {},
   "outputs": [
    {
     "data": {
      "text/plain": [
       "Index(['County_index', 'Poverty', 'No_Exercise', 'Few_Fruit_Veg', 'Obesity',\n",
       "       'High_Blood_Pres', 'Smoker', 'Diabetes', 'Northeast', 'South', 'West'],\n",
       "      dtype='object')"
      ]
     },
     "execution_count": 144,
     "metadata": {},
     "output_type": "execute_result"
    }
   ],
   "source": [
    "dfpcat.columns"
   ]
  },
  {
   "cell_type": "code",
   "execution_count": 161,
   "metadata": {},
   "outputs": [],
   "source": [
    "X_int = X.copy(deep=True)"
   ]
  },
  {
   "cell_type": "code",
   "execution_count": 163,
   "metadata": {},
   "outputs": [
    {
     "name": "stdout",
     "output_type": "stream",
     "text": [
      "Top 7 interactions: [('No_Exercise', 'High_Blood_Pres', 0.306), ('Obesity', 'High_Blood_Pres', 0.306), ('No_Exercise', 'Few_Fruit_Veg', 0.304), ('No_Exercise', 'Obesity', 0.304), ('No_Exercise', 'Smoker', 0.304), ('Few_Fruit_Veg', 'High_Blood_Pres', 0.304), ('Smoker', 'South', 0.304)]\n"
     ]
    }
   ],
   "source": [
    "from itertools import combinations\n",
    "combinations = list(combinations(X_int.columns.values, 2))\n",
    "\n",
    "interactions = []\n",
    "for comb in combinations:\n",
    "    X_int['interaction'] = X_int[comb[0]] * X_int[comb[1]]\n",
    "    score = np.mean(cross_val_score(b_model, X_int, y, scoring='r2', cv=kfold))\n",
    "    if score > baseline:\n",
    "        interactions.append((comb[0], comb[1], round(score, 3)))\n",
    "            \n",
    "print('Top 7 interactions: %s' %sorted(interactions, key=lambda inter: inter[2], reverse=True)[:7])"
   ]
  },
  {
   "cell_type": "code",
   "execution_count": 91,
   "metadata": {},
   "outputs": [
    {
     "data": {
      "text/plain": [
       "LinearRegression(copy_X=True, fit_intercept=True, n_jobs=None, normalize=False)"
      ]
     },
     "execution_count": 91,
     "metadata": {},
     "output_type": "execute_result"
    }
   ],
   "source": [
    "model = LinearRegression()\n",
    "model.fit(X,y)"
   ]
  },
  {
   "cell_type": "code",
   "execution_count": 92,
   "metadata": {},
   "outputs": [],
   "source": [
    "y_pred = model.predict(X)"
   ]
  },
  {
   "cell_type": "code",
   "execution_count": 94,
   "metadata": {},
   "outputs": [
    {
     "data": {
      "text/plain": [
       "0.3075918340110265"
      ]
     },
     "execution_count": 94,
     "metadata": {},
     "output_type": "execute_result"
    }
   ],
   "source": [
    "metrics.r2_score(y, y_pred)"
   ]
  },
  {
   "cell_type": "code",
   "execution_count": 93,
   "metadata": {},
   "outputs": [],
   "source": [
    "def regression_results(y_true, y_pred):\n",
    "\n",
    "    # Regression metrics\n",
    "    explained_variance=metrics.explained_variance_score(y_true, y_pred)\n",
    "    mean_absolute_error=metrics.mean_absolute_error(y_true, y_pred) \n",
    "    mse=metrics.mean_squared_error(y_true, y_pred) \n",
    "    mean_squared_log_error=metrics.mean_squared_log_error(y_true, y_pred)\n",
    "    median_absolute_error=metrics.median_absolute_error(y_true, y_pred)\n",
    "    r2=metrics.r2_score(y_true, y_pred)\n",
    "\n",
    "    print('explained_variance: ', round(explained_variance,4))    \n",
    "    print('mean_squared_log_error: ', round(mean_squared_log_error,4))\n",
    "    print('r2: ', round(r2,4))\n",
    "    print('MAE: ', round(mean_absolute_error,4))\n",
    "    print('MSE: ', round(mse,4))\n",
    "    print('RMSE: ', round(np.sqrt(mse),4))"
   ]
  },
  {
   "cell_type": "code",
   "execution_count": 90,
   "metadata": {},
   "outputs": [
    {
     "name": "stdout",
     "output_type": "stream",
     "text": [
      "explained_variance:  0.3068\n",
      "mean_squared_log_error:  0.0679\n",
      "r2:  0.3067\n",
      "MAE:  1.5684\n",
      "MSE:  4.7364\n",
      "RMSE:  2.1763\n"
     ]
    }
   ],
   "source": [
    "regression_results(y, y_pred)"
   ]
  },
  {
   "cell_type": "code",
   "execution_count": 95,
   "metadata": {},
   "outputs": [
    {
     "name": "stdout",
     "output_type": "stream",
     "text": [
      "explained_variance:  0.3076\n",
      "mean_squared_log_error:  0.0675\n",
      "r2:  0.3076\n",
      "MAE:  1.5629\n",
      "MSE:  4.73\n",
      "RMSE:  2.1749\n"
     ]
    }
   ],
   "source": [
    "regression_results(y, y_pred)"
   ]
  },
  {
   "cell_type": "code",
   "execution_count": null,
   "metadata": {},
   "outputs": [],
   "source": []
  },
  {
   "cell_type": "code",
   "execution_count": 189,
   "metadata": {},
   "outputs": [],
   "source": [
    "y_log = dfpcat_log['Diabetes']\n",
    "X_log = dfpcat_log[[ 'Poverty', 'No_Exercise', 'Few_Fruit_Veg', 'Obesity', 'High_Blood_Pres', 'Smoker','Northeast','South','West']]\n"
   ]
  },
  {
   "cell_type": "code",
   "execution_count": 190,
   "metadata": {},
   "outputs": [
    {
     "name": "stdout",
     "output_type": "stream",
     "text": [
      " R-squared of the model (mean of 10-fold cross-validation): 0.3025205033932109\n"
     ]
    },
    {
     "data": {
      "text/plain": [
       "array([0.25694141, 0.27605558, 0.39152669, 0.3015339 , 0.29976963,\n",
       "       0.33253906, 0.32504269, 0.2567632 , 0.31256946, 0.27671066])"
      ]
     },
     "execution_count": 190,
     "metadata": {},
     "output_type": "execute_result"
    }
   ],
   "source": [
    "# kfold = KFold(10, True)\n",
    "# b_model = LinearRegression()\n",
    "\n",
    "cv_10_cv_r2_log = cross_val_score(b_model, X_log, y_log, scoring='r2', cv=kfold)\n",
    "print(f' R-squared of the model (mean of 10-fold cross-validation): {cv_10_cv_r2_log.mean()}')\n",
    "baseline_log = cv_10_cv_r2.mean()\n",
    "cv_10_cv_r2"
   ]
  },
  {
   "cell_type": "code",
   "execution_count": 191,
   "metadata": {},
   "outputs": [
    {
     "name": "stdout",
     "output_type": "stream",
     "text": [
      " MSE of the model (mean of 10-fold cross-validation): -4.737566133904944\n"
     ]
    },
    {
     "data": {
      "text/plain": [
       "array([-3.95810479, -5.1390288 , -4.44759467, -4.14236163, -4.578035  ,\n",
       "       -4.51342553, -4.42781207, -4.54772696, -5.42375295, -6.52741522])"
      ]
     },
     "execution_count": 191,
     "metadata": {},
     "output_type": "execute_result"
    }
   ],
   "source": [
    "cv_10_cv_mse_log = cross_val_score(b_model, X_log, y_log, scoring='neg_mean_squared_error', cv=kfold)\n",
    "print(f' MSE of the model (mean of 10-fold cross-validation): {cv_10_cv_mse_log.mean()}')\n",
    "cv_10_cv_mse"
   ]
  },
  {
   "cell_type": "markdown",
   "metadata": {},
   "source": [
    "Uninsured and Poverty are correlated, so for now we will drop uninsured"
   ]
  },
  {
   "cell_type": "code",
   "execution_count": null,
   "metadata": {},
   "outputs": [],
   "source": [
    "df_X = df_X.drop('Uninsured', axis=1)"
   ]
  },
  {
   "cell_type": "code",
   "execution_count": null,
   "metadata": {},
   "outputs": [],
   "source": [
    "formula2 = \"Diabetes ~ Poverty+No_Exercise+Few_Fruit_Veg+Obesity+High_Blood_Pres+Smoker\"\n",
    "model2 = ols(formula= formula2, data=main_df).fit()"
   ]
  },
  {
   "cell_type": "code",
   "execution_count": null,
   "metadata": {},
   "outputs": [],
   "source": [
    "model2.summary()"
   ]
  },
  {
   "cell_type": "markdown",
   "metadata": {},
   "source": [
    "## Scaling / Normalization / Standardization"
   ]
  },
  {
   "cell_type": "code",
   "execution_count": null,
   "metadata": {},
   "outputs": [],
   "source": [
    "df_X_copy = df_X.copy(deep=True)"
   ]
  },
  {
   "cell_type": "markdown",
   "metadata": {},
   "source": [
    "Converting the values to proportions earlier took care of outliers and the distributions are pretty normal but still cound be made better with log transform"
   ]
  },
  {
   "cell_type": "code",
   "execution_count": null,
   "metadata": {},
   "outputs": [],
   "source": [
    "df_X['Poverty'] = df_X['Poverty'].map(lambda x: np.log(x))"
   ]
  },
  {
   "cell_type": "code",
   "execution_count": null,
   "metadata": {},
   "outputs": [],
   "source": [
    "df_X['No_Exercise'] = df_X['No_Exercise'].map(lambda x: np.log(x))"
   ]
  },
  {
   "cell_type": "code",
   "execution_count": null,
   "metadata": {},
   "outputs": [],
   "source": [
    "df_X['Few_Fruit_Veg'] = df_X['Few_Fruit_Veg'].map(lambda x: np.log(x))"
   ]
  },
  {
   "cell_type": "code",
   "execution_count": null,
   "metadata": {},
   "outputs": [],
   "source": [
    "df_X['Obesity'] = df_X['Obesity'].map(lambda x: np.log(x))"
   ]
  },
  {
   "cell_type": "code",
   "execution_count": null,
   "metadata": {},
   "outputs": [],
   "source": [
    "df_X['High_Blood_Pres'] = df_X['High_Blood_Pres'].map(lambda x: np.log(x))"
   ]
  },
  {
   "cell_type": "code",
   "execution_count": null,
   "metadata": {},
   "outputs": [],
   "source": [
    "df_X['Smoker'] = df_X['Smoker'].map(lambda x: np.log(x))"
   ]
  },
  {
   "cell_type": "code",
   "execution_count": null,
   "metadata": {},
   "outputs": [],
   "source": [
    "# for col in df_X.columns:\n",
    "pd.plotting.scatter_matrix(df_X, figsize=(10,12));"
   ]
  },
  {
   "cell_type": "code",
   "execution_count": null,
   "metadata": {},
   "outputs": [],
   "source": [
    "logged_df = pd.concat([df_Y, df_X], axis=1)"
   ]
  },
  {
   "cell_type": "code",
   "execution_count": null,
   "metadata": {},
   "outputs": [],
   "source": [
    "model3 = ols(formula= formula2, data=logged_df).fit()\n",
    "model3.summary()"
   ]
  },
  {
   "cell_type": "code",
   "execution_count": null,
   "metadata": {},
   "outputs": [],
   "source": [
    "residuals = model.resid\n",
    "fig = sm.graphics.qqplot(residuals, dist=stats.norm, line='45', fit=True)\n",
    "fig.show()"
   ]
  },
  {
   "cell_type": "code",
   "execution_count": null,
   "metadata": {},
   "outputs": [],
   "source": [
    "fig = plt.figure(figsize=(15,8))\n",
    "fig = sm.graphics.plot_regress_exog(model, \"Obesity\", fig=fig)\n",
    "plt.show()"
   ]
  },
  {
   "cell_type": "code",
   "execution_count": null,
   "metadata": {},
   "outputs": [],
   "source": [
    "from sklearn.preprocessing import StandardScaler\n",
    "\n",
    "ss = StandardScaler()\n",
    "transformed = scale.fit_transform(df_X)\n",
    "X = pd.DataFrame(transformed, columns = df_X.columns)"
   ]
  },
  {
   "cell_type": "code",
   "execution_count": null,
   "metadata": {},
   "outputs": [],
   "source": [
    "log_scale_df = pd.concat([df_Y, X], axis=1)"
   ]
  },
  {
   "cell_type": "code",
   "execution_count": null,
   "metadata": {},
   "outputs": [],
   "source": [
    "model4 = ols(formula= formula2, data=log_scale_df).fit()\n",
    "model4.summary()"
   ]
  },
  {
   "cell_type": "code",
   "execution_count": null,
   "metadata": {},
   "outputs": [],
   "source": [
    "scale = MinMaxScaler()\n",
    "transformed = scale.fit_transform(X)\n",
    "X = pd.DataFrame(transformed, columns = df_X.columns)"
   ]
  },
  {
   "cell_type": "code",
   "execution_count": null,
   "metadata": {},
   "outputs": [],
   "source": [
    "# implementation \n",
    "from sklearn.linear_model import LinearRegression\n",
    "from sklearn.preprocessing import MinMaxScaler\n",
    "from sklearn.linear_model import Lasso, Ridge, LinearRegression\n",
    "from sklearn.model_selection import train_test_split\n",
    "import pandas as pd\n",
    "import numpy as np\n",
    "import matplotlib.pyplot as plt\n",
    "import seaborn as sns\n",
    "\n",
    "\n",
    "#data = pd.read_csv(\"https://raw.githubusercontent.com/learn-co-curriculum/dsc-2-24-09-ridge-and-lasso-regression/master/auto-mpg.csv\") \n",
    "data = risk_df.sample(50)\n",
    "data.isna()\n",
    "y = df_Y.as_matrix()\n",
    "X = X.as_matrix()\n"
   ]
  },
  {
   "cell_type": "code",
   "execution_count": null,
   "metadata": {},
   "outputs": [],
   "source": [
    " # Perform t`est train split\n",
    "X_train , X_test, y_train, y_test = train_test_split(X, y, test_size=0.2, random_state=12)\n",
    "\n",
    "# Build a Ridge, Lasso and regular linear regression model. \n",
    "# Note how in scikit learn, the regularization parameter is denoted by alpha (and not lambda)\n",
    "ridge = Ridge(alpha=.5)\n",
    "ridge.fit(X_train, y_train)\n",
    "\n",
    "lasso = Lasso(alpha=.5)\n",
    "lasso.fit(X_train, y_train)\n",
    "\n",
    "lin = LinearRegression()\n",
    "lin.fit(X_train, y_train)"
   ]
  },
  {
   "cell_type": "code",
   "execution_count": null,
   "metadata": {},
   "outputs": [],
   "source": [
    "print(\"Unpenalized Linear Regression Coefficients are:{}\".format(lin.coef_))\n",
    "print(\"Unpenalized Linear Regression Intercept:{}\".format(lin.intercept_))"
   ]
  },
  {
   "cell_type": "code",
   "execution_count": null,
   "metadata": {},
   "outputs": [],
   "source": [
    "print(\"Lasso Regression Coefficients are:{}\".format(lasso.coef_))\n",
    "print(\"Lasso Linear Regression Intercept:{}\".format(lasso.intercept_))"
   ]
  },
  {
   "cell_type": "code",
   "execution_count": null,
   "metadata": {},
   "outputs": [],
   "source": [
    "print(\"Ridge Regression Coefficients are:{}\".format(ridge.coef_))\n",
    "print(\"Ridge Linear Regression Intercept:{}\".format(ridge.intercept_))"
   ]
  },
  {
   "cell_type": "code",
   "execution_count": null,
   "metadata": {},
   "outputs": [],
   "source": [
    "# create predictions\n",
    "y_h_ridge_train = ridge.predict(X_train)\n",
    "y_h_ridge_test = ridge.predict(X_test)\n",
    "\n",
    "y_h_lasso_train = np.reshape(lasso.predict(X_train),(2490,1))\n",
    "y_h_lasso_test = np.reshape(lasso.predict(X_test),(623,1))\n",
    "\n",
    "y_h_lin_train = lin.predict(X_train)\n",
    "y_h_lin_test = lin.predict(X_test)"
   ]
  },
  {
   "cell_type": "code",
   "execution_count": null,
   "metadata": {},
   "outputs": [],
   "source": [
    "# examine the residual sum of sq\n",
    "print('Train Error Ridge Model', np.sum((y_train - y_h_ridge_train)**2))\n",
    "print('Test Error Ridge Model', np.sum((y_test - y_h_ridge_test)**2))\n",
    "print('\\n')\n",
    "\n",
    "print('Train Error Lasso Model', np.sum((y_train - y_h_lasso_train)**2))\n",
    "print('Test Error Lasso Model', np.sum((y_test - y_h_lasso_test)**2))\n",
    "print('\\n')\n",
    "\n",
    "print('Train Error Unpenalized Linear Model', np.sum((y_train - lin.predict(X_train))**2))\n",
    "print('Test Error Unpenalized Linear Model', np.sum((y_test - lin.predict(X_test))**2))"
   ]
  },
  {
   "cell_type": "code",
   "execution_count": null,
   "metadata": {},
   "outputs": [],
   "source": []
  },
  {
   "cell_type": "code",
   "execution_count": null,
   "metadata": {},
   "outputs": [],
   "source": [
    "# formula = \"Diabetes ~ No_Exercise+Few_Fruit_Veg+Obesity+High_Blood_Pres+Smoker\"\n",
    "model = ols(formula= formula2, data=log_scale_df).fit()"
   ]
  },
  {
   "cell_type": "code",
   "execution_count": null,
   "metadata": {},
   "outputs": [],
   "source": [
    "model.summary()"
   ]
  },
  {
   "cell_type": "code",
   "execution_count": null,
   "metadata": {},
   "outputs": [],
   "source": []
  }
 ],
 "metadata": {
  "kernelspec": {
   "display_name": "Python 3",
   "language": "python",
   "name": "python3"
  },
  "language_info": {
   "codemirror_mode": {
    "name": "ipython",
    "version": 3
   },
   "file_extension": ".py",
   "mimetype": "text/x-python",
   "name": "python",
   "nbconvert_exporter": "python",
   "pygments_lexer": "ipython3",
   "version": "3.7.3"
  }
 },
 "nbformat": 4,
 "nbformat_minor": 2
}
